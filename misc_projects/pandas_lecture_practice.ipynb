{
 "cells": [
  {
   "cell_type": "code",
   "execution_count": 1,
   "id": "53421c85",
   "metadata": {},
   "outputs": [],
   "source": [
    "import pandas as pd"
   ]
  },
  {
   "cell_type": "code",
   "execution_count": 2,
   "id": "e87e1e41",
   "metadata": {},
   "outputs": [
    {
     "data": {
      "text/plain": [
       "'2.2.3'"
      ]
     },
     "execution_count": 2,
     "metadata": {},
     "output_type": "execute_result"
    }
   ],
   "source": [
    "pd.__version__"
   ]
  },
  {
   "cell_type": "code",
   "execution_count": 3,
   "id": "3bc851de",
   "metadata": {},
   "outputs": [],
   "source": [
    "ages = [12,34,56]"
   ]
  },
  {
   "cell_type": "code",
   "execution_count": 4,
   "id": "49a65a70",
   "metadata": {},
   "outputs": [
    {
     "data": {
      "text/plain": [
       "0    12.0\n",
       "1    34.0\n",
       "2    56.0\n",
       "dtype: float64"
      ]
     },
     "execution_count": 4,
     "metadata": {},
     "output_type": "execute_result"
    }
   ],
   "source": [
    "pd.Series(ages,dtype='float')"
   ]
  },
  {
   "cell_type": "code",
   "execution_count": 5,
   "id": "65e28fae",
   "metadata": {},
   "outputs": [
    {
     "data": {
      "text/plain": [
       "[1, 2, 3, 4, 5]"
      ]
     },
     "execution_count": 5,
     "metadata": {},
     "output_type": "execute_result"
    }
   ],
   "source": [
    "list(pd.RangeIndex(start=1,stop=6,step=1))"
   ]
  },
  {
   "cell_type": "code",
   "execution_count": 6,
   "id": "31778698",
   "metadata": {},
   "outputs": [],
   "source": [
    "Car_types = ['Sedan','Hatchback','Coupe','SUV']"
   ]
  },
  {
   "cell_type": "code",
   "execution_count": 7,
   "id": "b8f5fdfc",
   "metadata": {},
   "outputs": [],
   "source": [
    "Car_length = [4,3,5,4]"
   ]
  },
  {
   "cell_type": "code",
   "execution_count": 8,
   "id": "e54db80c",
   "metadata": {},
   "outputs": [],
   "source": [
    "Car_specs=pd.Series(data=Car_length,index=Car_types,name='Car Description')"
   ]
  },
  {
   "cell_type": "code",
   "execution_count": 9,
   "id": "6e6efb31",
   "metadata": {},
   "outputs": [
    {
     "name": "stdout",
     "output_type": "stream",
     "text": [
      "Sedan        4\n",
      "Hatchback    3\n",
      "Coupe        5\n",
      "SUV          4\n",
      "Name: Car Description, dtype: int64\n"
     ]
    }
   ],
   "source": [
    "print(Car_specs)"
   ]
  },
  {
   "cell_type": "code",
   "execution_count": 10,
   "id": "2a5270bc",
   "metadata": {},
   "outputs": [
    {
     "data": {
      "text/plain": [
       "{'Sedan': 4, 'Hatchback': 3, 'Coupe': 5, 'SUV': 4}"
      ]
     },
     "execution_count": 10,
     "metadata": {},
     "output_type": "execute_result"
    }
   ],
   "source": [
    "Car_dict = {'Sedan':4,'Hatchback':3,'Coupe':5,'SUV':4}\n",
    "Car_dict"
   ]
  },
  {
   "cell_type": "code",
   "execution_count": 11,
   "id": "aaa5862c",
   "metadata": {},
   "outputs": [],
   "source": [
    "Car_specs2=pd.Series(Car_dict)"
   ]
  },
  {
   "cell_type": "code",
   "execution_count": 12,
   "id": "ed4805df",
   "metadata": {},
   "outputs": [
    {
     "data": {
      "text/plain": [
       "Sedan        4\n",
       "Hatchback    3\n",
       "Coupe        5\n",
       "SUV          4\n",
       "dtype: int64"
      ]
     },
     "execution_count": 12,
     "metadata": {},
     "output_type": "execute_result"
    }
   ],
   "source": [
    "Car_specs2"
   ]
  },
  {
   "cell_type": "code",
   "execution_count": 13,
   "id": "6c93c4cc",
   "metadata": {},
   "outputs": [
    {
     "data": {
      "text/plain": [
       "{'Sedan': 4, 'Hatchback': 3, 'Coupe': 5, 'SUV': 4}"
      ]
     },
     "execution_count": 13,
     "metadata": {},
     "output_type": "execute_result"
    }
   ],
   "source": [
    "Car_desc_list=list(zip(Car_types,Car_length))\n",
    "Car_desc_dict=dict(zip(Car_types,Car_length))\n",
    "Car_desc_list\n",
    "Car_desc_dict"
   ]
  },
  {
   "cell_type": "code",
   "execution_count": 14,
   "id": "17814fa2",
   "metadata": {},
   "outputs": [
    {
     "data": {
      "text/plain": [
       "[('Sedan', 4), ('Hatchback', 3), ('Coupe', 5), ('SUV', 4)]"
      ]
     },
     "execution_count": 14,
     "metadata": {},
     "output_type": "execute_result"
    }
   ],
   "source": [
    "Car_desc_list"
   ]
  },
  {
   "cell_type": "code",
   "execution_count": 15,
   "id": "9667fefd",
   "metadata": {},
   "outputs": [
    {
     "data": {
      "text/plain": [
       "Sedan        4\n",
       "Hatchback    3\n",
       "Coupe        5\n",
       "SUV          4\n",
       "dtype: int64"
      ]
     },
     "execution_count": 15,
     "metadata": {},
     "output_type": "execute_result"
    }
   ],
   "source": [
    "pd.Series(Car_desc_dict)"
   ]
  },
  {
   "cell_type": "code",
   "execution_count": 16,
   "id": "d0e30dfa",
   "metadata": {},
   "outputs": [
    {
     "data": {
      "text/plain": [
       "{'Sedan': 4, 'Hatchback': 3, 'Coupe': 5, 'SUV': 4}"
      ]
     },
     "execution_count": 16,
     "metadata": {},
     "output_type": "execute_result"
    }
   ],
   "source": [
    "{Car_ty:Car_len for Car_ty,Car_len in zip(Car_types,Car_length)}"
   ]
  },
  {
   "cell_type": "code",
   "execution_count": 17,
   "id": "34ebc93e",
   "metadata": {},
   "outputs": [
    {
     "name": "stdout",
     "output_type": "stream",
     "text": [
      "Help on class zip in module builtins:\n",
      "\n",
      "class zip(object)\n",
      " |  zip(*iterables, strict=False)\n",
      " |\n",
      " |  The zip object yields n-length tuples, where n is the number of iterables\n",
      " |  passed as positional arguments to zip().  The i-th element in every tuple\n",
      " |  comes from the i-th iterable argument to zip().  This continues until the\n",
      " |  shortest argument is exhausted.\n",
      " |\n",
      " |  If strict is true and one of the arguments is exhausted before the others,\n",
      " |  raise a ValueError.\n",
      " |\n",
      " |     >>> list(zip('abcdefg', range(3), range(4)))\n",
      " |     [('a', 0, 0), ('b', 1, 1), ('c', 2, 2)]\n",
      " |\n",
      " |  Methods defined here:\n",
      " |\n",
      " |  __getattribute__(self, name, /)\n",
      " |      Return getattr(self, name).\n",
      " |\n",
      " |  __iter__(self, /)\n",
      " |      Implement iter(self).\n",
      " |\n",
      " |  __next__(self, /)\n",
      " |      Implement next(self).\n",
      " |\n",
      " |  __reduce__(self, /)\n",
      " |      Return state information for pickling.\n",
      " |\n",
      " |  __setstate__(self, object, /)\n",
      " |      Set state information for unpickling.\n",
      " |\n",
      " |  ----------------------------------------------------------------------\n",
      " |  Static methods defined here:\n",
      " |\n",
      " |  __new__(*args, **kwargs)\n",
      " |      Create and return a new object.  See help(type) for accurate signature.\n",
      "\n"
     ]
    }
   ],
   "source": [
    "help(zip)"
   ]
  },
  {
   "cell_type": "code",
   "execution_count": 18,
   "id": "2fe9f964",
   "metadata": {},
   "outputs": [
    {
     "data": {
      "text/plain": [
       "0      0\n",
       "1      1\n",
       "2      2\n",
       "3      3\n",
       "4      4\n",
       "      ..\n",
       "95    95\n",
       "96    96\n",
       "97    97\n",
       "98    98\n",
       "99    99\n",
       "Length: 100, dtype: int64"
      ]
     },
     "execution_count": 18,
     "metadata": {},
     "output_type": "execute_result"
    }
   ],
   "source": [
    "pd.Series(range(100))"
   ]
  },
  {
   "cell_type": "code",
   "execution_count": 19,
   "id": "5cb8ad01",
   "metadata": {},
   "outputs": [],
   "source": [
    "pd.options.display.min_rows = 40"
   ]
  },
  {
   "cell_type": "code",
   "execution_count": 20,
   "id": "5f59f529",
   "metadata": {},
   "outputs": [
    {
     "data": {
      "text/plain": [
       "0      0\n",
       "1      1\n",
       "2      2\n",
       "3      3\n",
       "4      4\n",
       "5      5\n",
       "6      6\n",
       "7      7\n",
       "8      8\n",
       "9      9\n",
       "10    10\n",
       "11    11\n",
       "12    12\n",
       "13    13\n",
       "14    14\n",
       "15    15\n",
       "16    16\n",
       "17    17\n",
       "18    18\n",
       "19    19\n",
       "      ..\n",
       "80    80\n",
       "81    81\n",
       "82    82\n",
       "83    83\n",
       "84    84\n",
       "85    85\n",
       "86    86\n",
       "87    87\n",
       "88    88\n",
       "89    89\n",
       "90    90\n",
       "91    91\n",
       "92    92\n",
       "93    93\n",
       "94    94\n",
       "95    95\n",
       "96    96\n",
       "97    97\n",
       "98    98\n",
       "99    99\n",
       "Length: 100, dtype: int64"
      ]
     },
     "execution_count": 20,
     "metadata": {},
     "output_type": "execute_result"
    }
   ],
   "source": [
    "pd.Series(range(100))"
   ]
  },
  {
   "cell_type": "code",
   "execution_count": 21,
   "id": "74b1d738",
   "metadata": {},
   "outputs": [],
   "source": [
    "from string import ascii_lowercase"
   ]
  },
  {
   "cell_type": "code",
   "execution_count": 22,
   "id": "210f2e09",
   "metadata": {},
   "outputs": [
    {
     "data": {
      "text/plain": [
       "'abcdefghijklmnopqrstuvwxyz'"
      ]
     },
     "execution_count": 22,
     "metadata": {},
     "output_type": "execute_result"
    }
   ],
   "source": [
    "ascii_lowercase"
   ]
  },
  {
   "cell_type": "code",
   "execution_count": 23,
   "id": "66fe6166",
   "metadata": {},
   "outputs": [
    {
     "data": {
      "text/plain": [
       "['a',\n",
       " 'b',\n",
       " 'c',\n",
       " 'd',\n",
       " 'e',\n",
       " 'f',\n",
       " 'g',\n",
       " 'h',\n",
       " 'i',\n",
       " 'j',\n",
       " 'k',\n",
       " 'l',\n",
       " 'm',\n",
       " 'n',\n",
       " 'o',\n",
       " 'p',\n",
       " 'q',\n",
       " 'r',\n",
       " 's',\n",
       " 't',\n",
       " 'u',\n",
       " 'v',\n",
       " 'w',\n",
       " 'x',\n",
       " 'y',\n",
       " 'z']"
      ]
     },
     "execution_count": 23,
     "metadata": {},
     "output_type": "execute_result"
    }
   ],
   "source": [
    "list(ascii_lowercase)"
   ]
  },
  {
   "cell_type": "code",
   "execution_count": 24,
   "id": "f7b078c5",
   "metadata": {},
   "outputs": [],
   "source": [
    "letters = list(ascii_lowercase)"
   ]
  },
  {
   "cell_type": "code",
   "execution_count": 25,
   "id": "44c492fd",
   "metadata": {},
   "outputs": [],
   "source": [
    "alphabet = pd.Series(letters)"
   ]
  },
  {
   "cell_type": "code",
   "execution_count": 26,
   "id": "1489e8cc",
   "metadata": {},
   "outputs": [
    {
     "data": {
      "text/plain": [
       "0     a\n",
       "1     b\n",
       "2     c\n",
       "3     d\n",
       "4     e\n",
       "5     f\n",
       "6     g\n",
       "7     h\n",
       "8     i\n",
       "9     j\n",
       "10    k\n",
       "11    l\n",
       "12    m\n",
       "13    n\n",
       "14    o\n",
       "15    p\n",
       "16    q\n",
       "17    r\n",
       "18    s\n",
       "19    t\n",
       "20    u\n",
       "21    v\n",
       "22    w\n",
       "23    x\n",
       "24    y\n",
       "25    z\n",
       "dtype: object"
      ]
     },
     "execution_count": 26,
     "metadata": {},
     "output_type": "execute_result"
    }
   ],
   "source": [
    "alphabet"
   ]
  },
  {
   "cell_type": "code",
   "execution_count": 27,
   "id": "841e0a16",
   "metadata": {},
   "outputs": [
    {
     "data": {
      "text/plain": [
       "'d'"
      ]
     },
     "execution_count": 27,
     "metadata": {},
     "output_type": "execute_result"
    }
   ],
   "source": [
    "alphabet[3]"
   ]
  },
  {
   "cell_type": "code",
   "execution_count": 28,
   "id": "79a18e39",
   "metadata": {},
   "outputs": [
    {
     "data": {
      "text/plain": [
       "0    a\n",
       "1    b\n",
       "2    c\n",
       "3    d\n",
       "dtype: object"
      ]
     },
     "execution_count": 28,
     "metadata": {},
     "output_type": "execute_result"
    }
   ],
   "source": [
    "alphabet[:4]"
   ]
  },
  {
   "cell_type": "code",
   "execution_count": 29,
   "id": "65ffe434",
   "metadata": {},
   "outputs": [
    {
     "data": {
      "text/plain": [
       "0     a\n",
       "1     b\n",
       "2     c\n",
       "3     d\n",
       "4     e\n",
       "5     f\n",
       "6     g\n",
       "7     h\n",
       "8     i\n",
       "9     j\n",
       "10    k\n",
       "11    l\n",
       "12    m\n",
       "13    n\n",
       "14    o\n",
       "15    p\n",
       "16    q\n",
       "17    r\n",
       "18    s\n",
       "19    t\n",
       "dtype: object"
      ]
     },
     "execution_count": 29,
     "metadata": {},
     "output_type": "execute_result"
    }
   ],
   "source": [
    "alphabet[:-6]"
   ]
  },
  {
   "cell_type": "code",
   "execution_count": 30,
   "id": "58b65448",
   "metadata": {},
   "outputs": [
    {
     "data": {
      "text/plain": [
       "20    u\n",
       "21    v\n",
       "22    w\n",
       "23    x\n",
       "24    y\n",
       "25    z\n",
       "dtype: object"
      ]
     },
     "execution_count": 30,
     "metadata": {},
     "output_type": "execute_result"
    }
   ],
   "source": [
    "alphabet[-6:]"
   ]
  },
  {
   "cell_type": "code",
   "execution_count": 31,
   "id": "678f2215",
   "metadata": {},
   "outputs": [],
   "source": [
    "from string import ascii_uppercase"
   ]
  },
  {
   "cell_type": "code",
   "execution_count": 32,
   "id": "6e6fc22d",
   "metadata": {},
   "outputs": [
    {
     "data": {
      "text/plain": [
       "'ABCDEFGHIJKLMNOPQRSTUVWXYZ'"
      ]
     },
     "execution_count": 32,
     "metadata": {},
     "output_type": "execute_result"
    }
   ],
   "source": [
    "ascii_uppercase"
   ]
  },
  {
   "cell_type": "code",
   "execution_count": 33,
   "id": "0db0c8a1",
   "metadata": {},
   "outputs": [],
   "source": [
    "labeled_alphabet = pd.Series(data=list(ascii_lowercase),index=list(ascii_uppercase))"
   ]
  },
  {
   "cell_type": "code",
   "execution_count": 34,
   "id": "119ca79d",
   "metadata": {},
   "outputs": [
    {
     "data": {
      "text/plain": [
       "A    a\n",
       "B    b\n",
       "C    c\n",
       "D    d\n",
       "E    e\n",
       "F    f\n",
       "G    g\n",
       "H    h\n",
       "I    i\n",
       "J    j\n",
       "K    k\n",
       "L    l\n",
       "M    m\n",
       "N    n\n",
       "O    o\n",
       "P    p\n",
       "Q    q\n",
       "R    r\n",
       "S    s\n",
       "T    t\n",
       "U    u\n",
       "V    v\n",
       "W    w\n",
       "X    x\n",
       "Y    y\n",
       "Z    z\n",
       "dtype: object"
      ]
     },
     "execution_count": 34,
     "metadata": {},
     "output_type": "execute_result"
    }
   ],
   "source": [
    "labeled_alphabet"
   ]
  },
  {
   "cell_type": "code",
   "execution_count": 35,
   "id": "677e4466",
   "metadata": {},
   "outputs": [],
   "source": [
    "labeled_alphabet = pd.Series(data=list(ascii_lowercase),index=map(lambda x: 'label_' + x, list(ascii_uppercase)))"
   ]
  },
  {
   "cell_type": "code",
   "execution_count": 36,
   "id": "c1d07f93",
   "metadata": {},
   "outputs": [
    {
     "data": {
      "text/plain": [
       "label_A    a\n",
       "label_B    b\n",
       "label_C    c\n",
       "label_D    d\n",
       "label_E    e\n",
       "label_F    f\n",
       "label_G    g\n",
       "label_H    h\n",
       "label_I    i\n",
       "label_J    j\n",
       "label_K    k\n",
       "label_L    l\n",
       "label_M    m\n",
       "label_N    n\n",
       "label_O    o\n",
       "label_P    p\n",
       "label_Q    q\n",
       "label_R    r\n",
       "label_S    s\n",
       "label_T    t\n",
       "label_U    u\n",
       "label_V    v\n",
       "label_W    w\n",
       "label_X    x\n",
       "label_Y    y\n",
       "label_Z    z\n",
       "dtype: object"
      ]
     },
     "execution_count": 36,
     "metadata": {},
     "output_type": "execute_result"
    }
   ],
   "source": [
    "labeled_alphabet"
   ]
  },
  {
   "cell_type": "code",
   "execution_count": 37,
   "id": "5749067f",
   "metadata": {},
   "outputs": [
    {
     "name": "stdout",
     "output_type": "stream",
     "text": [
      "Help on class map in module builtins:\n",
      "\n",
      "class map(object)\n",
      " |  map(function, iterable, /, *iterables)\n",
      " |\n",
      " |  Make an iterator that computes the function using arguments from\n",
      " |  each of the iterables.  Stops when the shortest iterable is exhausted.\n",
      " |\n",
      " |  Methods defined here:\n",
      " |\n",
      " |  __getattribute__(self, name, /)\n",
      " |      Return getattr(self, name).\n",
      " |\n",
      " |  __iter__(self, /)\n",
      " |      Implement iter(self).\n",
      " |\n",
      " |  __next__(self, /)\n",
      " |      Implement next(self).\n",
      " |\n",
      " |  __reduce__(self, /)\n",
      " |      Return state information for pickling.\n",
      " |\n",
      " |  ----------------------------------------------------------------------\n",
      " |  Static methods defined here:\n",
      " |\n",
      " |  __new__(*args, **kwargs)\n",
      " |      Create and return a new object.  See help(type) for accurate signature.\n",
      "\n"
     ]
    }
   ],
   "source": [
    "help(map)"
   ]
  },
  {
   "cell_type": "code",
   "execution_count": 38,
   "id": "0cc91eb7",
   "metadata": {},
   "outputs": [
    {
     "data": {
      "text/plain": [
       "label_A    a\n",
       "label_B    b\n",
       "label_C    c\n",
       "dtype: object"
      ]
     },
     "execution_count": 38,
     "metadata": {},
     "output_type": "execute_result"
    }
   ],
   "source": [
    "labeled_alphabet['label_A':'label_C']"
   ]
  },
  {
   "cell_type": "code",
   "execution_count": 39,
   "id": "878f2a56",
   "metadata": {},
   "outputs": [
    {
     "data": {
      "text/plain": [
       "'c'"
      ]
     },
     "execution_count": 39,
     "metadata": {},
     "output_type": "execute_result"
    }
   ],
   "source": [
    "labeled_alphabet.label_C\n"
   ]
  },
  {
   "cell_type": "code",
   "execution_count": 40,
   "id": "beb1050a",
   "metadata": {},
   "outputs": [
    {
     "data": {
      "text/plain": [
       "label_A    a\n",
       "label_B    b\n",
       "label_C    c\n",
       "dtype: object"
      ]
     },
     "execution_count": 40,
     "metadata": {},
     "output_type": "execute_result"
    }
   ],
   "source": [
    "labeled_alphabet.loc['label_A':'label_C']"
   ]
  },
  {
   "cell_type": "code",
   "execution_count": 41,
   "id": "40708444",
   "metadata": {},
   "outputs": [
    {
     "data": {
      "text/plain": [
       "Sedan        4\n",
       "Hatchback    3\n",
       "Coupe        5\n",
       "SUV          4\n",
       "Name: Car Description, dtype: int64"
      ]
     },
     "execution_count": 41,
     "metadata": {},
     "output_type": "execute_result"
    }
   ],
   "source": [
    "Car_specs"
   ]
  },
  {
   "cell_type": "code",
   "execution_count": 42,
   "id": "1c8270b1",
   "metadata": {},
   "outputs": [
    {
     "data": {
      "text/plain": [
       "Sedan        4\n",
       "Hatchback    3\n",
       "Coupe        5\n",
       "SUV          4\n",
       "Name: Car Description, dtype: int64"
      ]
     },
     "execution_count": 42,
     "metadata": {},
     "output_type": "execute_result"
    }
   ],
   "source": [
    "Car_specs.loc[[True,True,True,True]]"
   ]
  },
  {
   "cell_type": "code",
   "execution_count": 43,
   "id": "f96e0d8e",
   "metadata": {},
   "outputs": [
    {
     "data": {
      "text/plain": [
       "Sedan        4\n",
       "Hatchback    3\n",
       "SUV          4\n",
       "Name: Car Description, dtype: int64"
      ]
     },
     "execution_count": 43,
     "metadata": {},
     "output_type": "execute_result"
    }
   ],
   "source": [
    "Car_specs.loc[[True,True,False,True]]"
   ]
  },
  {
   "cell_type": "code",
   "execution_count": 44,
   "id": "9902505f",
   "metadata": {},
   "outputs": [
    {
     "data": {
      "text/plain": [
       "label_A    a\n",
       "label_B    b\n",
       "label_C    c\n",
       "label_D    d\n",
       "label_E    e\n",
       "label_F    f\n",
       "label_G    g\n",
       "label_H    h\n",
       "label_I    i\n",
       "label_J    j\n",
       "label_K    k\n",
       "label_L    l\n",
       "label_M    m\n",
       "label_N    n\n",
       "label_O    o\n",
       "label_P    p\n",
       "label_Q    q\n",
       "label_R    r\n",
       "label_S    s\n",
       "label_T    t\n",
       "label_U    u\n",
       "label_V    v\n",
       "label_W    w\n",
       "label_X    x\n",
       "label_Y    y\n",
       "label_Z    z\n",
       "dtype: object"
      ]
     },
     "execution_count": 44,
     "metadata": {},
     "output_type": "execute_result"
    }
   ],
   "source": [
    "labeled_alphabet.loc[[True for i in range(26)]]"
   ]
  },
  {
   "cell_type": "code",
   "execution_count": 45,
   "id": "2e7e3528",
   "metadata": {},
   "outputs": [
    {
     "data": {
      "text/plain": [
       "label_A    a\n",
       "label_C    c\n",
       "label_E    e\n",
       "label_G    g\n",
       "label_I    i\n",
       "label_K    k\n",
       "label_M    m\n",
       "label_O    o\n",
       "label_Q    q\n",
       "label_S    s\n",
       "label_U    u\n",
       "label_W    w\n",
       "label_Y    y\n",
       "dtype: object"
      ]
     },
     "execution_count": 45,
     "metadata": {},
     "output_type": "execute_result"
    }
   ],
   "source": [
    "labeled_alphabet.loc[[True if i%2==0 else False for i in range(26)]]"
   ]
  },
  {
   "cell_type": "code",
   "execution_count": 46,
   "id": "0e008f0f",
   "metadata": {},
   "outputs": [
    {
     "data": {
      "text/plain": [
       "label_A    a\n",
       "label_C    c\n",
       "label_E    e\n",
       "label_G    g\n",
       "label_I    i\n",
       "label_K    k\n",
       "label_M    m\n",
       "label_O    o\n",
       "label_Q    q\n",
       "label_S    s\n",
       "label_U    u\n",
       "label_W    w\n",
       "label_Y    y\n",
       "dtype: object"
      ]
     },
     "execution_count": 46,
     "metadata": {},
     "output_type": "execute_result"
    }
   ],
   "source": [
    "result = []\n",
    "for i in range(26):\n",
    "    if i % 2 == 0:\n",
    "        result.append(True)\n",
    "    else:\n",
    "        result.append(False)\n",
    "        \n",
    "labeled_alphabet.loc[result]\n"
   ]
  },
  {
   "cell_type": "code",
   "execution_count": 47,
   "id": "7db50a39",
   "metadata": {},
   "outputs": [
    {
     "data": {
      "text/plain": [
       "label_B    b\n",
       "label_C    c\n",
       "dtype: object"
      ]
     },
     "execution_count": 47,
     "metadata": {},
     "output_type": "execute_result"
    }
   ],
   "source": [
    "labeled_alphabet.iloc[1:3]"
   ]
  },
  {
   "cell_type": "code",
   "execution_count": 48,
   "id": "4afa5b60",
   "metadata": {},
   "outputs": [
    {
     "data": {
      "text/plain": [
       "label_B    b\n",
       "label_D    d\n",
       "label_E    e\n",
       "dtype: object"
      ]
     },
     "execution_count": 48,
     "metadata": {},
     "output_type": "execute_result"
    }
   ],
   "source": [
    "labeled_alphabet.iloc[[1,3,4]]"
   ]
  },
  {
   "cell_type": "code",
   "execution_count": 49,
   "id": "fe5640b6",
   "metadata": {},
   "outputs": [
    {
     "data": {
      "text/plain": [
       "'a'"
      ]
     },
     "execution_count": 49,
     "metadata": {},
     "output_type": "execute_result"
    }
   ],
   "source": [
    "labeled_alphabet.iloc[0]"
   ]
  },
  {
   "cell_type": "code",
   "execution_count": 50,
   "id": "fd820b87",
   "metadata": {},
   "outputs": [
    {
     "data": {
      "text/plain": [
       "'q'"
      ]
     },
     "execution_count": 50,
     "metadata": {},
     "output_type": "execute_result"
    }
   ],
   "source": [
    "labeled_alphabet.loc['label_Q']"
   ]
  },
  {
   "cell_type": "code",
   "execution_count": 51,
   "id": "270aa6cf",
   "metadata": {},
   "outputs": [
    {
     "data": {
      "text/plain": [
       "'q'"
      ]
     },
     "execution_count": 51,
     "metadata": {},
     "output_type": "execute_result"
    }
   ],
   "source": [
    "labeled_alphabet.loc[lambda x: 'label_Q']"
   ]
  },
  {
   "cell_type": "code",
   "execution_count": 52,
   "id": "27af7e81",
   "metadata": {},
   "outputs": [
    {
     "data": {
      "text/plain": [
       "label_P    p\n",
       "label_Q    q\n",
       "dtype: object"
      ]
     },
     "execution_count": 52,
     "metadata": {},
     "output_type": "execute_result"
    }
   ],
   "source": [
    "labeled_alphabet.loc[lambda x: ['label_P','label_Q']]"
   ]
  },
  {
   "cell_type": "code",
   "execution_count": 53,
   "id": "9202080d",
   "metadata": {},
   "outputs": [
    {
     "data": {
      "text/plain": [
       "label_A    a\n",
       "label_B    b\n",
       "label_C    c\n",
       "label_D    d\n",
       "label_E    e\n",
       "label_F    f\n",
       "label_G    g\n",
       "label_H    h\n",
       "label_I    i\n",
       "label_J    j\n",
       "label_K    k\n",
       "label_L    l\n",
       "label_M    m\n",
       "label_N    n\n",
       "label_O    o\n",
       "label_P    p\n",
       "label_Q    q\n",
       "label_R    r\n",
       "label_S    s\n",
       "label_T    t\n",
       "label_U    u\n",
       "label_V    v\n",
       "label_W    w\n",
       "label_X    x\n",
       "label_Y    y\n",
       "label_Z    z\n",
       "dtype: object"
      ]
     },
     "execution_count": 53,
     "metadata": {},
     "output_type": "execute_result"
    }
   ],
   "source": [
    "labeled_alphabet.loc[lambda x: [True for i in range(26)]]"
   ]
  },
  {
   "cell_type": "code",
   "execution_count": 54,
   "id": "2a920953",
   "metadata": {},
   "outputs": [
    {
     "data": {
      "text/plain": [
       "label_A    a\n",
       "label_B    b\n",
       "label_C    c\n",
       "label_D    d\n",
       "label_E    e\n",
       "label_F    f\n",
       "label_G    g\n",
       "label_H    h\n",
       "label_I    i\n",
       "label_J    j\n",
       "label_K    k\n",
       "label_L    l\n",
       "label_M    m\n",
       "label_N    n\n",
       "label_O    o\n",
       "label_P    p\n",
       "label_Q    q\n",
       "label_R    r\n",
       "label_S    s\n",
       "label_T    t\n",
       "label_U    u\n",
       "label_V    v\n",
       "label_W    w\n",
       "label_X    x\n",
       "label_Y    y\n",
       "label_Z    z\n",
       "dtype: object"
      ]
     },
     "execution_count": 54,
     "metadata": {},
     "output_type": "execute_result"
    }
   ],
   "source": [
    "labeled_alphabet.loc[lambda x: [True for i in range(x.size)]]"
   ]
  },
  {
   "cell_type": "code",
   "execution_count": 55,
   "id": "dbe377fc",
   "metadata": {},
   "outputs": [],
   "source": [
    "def every_fifth(x):\n",
    "    return [True if i%5==0 else False for i in range(x.size)]"
   ]
  },
  {
   "cell_type": "code",
   "execution_count": 56,
   "id": "be134bd6",
   "metadata": {},
   "outputs": [
    {
     "data": {
      "text/plain": [
       "label_A    a\n",
       "label_F    f\n",
       "label_K    k\n",
       "label_P    p\n",
       "label_U    u\n",
       "label_Z    z\n",
       "dtype: object"
      ]
     },
     "execution_count": 56,
     "metadata": {},
     "output_type": "execute_result"
    }
   ],
   "source": [
    "labeled_alphabet.iloc[every_fifth]"
   ]
  },
  {
   "cell_type": "code",
   "execution_count": 57,
   "id": "2733bac0",
   "metadata": {},
   "outputs": [
    {
     "data": {
      "text/plain": [
       "'q'"
      ]
     },
     "execution_count": 57,
     "metadata": {},
     "output_type": "execute_result"
    }
   ],
   "source": [
    "labeled_alphabet.get('label_Q')"
   ]
  },
  {
   "cell_type": "code",
   "execution_count": 58,
   "id": "b9fb56ba",
   "metadata": {},
   "outputs": [],
   "source": [
    "labeled_alphabet.get('label_QQ')"
   ]
  },
  {
   "cell_type": "code",
   "execution_count": 59,
   "id": "94b88165",
   "metadata": {},
   "outputs": [
    {
     "name": "stderr",
     "output_type": "stream",
     "text": [
      "C:\\Users\\kpras\\AppData\\Local\\Temp\\ipykernel_17404\\3625765164.py:1: FutureWarning: Series.__getitem__ treating keys as positions is deprecated. In a future version, integer keys will always be treated as labels (consistent with DataFrame behavior). To access a value by position, use `ser.iloc[pos]`\n",
      "  labeled_alphabet.get(8)\n"
     ]
    },
    {
     "data": {
      "text/plain": [
       "'i'"
      ]
     },
     "execution_count": 59,
     "metadata": {},
     "output_type": "execute_result"
    }
   ],
   "source": [
    "labeled_alphabet.get(8)"
   ]
  },
  {
   "cell_type": "code",
   "execution_count": 60,
   "id": "456e0ac1",
   "metadata": {},
   "outputs": [
    {
     "data": {
      "text/plain": [
       "[0,\n",
       " 1,\n",
       " 4,\n",
       " 9,\n",
       " 16,\n",
       " 25,\n",
       " 36,\n",
       " 49,\n",
       " 64,\n",
       " 81,\n",
       " 100,\n",
       " 121,\n",
       " 144,\n",
       " 169,\n",
       " 196,\n",
       " 225,\n",
       " 256,\n",
       " 289,\n",
       " 324,\n",
       " 361,\n",
       " 400,\n",
       " 441,\n",
       " 484,\n",
       " 529,\n",
       " 576,\n",
       " 625,\n",
       " 676,\n",
       " 729,\n",
       " 784,\n",
       " 841,\n",
       " 900,\n",
       " 961,\n",
       " 1024,\n",
       " 1089,\n",
       " 1156,\n",
       " 1225,\n",
       " 1296,\n",
       " 1369,\n",
       " 1444,\n",
       " 1521,\n",
       " 1600,\n",
       " 1681,\n",
       " 1764,\n",
       " 1849,\n",
       " 1936,\n",
       " 2025,\n",
       " 2116,\n",
       " 2209,\n",
       " 2304,\n",
       " 2401,\n",
       " 2500,\n",
       " 2601,\n",
       " 2704,\n",
       " 2809,\n",
       " 2916,\n",
       " 3025,\n",
       " 3136,\n",
       " 3249,\n",
       " 3364,\n",
       " 3481,\n",
       " 3600,\n",
       " 3721,\n",
       " 3844,\n",
       " 3969,\n",
       " 4096,\n",
       " 4225,\n",
       " 4356,\n",
       " 4489,\n",
       " 4624,\n",
       " 4761,\n",
       " 4900,\n",
       " 5041,\n",
       " 5184,\n",
       " 5329,\n",
       " 5476,\n",
       " 5625,\n",
       " 5776,\n",
       " 5929,\n",
       " 6084,\n",
       " 6241,\n",
       " 6400,\n",
       " 6561,\n",
       " 6724,\n",
       " 6889,\n",
       " 7056,\n",
       " 7225,\n",
       " 7396,\n",
       " 7569,\n",
       " 7744,\n",
       " 7921,\n",
       " 8100,\n",
       " 8281,\n",
       " 8464,\n",
       " 8649,\n",
       " 8836,\n",
       " 9025,\n",
       " 9216,\n",
       " 9409,\n",
       " 9604,\n",
       " 9801]"
      ]
     },
     "execution_count": 60,
     "metadata": {},
     "output_type": "execute_result"
    }
   ],
   "source": [
    "squares = [i*i for i in range(100)]\n",
    "squares"
   ]
  },
  {
   "cell_type": "code",
   "execution_count": 61,
   "id": "c8eb00a8",
   "metadata": {},
   "outputs": [
    {
     "data": {
      "text/plain": [
       "0        0\n",
       "1        1\n",
       "2        4\n",
       "3        9\n",
       "4       16\n",
       "5       25\n",
       "6       36\n",
       "7       49\n",
       "8       64\n",
       "9       81\n",
       "10     100\n",
       "11     121\n",
       "12     144\n",
       "13     169\n",
       "14     196\n",
       "15     225\n",
       "16     256\n",
       "17     289\n",
       "18     324\n",
       "19     361\n",
       "      ... \n",
       "80    6400\n",
       "81    6561\n",
       "82    6724\n",
       "83    6889\n",
       "84    7056\n",
       "85    7225\n",
       "86    7396\n",
       "87    7569\n",
       "88    7744\n",
       "89    7921\n",
       "90    8100\n",
       "91    8281\n",
       "92    8464\n",
       "93    8649\n",
       "94    8836\n",
       "95    9025\n",
       "96    9216\n",
       "97    9409\n",
       "98    9604\n",
       "99    9801\n",
       "Length: 100, dtype: int64"
      ]
     },
     "execution_count": 61,
     "metadata": {},
     "output_type": "execute_result"
    }
   ],
   "source": [
    "pdsqaures=pd.Series(data = squares)\n",
    "pdsqaures"
   ]
  },
  {
   "cell_type": "code",
   "execution_count": 62,
   "id": "15a90e06",
   "metadata": {},
   "outputs": [],
   "source": [
    "Lastthree = pdsqaures[-3:]"
   ]
  },
  {
   "cell_type": "code",
   "execution_count": 63,
   "id": "687889b3",
   "metadata": {},
   "outputs": [],
   "source": [
    "Last3 = pdsqaures.tail(3)"
   ]
  },
  {
   "cell_type": "code",
   "execution_count": 64,
   "id": "9f6aec36",
   "metadata": {},
   "outputs": [
    {
     "data": {
      "text/plain": [
       "True"
      ]
     },
     "execution_count": 64,
     "metadata": {},
     "output_type": "execute_result"
    }
   ],
   "source": [
    "Lastthree.equals(Last3)"
   ]
  },
  {
   "cell_type": "code",
   "execution_count": 65,
   "id": "0965edb9",
   "metadata": {},
   "outputs": [
    {
     "data": {
      "text/plain": [
       "97    True\n",
       "98    True\n",
       "99    True\n",
       "dtype: bool"
      ]
     },
     "execution_count": 65,
     "metadata": {},
     "output_type": "execute_result"
    }
   ],
   "source": [
    "Lastthree == Last3"
   ]
  },
  {
   "cell_type": "code",
   "execution_count": 66,
   "id": "e3147ce2",
   "metadata": {},
   "outputs": [
    {
     "data": {
      "text/html": [
       "<div>\n",
       "<style scoped>\n",
       "    .dataframe tbody tr th:only-of-type {\n",
       "        vertical-align: middle;\n",
       "    }\n",
       "\n",
       "    .dataframe tbody tr th {\n",
       "        vertical-align: top;\n",
       "    }\n",
       "\n",
       "    .dataframe thead th {\n",
       "        text-align: right;\n",
       "    }\n",
       "</style>\n",
       "<table border=\"1\" class=\"dataframe\">\n",
       "  <thead>\n",
       "    <tr style=\"text-align: right;\">\n",
       "      <th></th>\n",
       "      <th>country</th>\n",
       "      <th>beer_servings</th>\n",
       "      <th>spirit_servings</th>\n",
       "      <th>wine_servings</th>\n",
       "      <th>total_litres_of_pure_alcohol</th>\n",
       "    </tr>\n",
       "  </thead>\n",
       "  <tbody>\n",
       "    <tr>\n",
       "      <th>0</th>\n",
       "      <td>Afghanistan</td>\n",
       "      <td>NaN</td>\n",
       "      <td>NaN</td>\n",
       "      <td>NaN</td>\n",
       "      <td>NaN</td>\n",
       "    </tr>\n",
       "    <tr>\n",
       "      <th>1</th>\n",
       "      <td>Albania</td>\n",
       "      <td>89.0</td>\n",
       "      <td>132.0</td>\n",
       "      <td>54.0</td>\n",
       "      <td>4.9</td>\n",
       "    </tr>\n",
       "    <tr>\n",
       "      <th>2</th>\n",
       "      <td>Algeria</td>\n",
       "      <td>25.0</td>\n",
       "      <td>NaN</td>\n",
       "      <td>14.0</td>\n",
       "      <td>0.7</td>\n",
       "    </tr>\n",
       "    <tr>\n",
       "      <th>3</th>\n",
       "      <td>Andorra</td>\n",
       "      <td>245.0</td>\n",
       "      <td>138.0</td>\n",
       "      <td>312.0</td>\n",
       "      <td>12.4</td>\n",
       "    </tr>\n",
       "    <tr>\n",
       "      <th>4</th>\n",
       "      <td>Angola</td>\n",
       "      <td>217.0</td>\n",
       "      <td>57.0</td>\n",
       "      <td>45.0</td>\n",
       "      <td>5.9</td>\n",
       "    </tr>\n",
       "    <tr>\n",
       "      <th>5</th>\n",
       "      <td>Antigua &amp; Barbuda</td>\n",
       "      <td>12.0</td>\n",
       "      <td>128.0</td>\n",
       "      <td>45.0</td>\n",
       "      <td>4.9</td>\n",
       "    </tr>\n",
       "    <tr>\n",
       "      <th>6</th>\n",
       "      <td>Argentina</td>\n",
       "      <td>193.0</td>\n",
       "      <td>25.0</td>\n",
       "      <td>221.0</td>\n",
       "      <td>8.3</td>\n",
       "    </tr>\n",
       "    <tr>\n",
       "      <th>7</th>\n",
       "      <td>Armenia</td>\n",
       "      <td>21.0</td>\n",
       "      <td>179.0</td>\n",
       "      <td>11.0</td>\n",
       "      <td>3.8</td>\n",
       "    </tr>\n",
       "    <tr>\n",
       "      <th>8</th>\n",
       "      <td>Australia</td>\n",
       "      <td>261.0</td>\n",
       "      <td>72.0</td>\n",
       "      <td>212.0</td>\n",
       "      <td>1.4</td>\n",
       "    </tr>\n",
       "    <tr>\n",
       "      <th>9</th>\n",
       "      <td>Austria</td>\n",
       "      <td>279.0</td>\n",
       "      <td>75.0</td>\n",
       "      <td>191.0</td>\n",
       "      <td>9.7</td>\n",
       "    </tr>\n",
       "    <tr>\n",
       "      <th>10</th>\n",
       "      <td>Azerbaijan</td>\n",
       "      <td>21.0</td>\n",
       "      <td>46.0</td>\n",
       "      <td>5.0</td>\n",
       "      <td>1.3</td>\n",
       "    </tr>\n",
       "    <tr>\n",
       "      <th>11</th>\n",
       "      <td>Bahamas</td>\n",
       "      <td>122.0</td>\n",
       "      <td>176.0</td>\n",
       "      <td>51.0</td>\n",
       "      <td>6.3</td>\n",
       "    </tr>\n",
       "    <tr>\n",
       "      <th>12</th>\n",
       "      <td>Bahrain</td>\n",
       "      <td>42.0</td>\n",
       "      <td>63.0</td>\n",
       "      <td>7.0</td>\n",
       "      <td>2.0</td>\n",
       "    </tr>\n",
       "    <tr>\n",
       "      <th>13</th>\n",
       "      <td>Bangladesh</td>\n",
       "      <td>NaN</td>\n",
       "      <td>NaN</td>\n",
       "      <td>NaN</td>\n",
       "      <td>NaN</td>\n",
       "    </tr>\n",
       "    <tr>\n",
       "      <th>14</th>\n",
       "      <td>Barbados</td>\n",
       "      <td>143.0</td>\n",
       "      <td>173.0</td>\n",
       "      <td>36.0</td>\n",
       "      <td>6.3</td>\n",
       "    </tr>\n",
       "    <tr>\n",
       "      <th>15</th>\n",
       "      <td>Belarus</td>\n",
       "      <td>142.0</td>\n",
       "      <td>373.0</td>\n",
       "      <td>42.0</td>\n",
       "      <td>14.4</td>\n",
       "    </tr>\n",
       "    <tr>\n",
       "      <th>16</th>\n",
       "      <td>Belgium</td>\n",
       "      <td>295.0</td>\n",
       "      <td>84.0</td>\n",
       "      <td>212.0</td>\n",
       "      <td>1.5</td>\n",
       "    </tr>\n",
       "    <tr>\n",
       "      <th>17</th>\n",
       "      <td>Belize</td>\n",
       "      <td>263.0</td>\n",
       "      <td>114.0</td>\n",
       "      <td>8.0</td>\n",
       "      <td>6.8</td>\n",
       "    </tr>\n",
       "    <tr>\n",
       "      <th>18</th>\n",
       "      <td>Benin</td>\n",
       "      <td>34.0</td>\n",
       "      <td>4.0</td>\n",
       "      <td>13.0</td>\n",
       "      <td>1.1</td>\n",
       "    </tr>\n",
       "    <tr>\n",
       "      <th>19</th>\n",
       "      <td>Bhutan</td>\n",
       "      <td>23.0</td>\n",
       "      <td>NaN</td>\n",
       "      <td>NaN</td>\n",
       "      <td>0.4</td>\n",
       "    </tr>\n",
       "    <tr>\n",
       "      <th>...</th>\n",
       "      <td>...</td>\n",
       "      <td>...</td>\n",
       "      <td>...</td>\n",
       "      <td>...</td>\n",
       "      <td>...</td>\n",
       "    </tr>\n",
       "    <tr>\n",
       "      <th>173</th>\n",
       "      <td>Tonga</td>\n",
       "      <td>36.0</td>\n",
       "      <td>21.0</td>\n",
       "      <td>5.0</td>\n",
       "      <td>1.1</td>\n",
       "    </tr>\n",
       "    <tr>\n",
       "      <th>174</th>\n",
       "      <td>Trinidad &amp; Tobago</td>\n",
       "      <td>197.0</td>\n",
       "      <td>156.0</td>\n",
       "      <td>7.0</td>\n",
       "      <td>6.4</td>\n",
       "    </tr>\n",
       "    <tr>\n",
       "      <th>175</th>\n",
       "      <td>Tunisia</td>\n",
       "      <td>51.0</td>\n",
       "      <td>3.0</td>\n",
       "      <td>2.0</td>\n",
       "      <td>1.3</td>\n",
       "    </tr>\n",
       "    <tr>\n",
       "      <th>176</th>\n",
       "      <td>Turkey</td>\n",
       "      <td>51.0</td>\n",
       "      <td>22.0</td>\n",
       "      <td>7.0</td>\n",
       "      <td>1.4</td>\n",
       "    </tr>\n",
       "    <tr>\n",
       "      <th>177</th>\n",
       "      <td>Turkmenistan</td>\n",
       "      <td>19.0</td>\n",
       "      <td>71.0</td>\n",
       "      <td>32.0</td>\n",
       "      <td>2.2</td>\n",
       "    </tr>\n",
       "    <tr>\n",
       "      <th>178</th>\n",
       "      <td>Tuvalu</td>\n",
       "      <td>6.0</td>\n",
       "      <td>41.0</td>\n",
       "      <td>9.0</td>\n",
       "      <td>1.0</td>\n",
       "    </tr>\n",
       "    <tr>\n",
       "      <th>179</th>\n",
       "      <td>Uganda</td>\n",
       "      <td>45.0</td>\n",
       "      <td>9.0</td>\n",
       "      <td>NaN</td>\n",
       "      <td>8.3</td>\n",
       "    </tr>\n",
       "    <tr>\n",
       "      <th>180</th>\n",
       "      <td>Ukraine</td>\n",
       "      <td>26.0</td>\n",
       "      <td>237.0</td>\n",
       "      <td>45.0</td>\n",
       "      <td>8.9</td>\n",
       "    </tr>\n",
       "    <tr>\n",
       "      <th>181</th>\n",
       "      <td>United Arab Emirates</td>\n",
       "      <td>16.0</td>\n",
       "      <td>135.0</td>\n",
       "      <td>5.0</td>\n",
       "      <td>2.8</td>\n",
       "    </tr>\n",
       "    <tr>\n",
       "      <th>182</th>\n",
       "      <td>United Kingdom</td>\n",
       "      <td>219.0</td>\n",
       "      <td>126.0</td>\n",
       "      <td>195.0</td>\n",
       "      <td>1.4</td>\n",
       "    </tr>\n",
       "    <tr>\n",
       "      <th>183</th>\n",
       "      <td>Tanzania</td>\n",
       "      <td>36.0</td>\n",
       "      <td>6.0</td>\n",
       "      <td>1.0</td>\n",
       "      <td>5.7</td>\n",
       "    </tr>\n",
       "    <tr>\n",
       "      <th>184</th>\n",
       "      <td>USA</td>\n",
       "      <td>249.0</td>\n",
       "      <td>158.0</td>\n",
       "      <td>84.0</td>\n",
       "      <td>8.7</td>\n",
       "    </tr>\n",
       "    <tr>\n",
       "      <th>185</th>\n",
       "      <td>Uruguay</td>\n",
       "      <td>115.0</td>\n",
       "      <td>35.0</td>\n",
       "      <td>22.0</td>\n",
       "      <td>6.6</td>\n",
       "    </tr>\n",
       "    <tr>\n",
       "      <th>186</th>\n",
       "      <td>Uzbekistan</td>\n",
       "      <td>25.0</td>\n",
       "      <td>11.0</td>\n",
       "      <td>8.0</td>\n",
       "      <td>2.4</td>\n",
       "    </tr>\n",
       "    <tr>\n",
       "      <th>187</th>\n",
       "      <td>Vanuatu</td>\n",
       "      <td>21.0</td>\n",
       "      <td>18.0</td>\n",
       "      <td>11.0</td>\n",
       "      <td>0.9</td>\n",
       "    </tr>\n",
       "    <tr>\n",
       "      <th>188</th>\n",
       "      <td>Venezuela</td>\n",
       "      <td>333.0</td>\n",
       "      <td>1.0</td>\n",
       "      <td>3.0</td>\n",
       "      <td>7.7</td>\n",
       "    </tr>\n",
       "    <tr>\n",
       "      <th>189</th>\n",
       "      <td>Vietnam</td>\n",
       "      <td>111.0</td>\n",
       "      <td>2.0</td>\n",
       "      <td>1.0</td>\n",
       "      <td>2.0</td>\n",
       "    </tr>\n",
       "    <tr>\n",
       "      <th>190</th>\n",
       "      <td>Yemen</td>\n",
       "      <td>6.0</td>\n",
       "      <td>NaN</td>\n",
       "      <td>NaN</td>\n",
       "      <td>0.1</td>\n",
       "    </tr>\n",
       "    <tr>\n",
       "      <th>191</th>\n",
       "      <td>Zambia</td>\n",
       "      <td>32.0</td>\n",
       "      <td>19.0</td>\n",
       "      <td>4.0</td>\n",
       "      <td>2.5</td>\n",
       "    </tr>\n",
       "    <tr>\n",
       "      <th>192</th>\n",
       "      <td>Zimbabwe</td>\n",
       "      <td>64.0</td>\n",
       "      <td>18.0</td>\n",
       "      <td>4.0</td>\n",
       "      <td>4.7</td>\n",
       "    </tr>\n",
       "  </tbody>\n",
       "</table>\n",
       "<p>193 rows × 5 columns</p>\n",
       "</div>"
      ],
      "text/plain": [
       "                  country  beer_servings  spirit_servings  wine_servings  \\\n",
       "0             Afghanistan            NaN              NaN            NaN   \n",
       "1                 Albania           89.0            132.0           54.0   \n",
       "2                 Algeria           25.0              NaN           14.0   \n",
       "3                 Andorra          245.0            138.0          312.0   \n",
       "4                  Angola          217.0             57.0           45.0   \n",
       "5       Antigua & Barbuda           12.0            128.0           45.0   \n",
       "6               Argentina          193.0             25.0          221.0   \n",
       "7                 Armenia           21.0            179.0           11.0   \n",
       "8               Australia          261.0             72.0          212.0   \n",
       "9                 Austria          279.0             75.0          191.0   \n",
       "10             Azerbaijan           21.0             46.0            5.0   \n",
       "11                Bahamas          122.0            176.0           51.0   \n",
       "12                Bahrain           42.0             63.0            7.0   \n",
       "13             Bangladesh            NaN              NaN            NaN   \n",
       "14               Barbados          143.0            173.0           36.0   \n",
       "15                Belarus          142.0            373.0           42.0   \n",
       "16                Belgium          295.0             84.0          212.0   \n",
       "17                 Belize          263.0            114.0            8.0   \n",
       "18                  Benin           34.0              4.0           13.0   \n",
       "19                 Bhutan           23.0              NaN            NaN   \n",
       "..                    ...            ...              ...            ...   \n",
       "173                 Tonga           36.0             21.0            5.0   \n",
       "174     Trinidad & Tobago          197.0            156.0            7.0   \n",
       "175               Tunisia           51.0              3.0            2.0   \n",
       "176                Turkey           51.0             22.0            7.0   \n",
       "177          Turkmenistan           19.0             71.0           32.0   \n",
       "178                Tuvalu            6.0             41.0            9.0   \n",
       "179                Uganda           45.0              9.0            NaN   \n",
       "180               Ukraine           26.0            237.0           45.0   \n",
       "181  United Arab Emirates           16.0            135.0            5.0   \n",
       "182        United Kingdom          219.0            126.0          195.0   \n",
       "183              Tanzania           36.0              6.0            1.0   \n",
       "184                   USA          249.0            158.0           84.0   \n",
       "185               Uruguay          115.0             35.0           22.0   \n",
       "186            Uzbekistan           25.0             11.0            8.0   \n",
       "187               Vanuatu           21.0             18.0           11.0   \n",
       "188             Venezuela          333.0              1.0            3.0   \n",
       "189               Vietnam          111.0              2.0            1.0   \n",
       "190                 Yemen            6.0              NaN            NaN   \n",
       "191                Zambia           32.0             19.0            4.0   \n",
       "192              Zimbabwe           64.0             18.0            4.0   \n",
       "\n",
       "     total_litres_of_pure_alcohol  \n",
       "0                             NaN  \n",
       "1                             4.9  \n",
       "2                             0.7  \n",
       "3                            12.4  \n",
       "4                             5.9  \n",
       "5                             4.9  \n",
       "6                             8.3  \n",
       "7                             3.8  \n",
       "8                             1.4  \n",
       "9                             9.7  \n",
       "10                            1.3  \n",
       "11                            6.3  \n",
       "12                            2.0  \n",
       "13                            NaN  \n",
       "14                            6.3  \n",
       "15                           14.4  \n",
       "16                            1.5  \n",
       "17                            6.8  \n",
       "18                            1.1  \n",
       "19                            0.4  \n",
       "..                            ...  \n",
       "173                           1.1  \n",
       "174                           6.4  \n",
       "175                           1.3  \n",
       "176                           1.4  \n",
       "177                           2.2  \n",
       "178                           1.0  \n",
       "179                           8.3  \n",
       "180                           8.9  \n",
       "181                           2.8  \n",
       "182                           1.4  \n",
       "183                           5.7  \n",
       "184                           8.7  \n",
       "185                           6.6  \n",
       "186                           2.4  \n",
       "187                           0.9  \n",
       "188                           7.7  \n",
       "189                           2.0  \n",
       "190                           0.1  \n",
       "191                           2.5  \n",
       "192                           4.7  \n",
       "\n",
       "[193 rows x 5 columns]"
      ]
     },
     "execution_count": 66,
     "metadata": {},
     "output_type": "execute_result"
    }
   ],
   "source": [
    "pd.read_csv('https://andybek.com/pandas-drinks')"
   ]
  },
  {
   "cell_type": "code",
   "execution_count": 67,
   "id": "25d65598",
   "metadata": {},
   "outputs": [
    {
     "data": {
      "text/html": [
       "<div>\n",
       "<style scoped>\n",
       "    .dataframe tbody tr th:only-of-type {\n",
       "        vertical-align: middle;\n",
       "    }\n",
       "\n",
       "    .dataframe tbody tr th {\n",
       "        vertical-align: top;\n",
       "    }\n",
       "\n",
       "    .dataframe thead th {\n",
       "        text-align: right;\n",
       "    }\n",
       "</style>\n",
       "<table border=\"1\" class=\"dataframe\">\n",
       "  <thead>\n",
       "    <tr style=\"text-align: right;\">\n",
       "      <th></th>\n",
       "      <th>country</th>\n",
       "      <th>wine_servings</th>\n",
       "    </tr>\n",
       "  </thead>\n",
       "  <tbody>\n",
       "    <tr>\n",
       "      <th>0</th>\n",
       "      <td>Afghanistan</td>\n",
       "      <td>NaN</td>\n",
       "    </tr>\n",
       "    <tr>\n",
       "      <th>1</th>\n",
       "      <td>Albania</td>\n",
       "      <td>54.0</td>\n",
       "    </tr>\n",
       "    <tr>\n",
       "      <th>2</th>\n",
       "      <td>Algeria</td>\n",
       "      <td>14.0</td>\n",
       "    </tr>\n",
       "    <tr>\n",
       "      <th>3</th>\n",
       "      <td>Andorra</td>\n",
       "      <td>312.0</td>\n",
       "    </tr>\n",
       "    <tr>\n",
       "      <th>4</th>\n",
       "      <td>Angola</td>\n",
       "      <td>45.0</td>\n",
       "    </tr>\n",
       "    <tr>\n",
       "      <th>5</th>\n",
       "      <td>Antigua &amp; Barbuda</td>\n",
       "      <td>45.0</td>\n",
       "    </tr>\n",
       "    <tr>\n",
       "      <th>6</th>\n",
       "      <td>Argentina</td>\n",
       "      <td>221.0</td>\n",
       "    </tr>\n",
       "    <tr>\n",
       "      <th>7</th>\n",
       "      <td>Armenia</td>\n",
       "      <td>11.0</td>\n",
       "    </tr>\n",
       "    <tr>\n",
       "      <th>8</th>\n",
       "      <td>Australia</td>\n",
       "      <td>212.0</td>\n",
       "    </tr>\n",
       "    <tr>\n",
       "      <th>9</th>\n",
       "      <td>Austria</td>\n",
       "      <td>191.0</td>\n",
       "    </tr>\n",
       "    <tr>\n",
       "      <th>10</th>\n",
       "      <td>Azerbaijan</td>\n",
       "      <td>5.0</td>\n",
       "    </tr>\n",
       "    <tr>\n",
       "      <th>11</th>\n",
       "      <td>Bahamas</td>\n",
       "      <td>51.0</td>\n",
       "    </tr>\n",
       "    <tr>\n",
       "      <th>12</th>\n",
       "      <td>Bahrain</td>\n",
       "      <td>7.0</td>\n",
       "    </tr>\n",
       "    <tr>\n",
       "      <th>13</th>\n",
       "      <td>Bangladesh</td>\n",
       "      <td>NaN</td>\n",
       "    </tr>\n",
       "    <tr>\n",
       "      <th>14</th>\n",
       "      <td>Barbados</td>\n",
       "      <td>36.0</td>\n",
       "    </tr>\n",
       "    <tr>\n",
       "      <th>15</th>\n",
       "      <td>Belarus</td>\n",
       "      <td>42.0</td>\n",
       "    </tr>\n",
       "    <tr>\n",
       "      <th>16</th>\n",
       "      <td>Belgium</td>\n",
       "      <td>212.0</td>\n",
       "    </tr>\n",
       "    <tr>\n",
       "      <th>17</th>\n",
       "      <td>Belize</td>\n",
       "      <td>8.0</td>\n",
       "    </tr>\n",
       "    <tr>\n",
       "      <th>18</th>\n",
       "      <td>Benin</td>\n",
       "      <td>13.0</td>\n",
       "    </tr>\n",
       "    <tr>\n",
       "      <th>19</th>\n",
       "      <td>Bhutan</td>\n",
       "      <td>NaN</td>\n",
       "    </tr>\n",
       "    <tr>\n",
       "      <th>...</th>\n",
       "      <td>...</td>\n",
       "      <td>...</td>\n",
       "    </tr>\n",
       "    <tr>\n",
       "      <th>173</th>\n",
       "      <td>Tonga</td>\n",
       "      <td>5.0</td>\n",
       "    </tr>\n",
       "    <tr>\n",
       "      <th>174</th>\n",
       "      <td>Trinidad &amp; Tobago</td>\n",
       "      <td>7.0</td>\n",
       "    </tr>\n",
       "    <tr>\n",
       "      <th>175</th>\n",
       "      <td>Tunisia</td>\n",
       "      <td>2.0</td>\n",
       "    </tr>\n",
       "    <tr>\n",
       "      <th>176</th>\n",
       "      <td>Turkey</td>\n",
       "      <td>7.0</td>\n",
       "    </tr>\n",
       "    <tr>\n",
       "      <th>177</th>\n",
       "      <td>Turkmenistan</td>\n",
       "      <td>32.0</td>\n",
       "    </tr>\n",
       "    <tr>\n",
       "      <th>178</th>\n",
       "      <td>Tuvalu</td>\n",
       "      <td>9.0</td>\n",
       "    </tr>\n",
       "    <tr>\n",
       "      <th>179</th>\n",
       "      <td>Uganda</td>\n",
       "      <td>NaN</td>\n",
       "    </tr>\n",
       "    <tr>\n",
       "      <th>180</th>\n",
       "      <td>Ukraine</td>\n",
       "      <td>45.0</td>\n",
       "    </tr>\n",
       "    <tr>\n",
       "      <th>181</th>\n",
       "      <td>United Arab Emirates</td>\n",
       "      <td>5.0</td>\n",
       "    </tr>\n",
       "    <tr>\n",
       "      <th>182</th>\n",
       "      <td>United Kingdom</td>\n",
       "      <td>195.0</td>\n",
       "    </tr>\n",
       "    <tr>\n",
       "      <th>183</th>\n",
       "      <td>Tanzania</td>\n",
       "      <td>1.0</td>\n",
       "    </tr>\n",
       "    <tr>\n",
       "      <th>184</th>\n",
       "      <td>USA</td>\n",
       "      <td>84.0</td>\n",
       "    </tr>\n",
       "    <tr>\n",
       "      <th>185</th>\n",
       "      <td>Uruguay</td>\n",
       "      <td>22.0</td>\n",
       "    </tr>\n",
       "    <tr>\n",
       "      <th>186</th>\n",
       "      <td>Uzbekistan</td>\n",
       "      <td>8.0</td>\n",
       "    </tr>\n",
       "    <tr>\n",
       "      <th>187</th>\n",
       "      <td>Vanuatu</td>\n",
       "      <td>11.0</td>\n",
       "    </tr>\n",
       "    <tr>\n",
       "      <th>188</th>\n",
       "      <td>Venezuela</td>\n",
       "      <td>3.0</td>\n",
       "    </tr>\n",
       "    <tr>\n",
       "      <th>189</th>\n",
       "      <td>Vietnam</td>\n",
       "      <td>1.0</td>\n",
       "    </tr>\n",
       "    <tr>\n",
       "      <th>190</th>\n",
       "      <td>Yemen</td>\n",
       "      <td>NaN</td>\n",
       "    </tr>\n",
       "    <tr>\n",
       "      <th>191</th>\n",
       "      <td>Zambia</td>\n",
       "      <td>4.0</td>\n",
       "    </tr>\n",
       "    <tr>\n",
       "      <th>192</th>\n",
       "      <td>Zimbabwe</td>\n",
       "      <td>4.0</td>\n",
       "    </tr>\n",
       "  </tbody>\n",
       "</table>\n",
       "<p>193 rows × 2 columns</p>\n",
       "</div>"
      ],
      "text/plain": [
       "                  country  wine_servings\n",
       "0             Afghanistan            NaN\n",
       "1                 Albania           54.0\n",
       "2                 Algeria           14.0\n",
       "3                 Andorra          312.0\n",
       "4                  Angola           45.0\n",
       "5       Antigua & Barbuda           45.0\n",
       "6               Argentina          221.0\n",
       "7                 Armenia           11.0\n",
       "8               Australia          212.0\n",
       "9                 Austria          191.0\n",
       "10             Azerbaijan            5.0\n",
       "11                Bahamas           51.0\n",
       "12                Bahrain            7.0\n",
       "13             Bangladesh            NaN\n",
       "14               Barbados           36.0\n",
       "15                Belarus           42.0\n",
       "16                Belgium          212.0\n",
       "17                 Belize            8.0\n",
       "18                  Benin           13.0\n",
       "19                 Bhutan            NaN\n",
       "..                    ...            ...\n",
       "173                 Tonga            5.0\n",
       "174     Trinidad & Tobago            7.0\n",
       "175               Tunisia            2.0\n",
       "176                Turkey            7.0\n",
       "177          Turkmenistan           32.0\n",
       "178                Tuvalu            9.0\n",
       "179                Uganda            NaN\n",
       "180               Ukraine           45.0\n",
       "181  United Arab Emirates            5.0\n",
       "182        United Kingdom          195.0\n",
       "183              Tanzania            1.0\n",
       "184                   USA           84.0\n",
       "185               Uruguay           22.0\n",
       "186            Uzbekistan            8.0\n",
       "187               Vanuatu           11.0\n",
       "188             Venezuela            3.0\n",
       "189               Vietnam            1.0\n",
       "190                 Yemen            NaN\n",
       "191                Zambia            4.0\n",
       "192              Zimbabwe            4.0\n",
       "\n",
       "[193 rows x 2 columns]"
      ]
     },
     "execution_count": 67,
     "metadata": {},
     "output_type": "execute_result"
    }
   ],
   "source": [
    "pd.read_csv('https://andybek.com/pandas-drinks',usecols=['country','wine_servings'])"
   ]
  },
  {
   "cell_type": "code",
   "execution_count": 68,
   "id": "396ffab9",
   "metadata": {},
   "outputs": [],
   "source": [
    "alcohol = pd.read_csv('https://andybek.com/pandas-drinks',usecols=['country','wine_servings'],index_col='country')"
   ]
  },
  {
   "cell_type": "code",
   "execution_count": 69,
   "id": "a4aa6000",
   "metadata": {},
   "outputs": [
    {
     "data": {
      "text/html": [
       "<div>\n",
       "<style scoped>\n",
       "    .dataframe tbody tr th:only-of-type {\n",
       "        vertical-align: middle;\n",
       "    }\n",
       "\n",
       "    .dataframe tbody tr th {\n",
       "        vertical-align: top;\n",
       "    }\n",
       "\n",
       "    .dataframe thead th {\n",
       "        text-align: right;\n",
       "    }\n",
       "</style>\n",
       "<table border=\"1\" class=\"dataframe\">\n",
       "  <thead>\n",
       "    <tr style=\"text-align: right;\">\n",
       "      <th></th>\n",
       "      <th>wine_servings</th>\n",
       "    </tr>\n",
       "    <tr>\n",
       "      <th>country</th>\n",
       "      <th></th>\n",
       "    </tr>\n",
       "  </thead>\n",
       "  <tbody>\n",
       "    <tr>\n",
       "      <th>Afghanistan</th>\n",
       "      <td>NaN</td>\n",
       "    </tr>\n",
       "    <tr>\n",
       "      <th>Albania</th>\n",
       "      <td>54.0</td>\n",
       "    </tr>\n",
       "    <tr>\n",
       "      <th>Algeria</th>\n",
       "      <td>14.0</td>\n",
       "    </tr>\n",
       "    <tr>\n",
       "      <th>Andorra</th>\n",
       "      <td>312.0</td>\n",
       "    </tr>\n",
       "    <tr>\n",
       "      <th>Angola</th>\n",
       "      <td>45.0</td>\n",
       "    </tr>\n",
       "    <tr>\n",
       "      <th>Antigua &amp; Barbuda</th>\n",
       "      <td>45.0</td>\n",
       "    </tr>\n",
       "    <tr>\n",
       "      <th>Argentina</th>\n",
       "      <td>221.0</td>\n",
       "    </tr>\n",
       "    <tr>\n",
       "      <th>Armenia</th>\n",
       "      <td>11.0</td>\n",
       "    </tr>\n",
       "    <tr>\n",
       "      <th>Australia</th>\n",
       "      <td>212.0</td>\n",
       "    </tr>\n",
       "    <tr>\n",
       "      <th>Austria</th>\n",
       "      <td>191.0</td>\n",
       "    </tr>\n",
       "    <tr>\n",
       "      <th>Azerbaijan</th>\n",
       "      <td>5.0</td>\n",
       "    </tr>\n",
       "    <tr>\n",
       "      <th>Bahamas</th>\n",
       "      <td>51.0</td>\n",
       "    </tr>\n",
       "    <tr>\n",
       "      <th>Bahrain</th>\n",
       "      <td>7.0</td>\n",
       "    </tr>\n",
       "    <tr>\n",
       "      <th>Bangladesh</th>\n",
       "      <td>NaN</td>\n",
       "    </tr>\n",
       "    <tr>\n",
       "      <th>Barbados</th>\n",
       "      <td>36.0</td>\n",
       "    </tr>\n",
       "    <tr>\n",
       "      <th>Belarus</th>\n",
       "      <td>42.0</td>\n",
       "    </tr>\n",
       "    <tr>\n",
       "      <th>Belgium</th>\n",
       "      <td>212.0</td>\n",
       "    </tr>\n",
       "    <tr>\n",
       "      <th>Belize</th>\n",
       "      <td>8.0</td>\n",
       "    </tr>\n",
       "    <tr>\n",
       "      <th>Benin</th>\n",
       "      <td>13.0</td>\n",
       "    </tr>\n",
       "    <tr>\n",
       "      <th>Bhutan</th>\n",
       "      <td>NaN</td>\n",
       "    </tr>\n",
       "    <tr>\n",
       "      <th>...</th>\n",
       "      <td>...</td>\n",
       "    </tr>\n",
       "    <tr>\n",
       "      <th>Tonga</th>\n",
       "      <td>5.0</td>\n",
       "    </tr>\n",
       "    <tr>\n",
       "      <th>Trinidad &amp; Tobago</th>\n",
       "      <td>7.0</td>\n",
       "    </tr>\n",
       "    <tr>\n",
       "      <th>Tunisia</th>\n",
       "      <td>2.0</td>\n",
       "    </tr>\n",
       "    <tr>\n",
       "      <th>Turkey</th>\n",
       "      <td>7.0</td>\n",
       "    </tr>\n",
       "    <tr>\n",
       "      <th>Turkmenistan</th>\n",
       "      <td>32.0</td>\n",
       "    </tr>\n",
       "    <tr>\n",
       "      <th>Tuvalu</th>\n",
       "      <td>9.0</td>\n",
       "    </tr>\n",
       "    <tr>\n",
       "      <th>Uganda</th>\n",
       "      <td>NaN</td>\n",
       "    </tr>\n",
       "    <tr>\n",
       "      <th>Ukraine</th>\n",
       "      <td>45.0</td>\n",
       "    </tr>\n",
       "    <tr>\n",
       "      <th>United Arab Emirates</th>\n",
       "      <td>5.0</td>\n",
       "    </tr>\n",
       "    <tr>\n",
       "      <th>United Kingdom</th>\n",
       "      <td>195.0</td>\n",
       "    </tr>\n",
       "    <tr>\n",
       "      <th>Tanzania</th>\n",
       "      <td>1.0</td>\n",
       "    </tr>\n",
       "    <tr>\n",
       "      <th>USA</th>\n",
       "      <td>84.0</td>\n",
       "    </tr>\n",
       "    <tr>\n",
       "      <th>Uruguay</th>\n",
       "      <td>22.0</td>\n",
       "    </tr>\n",
       "    <tr>\n",
       "      <th>Uzbekistan</th>\n",
       "      <td>8.0</td>\n",
       "    </tr>\n",
       "    <tr>\n",
       "      <th>Vanuatu</th>\n",
       "      <td>11.0</td>\n",
       "    </tr>\n",
       "    <tr>\n",
       "      <th>Venezuela</th>\n",
       "      <td>3.0</td>\n",
       "    </tr>\n",
       "    <tr>\n",
       "      <th>Vietnam</th>\n",
       "      <td>1.0</td>\n",
       "    </tr>\n",
       "    <tr>\n",
       "      <th>Yemen</th>\n",
       "      <td>NaN</td>\n",
       "    </tr>\n",
       "    <tr>\n",
       "      <th>Zambia</th>\n",
       "      <td>4.0</td>\n",
       "    </tr>\n",
       "    <tr>\n",
       "      <th>Zimbabwe</th>\n",
       "      <td>4.0</td>\n",
       "    </tr>\n",
       "  </tbody>\n",
       "</table>\n",
       "<p>193 rows × 1 columns</p>\n",
       "</div>"
      ],
      "text/plain": [
       "                      wine_servings\n",
       "country                            \n",
       "Afghanistan                     NaN\n",
       "Albania                        54.0\n",
       "Algeria                        14.0\n",
       "Andorra                       312.0\n",
       "Angola                         45.0\n",
       "Antigua & Barbuda              45.0\n",
       "Argentina                     221.0\n",
       "Armenia                        11.0\n",
       "Australia                     212.0\n",
       "Austria                       191.0\n",
       "Azerbaijan                      5.0\n",
       "Bahamas                        51.0\n",
       "Bahrain                         7.0\n",
       "Bangladesh                      NaN\n",
       "Barbados                       36.0\n",
       "Belarus                        42.0\n",
       "Belgium                       212.0\n",
       "Belize                          8.0\n",
       "Benin                          13.0\n",
       "Bhutan                          NaN\n",
       "...                             ...\n",
       "Tonga                           5.0\n",
       "Trinidad & Tobago               7.0\n",
       "Tunisia                         2.0\n",
       "Turkey                          7.0\n",
       "Turkmenistan                   32.0\n",
       "Tuvalu                          9.0\n",
       "Uganda                          NaN\n",
       "Ukraine                        45.0\n",
       "United Arab Emirates            5.0\n",
       "United Kingdom                195.0\n",
       "Tanzania                        1.0\n",
       "USA                            84.0\n",
       "Uruguay                        22.0\n",
       "Uzbekistan                      8.0\n",
       "Vanuatu                        11.0\n",
       "Venezuela                       3.0\n",
       "Vietnam                         1.0\n",
       "Yemen                           NaN\n",
       "Zambia                          4.0\n",
       "Zimbabwe                        4.0\n",
       "\n",
       "[193 rows x 1 columns]"
      ]
     },
     "execution_count": 69,
     "metadata": {},
     "output_type": "execute_result"
    }
   ],
   "source": [
    "alcohol"
   ]
  },
  {
   "cell_type": "code",
   "execution_count": 70,
   "id": "b1a86826",
   "metadata": {},
   "outputs": [
    {
     "data": {
      "text/plain": [
       "country\n",
       "Afghanistan               NaN\n",
       "Albania                  54.0\n",
       "Algeria                  14.0\n",
       "Andorra                 312.0\n",
       "Angola                   45.0\n",
       "Antigua & Barbuda        45.0\n",
       "Argentina               221.0\n",
       "Armenia                  11.0\n",
       "Australia               212.0\n",
       "Austria                 191.0\n",
       "Azerbaijan                5.0\n",
       "Bahamas                  51.0\n",
       "Bahrain                   7.0\n",
       "Bangladesh                NaN\n",
       "Barbados                 36.0\n",
       "Belarus                  42.0\n",
       "Belgium                 212.0\n",
       "Belize                    8.0\n",
       "Benin                    13.0\n",
       "Bhutan                    NaN\n",
       "                        ...  \n",
       "Tonga                     5.0\n",
       "Trinidad & Tobago         7.0\n",
       "Tunisia                   2.0\n",
       "Turkey                    7.0\n",
       "Turkmenistan             32.0\n",
       "Tuvalu                    9.0\n",
       "Uganda                    NaN\n",
       "Ukraine                  45.0\n",
       "United Arab Emirates      5.0\n",
       "United Kingdom          195.0\n",
       "Tanzania                  1.0\n",
       "USA                      84.0\n",
       "Uruguay                  22.0\n",
       "Uzbekistan                8.0\n",
       "Vanuatu                  11.0\n",
       "Venezuela                 3.0\n",
       "Vietnam                   1.0\n",
       "Yemen                     NaN\n",
       "Zambia                    4.0\n",
       "Zimbabwe                  4.0\n",
       "Name: wine_servings, Length: 193, dtype: float64"
      ]
     },
     "execution_count": 70,
     "metadata": {},
     "output_type": "execute_result"
    }
   ],
   "source": [
    "# alcohol = pd.read_csv('https://andybek.com/pandas-drinks',usecols=['country','wine_servings'],index_col='country', squeeze=True)\n",
    "alcohol = pd.read_csv('https://andybek.com/pandas-drinks',usecols=['country', 'wine_servings'],index_col='country').squeeze('columns')\n",
    "alcohol"
   ]
  },
  {
   "cell_type": "code",
   "execution_count": 71,
   "id": "1202c289",
   "metadata": {},
   "outputs": [
    {
     "data": {
      "text/plain": [
       "193"
      ]
     },
     "execution_count": 71,
     "metadata": {},
     "output_type": "execute_result"
    }
   ],
   "source": [
    "alcohol.size"
   ]
  },
  {
   "cell_type": "code",
   "execution_count": 72,
   "id": "3664b431",
   "metadata": {},
   "outputs": [
    {
     "data": {
      "text/plain": [
       "array([ nan,  54.,  14., 312.,  45.,  45., 221.,  11., 212., 191.,   5.,\n",
       "        51.,   7.,  nan,  36.,  42., 212.,   8.,  13.,  nan,   8.,   8.,\n",
       "        35.,  16.,   1.,  94.,   7.,  nan,   7.,  16.,   1.,   4.,   1.,\n",
       "         1.,   1., 172.,   8.,   3.,   1.,   9.,  74.,  11., 254.,   5.,\n",
       "       113., 134.,  nan,   1., 278.,   3.,  26.,   9.,   3.,   1.,   2.,\n",
       "       233.,  nan,  59.,  nan,   1.,  97.,  37.,  59.,   1., 149., 175.,\n",
       "         1., 218.,  28.,   2.,   2.,  21.,   1.,   1.,   2., 185.,  78.,\n",
       "        nan,  nan,  nan,  nan, 165.,   9., 237.,   9.,  16.,   1.,  12.,\n",
       "         2.,   1.,  nan,   6., 123.,  62.,  31.,  nan,   2.,  nan,  56.,\n",
       "       271.,   4.,   1.,  nan,  nan,   1.,  12.,  nan,  nan,  18.,   5.,\n",
       "        18.,  nan,   8., 128.,   1.,   5.,  nan,   1.,   8.,  nan,  19.,\n",
       "       175.,   1.,   1.,   2.,   7., 129.,   1.,  nan,  23.,  18.,   1.,\n",
       "        74.,  21.,   1.,  56., 339.,   7.,   9.,  18., 167.,  73.,  nan,\n",
       "        32.,  71.,  11.,  24.,  nan,  14.,  nan,   7., 127.,  51.,   2.,\n",
       "        11., 116., 276.,   1.,  nan,  81., 112.,  nan,  nan,   7.,   2.,\n",
       "       186.,  28.,  16.,  nan,   1.,  86.,   4.,  19.,   5.,   7.,   2.,\n",
       "         7.,  32.,   9.,  nan,  45.,   5., 195.,   1.,  84.,  22.,   8.,\n",
       "        11.,   3.,   1.,  nan,   4.,   4.])"
      ]
     },
     "execution_count": 72,
     "metadata": {},
     "output_type": "execute_result"
    }
   ],
   "source": [
    "alcohol.values"
   ]
  },
  {
   "cell_type": "code",
   "execution_count": 73,
   "id": "f77ee484",
   "metadata": {},
   "outputs": [
    {
     "data": {
      "text/plain": [
       "Index(['Afghanistan', 'Albania', 'Algeria', 'Andorra', 'Angola',\n",
       "       'Antigua & Barbuda', 'Argentina', 'Armenia', 'Australia', 'Austria',\n",
       "       ...\n",
       "       'Tanzania', 'USA', 'Uruguay', 'Uzbekistan', 'Vanuatu', 'Venezuela',\n",
       "       'Vietnam', 'Yemen', 'Zambia', 'Zimbabwe'],\n",
       "      dtype='object', name='country', length=193)"
      ]
     },
     "execution_count": 73,
     "metadata": {},
     "output_type": "execute_result"
    }
   ],
   "source": [
    "alcohol.index"
   ]
  },
  {
   "cell_type": "code",
   "execution_count": 74,
   "id": "c7fd8c63",
   "metadata": {},
   "outputs": [
    {
     "data": {
      "text/plain": [
       "True"
      ]
     },
     "execution_count": 74,
     "metadata": {},
     "output_type": "execute_result"
    }
   ],
   "source": [
    "alcohol.values.size == alcohol.index.size"
   ]
  },
  {
   "cell_type": "code",
   "execution_count": 75,
   "id": "c3e749e0",
   "metadata": {},
   "outputs": [
    {
     "data": {
      "text/plain": [
       "(193,)"
      ]
     },
     "execution_count": 75,
     "metadata": {},
     "output_type": "execute_result"
    }
   ],
   "source": [
    "alcohol.shape"
   ]
  },
  {
   "cell_type": "code",
   "execution_count": 76,
   "id": "dbe4bdb5",
   "metadata": {},
   "outputs": [
    {
     "data": {
      "text/plain": [
       "True"
      ]
     },
     "execution_count": 76,
     "metadata": {},
     "output_type": "execute_result"
    }
   ],
   "source": [
    "alcohol.shape[0] == alcohol.size"
   ]
  },
  {
   "cell_type": "code",
   "execution_count": 77,
   "id": "97865df9",
   "metadata": {},
   "outputs": [
    {
     "data": {
      "text/plain": [
       "193"
      ]
     },
     "execution_count": 77,
     "metadata": {},
     "output_type": "execute_result"
    }
   ],
   "source": [
    "len(alcohol)"
   ]
  },
  {
   "cell_type": "code",
   "execution_count": 78,
   "id": "63bc3fbf",
   "metadata": {},
   "outputs": [
    {
     "data": {
      "text/plain": [
       "False"
      ]
     },
     "execution_count": 78,
     "metadata": {},
     "output_type": "execute_result"
    }
   ],
   "source": [
    "alcohol.is_unique"
   ]
  },
  {
   "cell_type": "code",
   "execution_count": 79,
   "id": "0f2338cb",
   "metadata": {},
   "outputs": [
    {
     "data": {
      "text/plain": [
       "True"
      ]
     },
     "execution_count": 79,
     "metadata": {},
     "output_type": "execute_result"
    }
   ],
   "source": [
    "alcohol.head().is_unique"
   ]
  },
  {
   "cell_type": "code",
   "execution_count": 80,
   "id": "301cf9a1",
   "metadata": {},
   "outputs": [
    {
     "data": {
      "text/plain": [
       "<bound method IndexOpsMixin.nunique of country\n",
       "Afghanistan               NaN\n",
       "Albania                  54.0\n",
       "Algeria                  14.0\n",
       "Andorra                 312.0\n",
       "Angola                   45.0\n",
       "Antigua & Barbuda        45.0\n",
       "Argentina               221.0\n",
       "Armenia                  11.0\n",
       "Australia               212.0\n",
       "Austria                 191.0\n",
       "Azerbaijan                5.0\n",
       "Bahamas                  51.0\n",
       "Bahrain                   7.0\n",
       "Bangladesh                NaN\n",
       "Barbados                 36.0\n",
       "Belarus                  42.0\n",
       "Belgium                 212.0\n",
       "Belize                    8.0\n",
       "Benin                    13.0\n",
       "Bhutan                    NaN\n",
       "                        ...  \n",
       "Tonga                     5.0\n",
       "Trinidad & Tobago         7.0\n",
       "Tunisia                   2.0\n",
       "Turkey                    7.0\n",
       "Turkmenistan             32.0\n",
       "Tuvalu                    9.0\n",
       "Uganda                    NaN\n",
       "Ukraine                  45.0\n",
       "United Arab Emirates      5.0\n",
       "United Kingdom          195.0\n",
       "Tanzania                  1.0\n",
       "USA                      84.0\n",
       "Uruguay                  22.0\n",
       "Uzbekistan                8.0\n",
       "Vanuatu                  11.0\n",
       "Venezuela                 3.0\n",
       "Vietnam                   1.0\n",
       "Yemen                     NaN\n",
       "Zambia                    4.0\n",
       "Zimbabwe                  4.0\n",
       "Name: wine_servings, Length: 193, dtype: float64>"
      ]
     },
     "execution_count": 80,
     "metadata": {},
     "output_type": "execute_result"
    }
   ],
   "source": [
    "alcohol.nunique"
   ]
  },
  {
   "cell_type": "code",
   "execution_count": 81,
   "id": "200a3072",
   "metadata": {},
   "outputs": [
    {
     "data": {
      "text/plain": [
       "71"
      ]
     },
     "execution_count": 81,
     "metadata": {},
     "output_type": "execute_result"
    }
   ],
   "source": [
    "alcohol.nunique()"
   ]
  },
  {
   "cell_type": "code",
   "execution_count": 82,
   "id": "7777011a",
   "metadata": {},
   "outputs": [
    {
     "data": {
      "text/plain": [
       "72"
      ]
     },
     "execution_count": 82,
     "metadata": {},
     "output_type": "execute_result"
    }
   ],
   "source": [
    "alcohol.nunique(dropna=False)"
   ]
  },
  {
   "cell_type": "code",
   "execution_count": 83,
   "id": "f6abc9da",
   "metadata": {},
   "outputs": [
    {
     "data": {
      "text/plain": [
       "np.int64(162)"
      ]
     },
     "execution_count": 83,
     "metadata": {},
     "output_type": "execute_result"
    }
   ],
   "source": [
    "alcohol.count()"
   ]
  },
  {
   "cell_type": "code",
   "execution_count": 84,
   "id": "06d4a35a",
   "metadata": {},
   "outputs": [
    {
     "data": {
      "text/plain": [
       "True"
      ]
     },
     "execution_count": 84,
     "metadata": {},
     "output_type": "execute_result"
    }
   ],
   "source": [
    "alcohol.hasnans"
   ]
  },
  {
   "cell_type": "code",
   "execution_count": 85,
   "id": "6d71c98c",
   "metadata": {},
   "outputs": [
    {
     "data": {
      "text/plain": [
       "<bound method Series.isnull of country\n",
       "Afghanistan               NaN\n",
       "Albania                  54.0\n",
       "Algeria                  14.0\n",
       "Andorra                 312.0\n",
       "Angola                   45.0\n",
       "Antigua & Barbuda        45.0\n",
       "Argentina               221.0\n",
       "Armenia                  11.0\n",
       "Australia               212.0\n",
       "Austria                 191.0\n",
       "Azerbaijan                5.0\n",
       "Bahamas                  51.0\n",
       "Bahrain                   7.0\n",
       "Bangladesh                NaN\n",
       "Barbados                 36.0\n",
       "Belarus                  42.0\n",
       "Belgium                 212.0\n",
       "Belize                    8.0\n",
       "Benin                    13.0\n",
       "Bhutan                    NaN\n",
       "                        ...  \n",
       "Tonga                     5.0\n",
       "Trinidad & Tobago         7.0\n",
       "Tunisia                   2.0\n",
       "Turkey                    7.0\n",
       "Turkmenistan             32.0\n",
       "Tuvalu                    9.0\n",
       "Uganda                    NaN\n",
       "Ukraine                  45.0\n",
       "United Arab Emirates      5.0\n",
       "United Kingdom          195.0\n",
       "Tanzania                  1.0\n",
       "USA                      84.0\n",
       "Uruguay                  22.0\n",
       "Uzbekistan                8.0\n",
       "Vanuatu                  11.0\n",
       "Venezuela                 3.0\n",
       "Vietnam                   1.0\n",
       "Yemen                     NaN\n",
       "Zambia                    4.0\n",
       "Zimbabwe                  4.0\n",
       "Name: wine_servings, Length: 193, dtype: float64>"
      ]
     },
     "execution_count": 85,
     "metadata": {},
     "output_type": "execute_result"
    }
   ],
   "source": [
    "alcohol.isnull"
   ]
  },
  {
   "cell_type": "code",
   "execution_count": 86,
   "id": "3cfa56bc",
   "metadata": {},
   "outputs": [
    {
     "data": {
      "text/plain": [
       "country\n",
       "Afghanistan              True\n",
       "Albania                 False\n",
       "Algeria                 False\n",
       "Andorra                 False\n",
       "Angola                  False\n",
       "Antigua & Barbuda       False\n",
       "Argentina               False\n",
       "Armenia                 False\n",
       "Australia               False\n",
       "Austria                 False\n",
       "Azerbaijan              False\n",
       "Bahamas                 False\n",
       "Bahrain                 False\n",
       "Bangladesh               True\n",
       "Barbados                False\n",
       "Belarus                 False\n",
       "Belgium                 False\n",
       "Belize                  False\n",
       "Benin                   False\n",
       "Bhutan                   True\n",
       "                        ...  \n",
       "Tonga                   False\n",
       "Trinidad & Tobago       False\n",
       "Tunisia                 False\n",
       "Turkey                  False\n",
       "Turkmenistan            False\n",
       "Tuvalu                  False\n",
       "Uganda                   True\n",
       "Ukraine                 False\n",
       "United Arab Emirates    False\n",
       "United Kingdom          False\n",
       "Tanzania                False\n",
       "USA                     False\n",
       "Uruguay                 False\n",
       "Uzbekistan              False\n",
       "Vanuatu                 False\n",
       "Venezuela               False\n",
       "Vietnam                 False\n",
       "Yemen                    True\n",
       "Zambia                  False\n",
       "Zimbabwe                False\n",
       "Name: wine_servings, Length: 193, dtype: bool"
      ]
     },
     "execution_count": 86,
     "metadata": {},
     "output_type": "execute_result"
    }
   ],
   "source": [
    "alcohol.isnull()"
   ]
  },
  {
   "cell_type": "code",
   "execution_count": 87,
   "id": "0bafd4d5",
   "metadata": {},
   "outputs": [
    {
     "data": {
      "text/plain": [
       "np.int64(31)"
      ]
     },
     "execution_count": 87,
     "metadata": {},
     "output_type": "execute_result"
    }
   ],
   "source": [
    "alcohol.isnull().sum()"
   ]
  },
  {
   "cell_type": "code",
   "execution_count": 88,
   "id": "6a68890e",
   "metadata": {},
   "outputs": [
    {
     "data": {
      "text/plain": [
       "country\n",
       "Afghanistan        NaN\n",
       "Bangladesh         NaN\n",
       "Bhutan             NaN\n",
       "Burundi            NaN\n",
       "North Korea        NaN\n",
       "Eritrea            NaN\n",
       "Ethiopia           NaN\n",
       "India              NaN\n",
       "Indonesia          NaN\n",
       "Iran               NaN\n",
       "Iraq               NaN\n",
       "Kuwait             NaN\n",
       "Lesotho            NaN\n",
       "Libya              NaN\n",
       "Malaysia           NaN\n",
       "Maldives           NaN\n",
       "Marshall Islands   NaN\n",
       "Mauritania         NaN\n",
       "Monaco             NaN\n",
       "Myanmar            NaN\n",
       "Nepal              NaN\n",
       "Pakistan           NaN\n",
       "Rwanda             NaN\n",
       "San Marino         NaN\n",
       "Saudi Arabia       NaN\n",
       "Somalia            NaN\n",
       "Sri Lanka          NaN\n",
       "Sudan              NaN\n",
       "Tajikistan         NaN\n",
       "Uganda             NaN\n",
       "Yemen              NaN\n",
       "Name: wine_servings, dtype: float64"
      ]
     },
     "execution_count": 88,
     "metadata": {},
     "output_type": "execute_result"
    }
   ],
   "source": [
    "alcohol[alcohol.isnull()]"
   ]
  },
  {
   "cell_type": "code",
   "execution_count": 89,
   "id": "69cbbc7a",
   "metadata": {},
   "outputs": [
    {
     "data": {
      "text/plain": [
       "Index(['Afghanistan', 'Bangladesh', 'Bhutan', 'Burundi', 'North Korea',\n",
       "       'Eritrea', 'Ethiopia', 'India', 'Indonesia', 'Iran', 'Iraq', 'Kuwait',\n",
       "       'Lesotho', 'Libya', 'Malaysia', 'Maldives', 'Marshall Islands',\n",
       "       'Mauritania', 'Monaco', 'Myanmar', 'Nepal', 'Pakistan', 'Rwanda',\n",
       "       'San Marino', 'Saudi Arabia', 'Somalia', 'Sri Lanka', 'Sudan',\n",
       "       'Tajikistan', 'Uganda', 'Yemen'],\n",
       "      dtype='object', name='country')"
      ]
     },
     "execution_count": 89,
     "metadata": {},
     "output_type": "execute_result"
    }
   ],
   "source": [
    "alcohol[alcohol.isnull()].index"
   ]
  },
  {
   "cell_type": "code",
   "execution_count": 90,
   "id": "70910750",
   "metadata": {},
   "outputs": [
    {
     "data": {
      "text/plain": [
       "['Afghanistan',\n",
       " 'Bangladesh',\n",
       " 'Bhutan',\n",
       " 'Burundi',\n",
       " 'North Korea',\n",
       " 'Eritrea',\n",
       " 'Ethiopia',\n",
       " 'India',\n",
       " 'Indonesia',\n",
       " 'Iran',\n",
       " 'Iraq',\n",
       " 'Kuwait',\n",
       " 'Lesotho',\n",
       " 'Libya',\n",
       " 'Malaysia',\n",
       " 'Maldives',\n",
       " 'Marshall Islands',\n",
       " 'Mauritania',\n",
       " 'Monaco',\n",
       " 'Myanmar',\n",
       " 'Nepal',\n",
       " 'Pakistan',\n",
       " 'Rwanda',\n",
       " 'San Marino',\n",
       " 'Saudi Arabia',\n",
       " 'Somalia',\n",
       " 'Sri Lanka',\n",
       " 'Sudan',\n",
       " 'Tajikistan',\n",
       " 'Uganda',\n",
       " 'Yemen']"
      ]
     },
     "execution_count": 90,
     "metadata": {},
     "output_type": "execute_result"
    }
   ],
   "source": [
    "list(alcohol[alcohol.isnull()].index)"
   ]
  },
  {
   "cell_type": "code",
   "execution_count": 91,
   "id": "1ede4a7f",
   "metadata": {},
   "outputs": [
    {
     "data": {
      "text/plain": [
       "31"
      ]
     },
     "execution_count": 91,
     "metadata": {},
     "output_type": "execute_result"
    }
   ],
   "source": [
    "len(list(alcohol[alcohol.isnull()].index))"
   ]
  },
  {
   "cell_type": "code",
   "execution_count": 92,
   "id": "fbda5e37",
   "metadata": {},
   "outputs": [
    {
     "data": {
      "text/plain": [
       "2"
      ]
     },
     "execution_count": 92,
     "metadata": {},
     "output_type": "execute_result"
    }
   ],
   "source": [
    "sum([True, False, True])"
   ]
  },
  {
   "cell_type": "code",
   "execution_count": 93,
   "id": "6ba7f386",
   "metadata": {},
   "outputs": [
    {
     "data": {
      "text/plain": [
       "country\n",
       "Afghanistan             False\n",
       "Albania                  True\n",
       "Algeria                  True\n",
       "Andorra                  True\n",
       "Angola                   True\n",
       "Antigua & Barbuda        True\n",
       "Argentina                True\n",
       "Armenia                  True\n",
       "Australia                True\n",
       "Austria                  True\n",
       "Azerbaijan               True\n",
       "Bahamas                  True\n",
       "Bahrain                  True\n",
       "Bangladesh              False\n",
       "Barbados                 True\n",
       "Belarus                  True\n",
       "Belgium                  True\n",
       "Belize                   True\n",
       "Benin                    True\n",
       "Bhutan                  False\n",
       "                        ...  \n",
       "Tonga                    True\n",
       "Trinidad & Tobago        True\n",
       "Tunisia                  True\n",
       "Turkey                   True\n",
       "Turkmenistan             True\n",
       "Tuvalu                   True\n",
       "Uganda                  False\n",
       "Ukraine                  True\n",
       "United Arab Emirates     True\n",
       "United Kingdom           True\n",
       "Tanzania                 True\n",
       "USA                      True\n",
       "Uruguay                  True\n",
       "Uzbekistan               True\n",
       "Vanuatu                  True\n",
       "Venezuela                True\n",
       "Vietnam                  True\n",
       "Yemen                   False\n",
       "Zambia                   True\n",
       "Zimbabwe                 True\n",
       "Name: wine_servings, Length: 193, dtype: bool"
      ]
     },
     "execution_count": 93,
     "metadata": {},
     "output_type": "execute_result"
    }
   ],
   "source": [
    "alcohol.notnull()"
   ]
  },
  {
   "cell_type": "code",
   "execution_count": 94,
   "id": "ebb02f35",
   "metadata": {},
   "outputs": [
    {
     "data": {
      "text/plain": [
       "country\n",
       "Albania                  54.0\n",
       "Algeria                  14.0\n",
       "Andorra                 312.0\n",
       "Angola                   45.0\n",
       "Antigua & Barbuda        45.0\n",
       "Argentina               221.0\n",
       "Armenia                  11.0\n",
       "Australia               212.0\n",
       "Austria                 191.0\n",
       "Azerbaijan                5.0\n",
       "Bahamas                  51.0\n",
       "Bahrain                   7.0\n",
       "Barbados                 36.0\n",
       "Belarus                  42.0\n",
       "Belgium                 212.0\n",
       "Belize                    8.0\n",
       "Benin                    13.0\n",
       "Bolivia                   8.0\n",
       "Bosnia-Herzegovina        8.0\n",
       "Botswana                 35.0\n",
       "                        ...  \n",
       "Timor-Leste               4.0\n",
       "Togo                     19.0\n",
       "Tonga                     5.0\n",
       "Trinidad & Tobago         7.0\n",
       "Tunisia                   2.0\n",
       "Turkey                    7.0\n",
       "Turkmenistan             32.0\n",
       "Tuvalu                    9.0\n",
       "Ukraine                  45.0\n",
       "United Arab Emirates      5.0\n",
       "United Kingdom          195.0\n",
       "Tanzania                  1.0\n",
       "USA                      84.0\n",
       "Uruguay                  22.0\n",
       "Uzbekistan                8.0\n",
       "Vanuatu                  11.0\n",
       "Venezuela                 3.0\n",
       "Vietnam                   1.0\n",
       "Zambia                    4.0\n",
       "Zimbabwe                  4.0\n",
       "Name: wine_servings, Length: 162, dtype: float64"
      ]
     },
     "execution_count": 94,
     "metadata": {},
     "output_type": "execute_result"
    }
   ],
   "source": [
    "alcohol.loc[alcohol.notnull()]"
   ]
  },
  {
   "cell_type": "code",
   "execution_count": 95,
   "id": "fb1c0e7f",
   "metadata": {},
   "outputs": [
    {
     "data": {
      "text/plain": [
       "np.int64(162)"
      ]
     },
     "execution_count": 95,
     "metadata": {},
     "output_type": "execute_result"
    }
   ],
   "source": [
    "alcohol.notnull().sum()"
   ]
  },
  {
   "cell_type": "code",
   "execution_count": 96,
   "id": "5518a080",
   "metadata": {},
   "outputs": [
    {
     "data": {
      "text/plain": [
       "np.True_"
      ]
     },
     "execution_count": 96,
     "metadata": {},
     "output_type": "execute_result"
    }
   ],
   "source": [
    "alcohol.notnull().sum()+alcohol.isnull().sum() == alcohol.size"
   ]
  },
  {
   "cell_type": "code",
   "execution_count": 97,
   "id": "6ead0565",
   "metadata": {},
   "outputs": [
    {
     "data": {
      "text/plain": [
       "2"
      ]
     },
     "execution_count": 97,
     "metadata": {},
     "output_type": "execute_result"
    }
   ],
   "source": [
    "True + 1"
   ]
  },
  {
   "cell_type": "code",
   "execution_count": 98,
   "id": "ae91c8e9",
   "metadata": {},
   "outputs": [],
   "source": [
    "wine_servings = alcohol.loc[alcohol.notnull()]"
   ]
  },
  {
   "cell_type": "code",
   "execution_count": 99,
   "id": "0bef7569",
   "metadata": {},
   "outputs": [
    {
     "data": {
      "text/plain": [
       "country\n",
       "Albania                  54.0\n",
       "Algeria                  14.0\n",
       "Andorra                 312.0\n",
       "Angola                   45.0\n",
       "Antigua & Barbuda        45.0\n",
       "Argentina               221.0\n",
       "Armenia                  11.0\n",
       "Australia               212.0\n",
       "Austria                 191.0\n",
       "Azerbaijan                5.0\n",
       "Bahamas                  51.0\n",
       "Bahrain                   7.0\n",
       "Barbados                 36.0\n",
       "Belarus                  42.0\n",
       "Belgium                 212.0\n",
       "Belize                    8.0\n",
       "Benin                    13.0\n",
       "Bolivia                   8.0\n",
       "Bosnia-Herzegovina        8.0\n",
       "Botswana                 35.0\n",
       "                        ...  \n",
       "Timor-Leste               4.0\n",
       "Togo                     19.0\n",
       "Tonga                     5.0\n",
       "Trinidad & Tobago         7.0\n",
       "Tunisia                   2.0\n",
       "Turkey                    7.0\n",
       "Turkmenistan             32.0\n",
       "Tuvalu                    9.0\n",
       "Ukraine                  45.0\n",
       "United Arab Emirates      5.0\n",
       "United Kingdom          195.0\n",
       "Tanzania                  1.0\n",
       "USA                      84.0\n",
       "Uruguay                  22.0\n",
       "Uzbekistan                8.0\n",
       "Vanuatu                  11.0\n",
       "Venezuela                 3.0\n",
       "Vietnam                   1.0\n",
       "Zambia                    4.0\n",
       "Zimbabwe                  4.0\n",
       "Name: wine_servings, Length: 162, dtype: float64"
      ]
     },
     "execution_count": 99,
     "metadata": {},
     "output_type": "execute_result"
    }
   ],
   "source": [
    "wine_servings"
   ]
  },
  {
   "cell_type": "code",
   "execution_count": 100,
   "id": "8f424741",
   "metadata": {},
   "outputs": [
    {
     "data": {
      "text/plain": [
       "np.float64(8221.0)"
      ]
     },
     "execution_count": 100,
     "metadata": {},
     "output_type": "execute_result"
    }
   ],
   "source": [
    "wine_servings.sum()"
   ]
  },
  {
   "cell_type": "code",
   "execution_count": 101,
   "id": "0059fbff",
   "metadata": {},
   "outputs": [
    {
     "name": "stdout",
     "output_type": "stream",
     "text": [
      "5805.0\n"
     ]
    }
   ],
   "source": [
    "Add = 0\n",
    "for i in wine_servings:\n",
    "    if i >= 100:\n",
    "        Add += i\n",
    "print(Add)        "
   ]
  },
  {
   "cell_type": "code",
   "execution_count": 102,
   "id": "98d8ecfa",
   "metadata": {},
   "outputs": [
    {
     "data": {
      "text/plain": [
       "np.float64(5805.0)"
      ]
     },
     "execution_count": 102,
     "metadata": {},
     "output_type": "execute_result"
    }
   ],
   "source": [
    "wine_servings.sum() - wine_servings[wine_servings < 100].sum()"
   ]
  },
  {
   "cell_type": "code",
   "execution_count": 103,
   "id": "aa29de83",
   "metadata": {},
   "outputs": [
    {
     "data": {
      "text/plain": [
       "np.float64(5805.0)"
      ]
     },
     "execution_count": 103,
     "metadata": {},
     "output_type": "execute_result"
    }
   ],
   "source": [
    "alcohol.loc[alcohol > 100].sum()"
   ]
  },
  {
   "cell_type": "code",
   "execution_count": 104,
   "id": "dd1eee07",
   "metadata": {},
   "outputs": [
    {
     "data": {
      "text/plain": [
       "np.float64(2416.0)"
      ]
     },
     "execution_count": 104,
     "metadata": {},
     "output_type": "execute_result"
    }
   ],
   "source": [
    "wine_servings[wine_servings < 100].sum()"
   ]
  },
  {
   "cell_type": "code",
   "execution_count": 105,
   "id": "9d0cb33f",
   "metadata": {},
   "outputs": [
    {
     "data": {
      "text/plain": [
       "country\n",
       "Albania                  54.0\n",
       "Algeria                  14.0\n",
       "Andorra                 312.0\n",
       "Angola                   45.0\n",
       "Antigua & Barbuda        45.0\n",
       "Argentina               221.0\n",
       "Armenia                  11.0\n",
       "Australia               212.0\n",
       "Austria                 191.0\n",
       "Azerbaijan                5.0\n",
       "Bahamas                  51.0\n",
       "Bahrain                   7.0\n",
       "Barbados                 36.0\n",
       "Belarus                  42.0\n",
       "Belgium                 212.0\n",
       "Belize                    8.0\n",
       "Benin                    13.0\n",
       "Bolivia                   8.0\n",
       "Bosnia-Herzegovina        8.0\n",
       "Botswana                 35.0\n",
       "                        ...  \n",
       "Timor-Leste               4.0\n",
       "Togo                     19.0\n",
       "Tonga                     5.0\n",
       "Trinidad & Tobago         7.0\n",
       "Tunisia                   2.0\n",
       "Turkey                    7.0\n",
       "Turkmenistan             32.0\n",
       "Tuvalu                    9.0\n",
       "Ukraine                  45.0\n",
       "United Arab Emirates      5.0\n",
       "United Kingdom          195.0\n",
       "Tanzania                  1.0\n",
       "USA                      84.0\n",
       "Uruguay                  22.0\n",
       "Uzbekistan                8.0\n",
       "Vanuatu                  11.0\n",
       "Venezuela                 3.0\n",
       "Vietnam                   1.0\n",
       "Zambia                    4.0\n",
       "Zimbabwe                  4.0\n",
       "Name: wine_servings, Length: 162, dtype: float64"
      ]
     },
     "execution_count": 105,
     "metadata": {},
     "output_type": "execute_result"
    }
   ],
   "source": [
    "alcohol.dropna()"
   ]
  },
  {
   "cell_type": "code",
   "execution_count": 106,
   "id": "39f1fe2e",
   "metadata": {},
   "outputs": [
    {
     "data": {
      "text/plain": [
       "country\n",
       "Afghanistan               NaN\n",
       "Albania                  54.0\n",
       "Algeria                  14.0\n",
       "Andorra                 312.0\n",
       "Angola                   45.0\n",
       "Antigua & Barbuda        45.0\n",
       "Argentina               221.0\n",
       "Armenia                  11.0\n",
       "Australia               212.0\n",
       "Austria                 191.0\n",
       "Azerbaijan                5.0\n",
       "Bahamas                  51.0\n",
       "Bahrain                   7.0\n",
       "Bangladesh                NaN\n",
       "Barbados                 36.0\n",
       "Belarus                  42.0\n",
       "Belgium                 212.0\n",
       "Belize                    8.0\n",
       "Benin                    13.0\n",
       "Bhutan                    NaN\n",
       "                        ...  \n",
       "Tonga                     5.0\n",
       "Trinidad & Tobago         7.0\n",
       "Tunisia                   2.0\n",
       "Turkey                    7.0\n",
       "Turkmenistan             32.0\n",
       "Tuvalu                    9.0\n",
       "Uganda                    NaN\n",
       "Ukraine                  45.0\n",
       "United Arab Emirates      5.0\n",
       "United Kingdom          195.0\n",
       "Tanzania                  1.0\n",
       "USA                      84.0\n",
       "Uruguay                  22.0\n",
       "Uzbekistan                8.0\n",
       "Vanuatu                  11.0\n",
       "Venezuela                 3.0\n",
       "Vietnam                   1.0\n",
       "Yemen                     NaN\n",
       "Zambia                    4.0\n",
       "Zimbabwe                  4.0\n",
       "Name: wine_servings, Length: 193, dtype: float64"
      ]
     },
     "execution_count": 106,
     "metadata": {},
     "output_type": "execute_result"
    }
   ],
   "source": [
    "alcohol"
   ]
  },
  {
   "cell_type": "code",
   "execution_count": 107,
   "id": "e54c1dc1",
   "metadata": {},
   "outputs": [
    {
     "data": {
      "text/plain": [
       "country\n",
       "Albania                  54.0\n",
       "Algeria                  14.0\n",
       "Andorra                 312.0\n",
       "Angola                   45.0\n",
       "Antigua & Barbuda        45.0\n",
       "Argentina               221.0\n",
       "Armenia                  11.0\n",
       "Australia               212.0\n",
       "Austria                 191.0\n",
       "Azerbaijan                5.0\n",
       "Bahamas                  51.0\n",
       "Bahrain                   7.0\n",
       "Barbados                 36.0\n",
       "Belarus                  42.0\n",
       "Belgium                 212.0\n",
       "Belize                    8.0\n",
       "Benin                    13.0\n",
       "Bolivia                   8.0\n",
       "Bosnia-Herzegovina        8.0\n",
       "Botswana                 35.0\n",
       "                        ...  \n",
       "Timor-Leste               4.0\n",
       "Togo                     19.0\n",
       "Tonga                     5.0\n",
       "Trinidad & Tobago         7.0\n",
       "Tunisia                   2.0\n",
       "Turkey                    7.0\n",
       "Turkmenistan             32.0\n",
       "Tuvalu                    9.0\n",
       "Ukraine                  45.0\n",
       "United Arab Emirates      5.0\n",
       "United Kingdom          195.0\n",
       "Tanzania                  1.0\n",
       "USA                      84.0\n",
       "Uruguay                  22.0\n",
       "Uzbekistan                8.0\n",
       "Vanuatu                  11.0\n",
       "Venezuela                 3.0\n",
       "Vietnam                   1.0\n",
       "Zambia                    4.0\n",
       "Zimbabwe                  4.0\n",
       "Name: wine_servings, Length: 162, dtype: float64"
      ]
     },
     "execution_count": 107,
     "metadata": {},
     "output_type": "execute_result"
    }
   ],
   "source": [
    "alcohol.dropna(inplace=False)"
   ]
  },
  {
   "cell_type": "code",
   "execution_count": 108,
   "id": "571e2859",
   "metadata": {},
   "outputs": [
    {
     "data": {
      "text/plain": [
       "country\n",
       "Afghanistan             100.0\n",
       "Albania                  54.0\n",
       "Algeria                  14.0\n",
       "Andorra                 312.0\n",
       "Angola                   45.0\n",
       "Antigua & Barbuda        45.0\n",
       "Argentina               221.0\n",
       "Armenia                  11.0\n",
       "Australia               212.0\n",
       "Austria                 191.0\n",
       "Azerbaijan                5.0\n",
       "Bahamas                  51.0\n",
       "Bahrain                   7.0\n",
       "Bangladesh              100.0\n",
       "Barbados                 36.0\n",
       "Belarus                  42.0\n",
       "Belgium                 212.0\n",
       "Belize                    8.0\n",
       "Benin                    13.0\n",
       "Bhutan                  100.0\n",
       "                        ...  \n",
       "Tonga                     5.0\n",
       "Trinidad & Tobago         7.0\n",
       "Tunisia                   2.0\n",
       "Turkey                    7.0\n",
       "Turkmenistan             32.0\n",
       "Tuvalu                    9.0\n",
       "Uganda                  100.0\n",
       "Ukraine                  45.0\n",
       "United Arab Emirates      5.0\n",
       "United Kingdom          195.0\n",
       "Tanzania                  1.0\n",
       "USA                      84.0\n",
       "Uruguay                  22.0\n",
       "Uzbekistan                8.0\n",
       "Vanuatu                  11.0\n",
       "Venezuela                 3.0\n",
       "Vietnam                   1.0\n",
       "Yemen                   100.0\n",
       "Zambia                    4.0\n",
       "Zimbabwe                  4.0\n",
       "Name: wine_servings, Length: 193, dtype: float64"
      ]
     },
     "execution_count": 108,
     "metadata": {},
     "output_type": "execute_result"
    }
   ],
   "source": [
    "alcohol.fillna(100,inplace=False)"
   ]
  },
  {
   "cell_type": "code",
   "execution_count": 109,
   "id": "373215fa",
   "metadata": {},
   "outputs": [
    {
     "data": {
      "text/plain": [
       "np.float64(8221.0)"
      ]
     },
     "execution_count": 109,
     "metadata": {},
     "output_type": "execute_result"
    }
   ],
   "source": [
    "alcohol.sum()"
   ]
  },
  {
   "cell_type": "code",
   "execution_count": 110,
   "id": "3b2b08f7",
   "metadata": {},
   "outputs": [
    {
     "data": {
      "text/plain": [
       "np.float64(50.74691358024691)"
      ]
     },
     "execution_count": 110,
     "metadata": {},
     "output_type": "execute_result"
    }
   ],
   "source": [
    "alcohol.sum()/alcohol.count()"
   ]
  },
  {
   "cell_type": "code",
   "execution_count": 111,
   "id": "cdcfb8d7",
   "metadata": {},
   "outputs": [
    {
     "data": {
      "text/plain": [
       "np.float64(50.74691358024691)"
      ]
     },
     "execution_count": 111,
     "metadata": {},
     "output_type": "execute_result"
    }
   ],
   "source": [
    "alcohol.mean()"
   ]
  },
  {
   "cell_type": "code",
   "execution_count": 112,
   "id": "cfc3309b",
   "metadata": {},
   "outputs": [
    {
     "data": {
      "text/plain": [
       "np.float64(11.5)"
      ]
     },
     "execution_count": 112,
     "metadata": {},
     "output_type": "execute_result"
    }
   ],
   "source": [
    "alcohol.median()"
   ]
  },
  {
   "cell_type": "code",
   "execution_count": 113,
   "id": "6ce4f2ac",
   "metadata": {},
   "outputs": [
    {
     "data": {
      "text/plain": [
       "np.float64(11.5)"
      ]
     },
     "execution_count": 113,
     "metadata": {},
     "output_type": "execute_result"
    }
   ],
   "source": [
    "alcohol.quantile(0.5)"
   ]
  },
  {
   "cell_type": "code",
   "execution_count": 114,
   "id": "d27479d2",
   "metadata": {},
   "outputs": [
    {
     "data": {
      "text/plain": [
       "<Axes: >"
      ]
     },
     "execution_count": 114,
     "metadata": {},
     "output_type": "execute_result"
    },
    {
     "data": {
      "image/png": "[encoded data removed]",
      "text/plain": [
       "<Figure size 640x480 with 1 Axes>"
      ]
     },
     "metadata": {},
     "output_type": "display_data"
    }
   ],
   "source": [
    "import matplotlib\n",
    "alcohol.hist()"
   ]
  },
  {
   "cell_type": "code",
   "execution_count": 115,
   "id": "42f5d71e",
   "metadata": {},
   "outputs": [],
   "source": [
    "iqr = alcohol.quantile(0.75) - alcohol.quantile(0.25)"
   ]
  },
  {
   "cell_type": "code",
   "execution_count": 116,
   "id": "007b4a22",
   "metadata": {},
   "outputs": [
    {
     "data": {
      "text/plain": [
       "np.float64(58.25)"
      ]
     },
     "execution_count": 116,
     "metadata": {},
     "output_type": "execute_result"
    }
   ],
   "source": [
    "iqr"
   ]
  },
  {
   "cell_type": "code",
   "execution_count": 117,
   "id": "6efb9bb9",
   "metadata": {},
   "outputs": [
    {
     "data": {
      "text/plain": [
       "np.float64(1.0)"
      ]
     },
     "execution_count": 117,
     "metadata": {},
     "output_type": "execute_result"
    }
   ],
   "source": [
    "alcohol.min()"
   ]
  },
  {
   "cell_type": "code",
   "execution_count": 118,
   "id": "098fee81",
   "metadata": {},
   "outputs": [
    {
     "data": {
      "text/plain": [
       "np.float64(339.0)"
      ]
     },
     "execution_count": 118,
     "metadata": {},
     "output_type": "execute_result"
    }
   ],
   "source": [
    "alcohol.max()"
   ]
  },
  {
   "cell_type": "code",
   "execution_count": 119,
   "id": "3e6d0d70",
   "metadata": {},
   "outputs": [
    {
     "data": {
      "text/plain": [
       "np.float64(76.13491716376171)"
      ]
     },
     "execution_count": 119,
     "metadata": {},
     "output_type": "execute_result"
    }
   ],
   "source": [
    "alcohol.std()"
   ]
  },
  {
   "cell_type": "code",
   "execution_count": 120,
   "id": "54c88ae4",
   "metadata": {},
   "outputs": [
    {
     "data": {
      "text/plain": [
       "np.float64(5796.5256115328575)"
      ]
     },
     "execution_count": 120,
     "metadata": {},
     "output_type": "execute_result"
    }
   ],
   "source": [
    "alcohol.var()"
   ]
  },
  {
   "cell_type": "code",
   "execution_count": 121,
   "id": "e2e7c618",
   "metadata": {},
   "outputs": [
    {
     "data": {
      "text/plain": [
       "np.True_"
      ]
     },
     "execution_count": 121,
     "metadata": {},
     "output_type": "execute_result"
    }
   ],
   "source": [
    "alcohol.std()**2 == alcohol.var()"
   ]
  },
  {
   "cell_type": "code",
   "execution_count": 122,
   "id": "849cfa7b",
   "metadata": {},
   "outputs": [
    {
     "data": {
      "text/plain": [
       "count    162.000000\n",
       "mean      50.746914\n",
       "std       76.134917\n",
       "min        1.000000\n",
       "25%        3.000000\n",
       "50%       11.500000\n",
       "75%       61.250000\n",
       "max      339.000000\n",
       "Name: wine_servings, dtype: float64"
      ]
     },
     "execution_count": 122,
     "metadata": {},
     "output_type": "execute_result"
    }
   ],
   "source": [
    "alcohol.describe()"
   ]
  },
  {
   "cell_type": "code",
   "execution_count": 123,
   "id": "bf3dfcd8",
   "metadata": {},
   "outputs": [
    {
     "data": {
      "text/plain": [
       "count    162.000000\n",
       "mean      50.746914\n",
       "std       76.134917\n",
       "min        1.000000\n",
       "25%        3.000000\n",
       "50%       11.500000\n",
       "75%       61.250000\n",
       "max      339.000000\n",
       "Name: wine_servings, dtype: float64"
      ]
     },
     "execution_count": 123,
     "metadata": {},
     "output_type": "execute_result"
    }
   ],
   "source": [
    "alcohol.describe(include='all')\n",
    "alcohol.describe(include='number')"
   ]
  },
  {
   "cell_type": "code",
   "execution_count": 124,
   "id": "325a3d04",
   "metadata": {},
   "outputs": [
    {
     "data": {
      "text/plain": [
       "count    162.000000\n",
       "mean      50.746914\n",
       "std       76.134917\n",
       "min        1.000000\n",
       "25%        3.000000\n",
       "50%       11.500000\n",
       "75%       61.250000\n",
       "max      339.000000\n",
       "Name: wine_servings, dtype: float64"
      ]
     },
     "execution_count": 124,
     "metadata": {},
     "output_type": "execute_result"
    }
   ],
   "source": [
    "alcohol.describe(include=float,exclude=object)"
   ]
  },
  {
   "cell_type": "code",
   "execution_count": 125,
   "id": "a05b4e8f",
   "metadata": {},
   "outputs": [
    {
     "data": {
      "text/plain": [
       "dtype('float64')"
      ]
     },
     "execution_count": 125,
     "metadata": {},
     "output_type": "execute_result"
    }
   ],
   "source": [
    "alcohol.dtype"
   ]
  },
  {
   "cell_type": "code",
   "execution_count": 126,
   "id": "174cee9d",
   "metadata": {},
   "outputs": [
    {
     "data": {
      "text/plain": [
       "0    1.0\n",
       "Name: wine_servings, dtype: float64"
      ]
     },
     "execution_count": 126,
     "metadata": {},
     "output_type": "execute_result"
    }
   ],
   "source": [
    "alcohol.mode()"
   ]
  },
  {
   "cell_type": "code",
   "execution_count": 127,
   "id": "02917d9d",
   "metadata": {},
   "outputs": [
    {
     "data": {
      "text/plain": [
       "wine_servings\n",
       "1.0      28\n",
       "2.0      10\n",
       "7.0       9\n",
       "8.0       7\n",
       "9.0       6\n",
       "5.0       6\n",
       "11.0      5\n",
       "4.0       5\n",
       "18.0      4\n",
       "3.0       4\n",
       "16.0      4\n",
       "45.0      3\n",
       "14.0      2\n",
       "12.0      2\n",
       "212.0     2\n",
       "19.0      2\n",
       "56.0      2\n",
       "28.0      2\n",
       "51.0      2\n",
       "59.0      2\n",
       "         ..\n",
       "271.0     1\n",
       "128.0     1\n",
       "129.0     1\n",
       "78.0      1\n",
       "23.0      1\n",
       "339.0     1\n",
       "167.0     1\n",
       "73.0      1\n",
       "71.0      1\n",
       "24.0      1\n",
       "127.0     1\n",
       "116.0     1\n",
       "276.0     1\n",
       "81.0      1\n",
       "112.0     1\n",
       "186.0     1\n",
       "86.0      1\n",
       "195.0     1\n",
       "84.0      1\n",
       "22.0      1\n",
       "Name: count, Length: 71, dtype: int64"
      ]
     },
     "execution_count": 127,
     "metadata": {},
     "output_type": "execute_result"
    }
   ],
   "source": [
    "alcohol.value_counts()"
   ]
  },
  {
   "cell_type": "code",
   "execution_count": 128,
   "id": "4cef09c0",
   "metadata": {},
   "outputs": [
    {
     "data": {
      "text/plain": [
       "wine_servings\n",
       "1.0      28\n",
       "2.0      10\n",
       "3.0       4\n",
       "4.0       5\n",
       "5.0       6\n",
       "6.0       1\n",
       "7.0       9\n",
       "8.0       7\n",
       "9.0       6\n",
       "11.0      5\n",
       "12.0      2\n",
       "13.0      1\n",
       "14.0      2\n",
       "16.0      4\n",
       "18.0      4\n",
       "19.0      2\n",
       "21.0      2\n",
       "22.0      1\n",
       "23.0      1\n",
       "24.0      1\n",
       "         ..\n",
       "149.0     1\n",
       "165.0     1\n",
       "167.0     1\n",
       "172.0     1\n",
       "175.0     2\n",
       "185.0     1\n",
       "186.0     1\n",
       "191.0     1\n",
       "195.0     1\n",
       "212.0     2\n",
       "218.0     1\n",
       "221.0     1\n",
       "233.0     1\n",
       "237.0     1\n",
       "254.0     1\n",
       "271.0     1\n",
       "276.0     1\n",
       "278.0     1\n",
       "312.0     1\n",
       "339.0     1\n",
       "Name: wine_servings, Length: 71, dtype: int64"
      ]
     },
     "execution_count": 128,
     "metadata": {},
     "output_type": "execute_result"
    }
   ],
   "source": [
    "alcohol.groupby(alcohol).size()"
   ]
  },
  {
   "cell_type": "code",
   "execution_count": 129,
   "id": "d4a195c3",
   "metadata": {},
   "outputs": [
    {
     "data": {
      "text/plain": [
       "wine_servings\n",
       "1.0      28\n",
       "2.0      10\n",
       "3.0       4\n",
       "4.0       5\n",
       "5.0       6\n",
       "6.0       1\n",
       "7.0       9\n",
       "8.0       7\n",
       "9.0       6\n",
       "11.0      5\n",
       "12.0      2\n",
       "13.0      1\n",
       "14.0      2\n",
       "16.0      4\n",
       "18.0      4\n",
       "19.0      2\n",
       "21.0      2\n",
       "22.0      1\n",
       "23.0      1\n",
       "24.0      1\n",
       "         ..\n",
       "149.0     1\n",
       "165.0     1\n",
       "167.0     1\n",
       "172.0     1\n",
       "175.0     2\n",
       "185.0     1\n",
       "186.0     1\n",
       "191.0     1\n",
       "195.0     1\n",
       "212.0     2\n",
       "218.0     1\n",
       "221.0     1\n",
       "233.0     1\n",
       "237.0     1\n",
       "254.0     1\n",
       "271.0     1\n",
       "276.0     1\n",
       "278.0     1\n",
       "312.0     1\n",
       "339.0     1\n",
       "Name: wine_servings, Length: 71, dtype: int64"
      ]
     },
     "execution_count": 129,
     "metadata": {},
     "output_type": "execute_result"
    }
   ],
   "source": [
    "alcohol.groupby(alcohol).count()"
   ]
  },
  {
   "cell_type": "code",
   "execution_count": 130,
   "id": "5c590359",
   "metadata": {},
   "outputs": [
    {
     "data": {
      "text/plain": [
       "country\n",
       "Brunei                      1.0\n",
       "Cambodia                    1.0\n",
       "Canada                      1.0\n",
       "Central African Republic    1.0\n",
       "Chad                        1.0\n",
       "Comoros                     1.0\n",
       "DR Congo                    1.0\n",
       "Egypt                       1.0\n",
       "Fiji                        1.0\n",
       "Gambia                      1.0\n",
       "Ghana                       1.0\n",
       "Guyana                      1.0\n",
       "Haiti                       1.0\n",
       "Jordan                      1.0\n",
       "Kiribati                    1.0\n",
       "Malawi                      1.0\n",
       "Mali                        1.0\n",
       "Morocco                     1.0\n",
       "Namibia                     1.0\n",
       "Nicaragua                   1.0\n",
       "Niger                       1.0\n",
       "Oman                        1.0\n",
       "Papua New Guinea            1.0\n",
       "Philippines                 1.0\n",
       "Solomon Islands             1.0\n",
       "Thailand                    1.0\n",
       "Tanzania                    1.0\n",
       "Vietnam                     1.0\n",
       "Name: wine_servings, dtype: float64"
      ]
     },
     "execution_count": 130,
     "metadata": {},
     "output_type": "execute_result"
    }
   ],
   "source": [
    "alcohol[alcohol==1]"
   ]
  },
  {
   "cell_type": "code",
   "execution_count": 131,
   "id": "013fe114",
   "metadata": {},
   "outputs": [
    {
     "data": {
      "text/plain": [
       "np.int64(28)"
      ]
     },
     "execution_count": 131,
     "metadata": {},
     "output_type": "execute_result"
    }
   ],
   "source": [
    "alcohol[alcohol==1].count()"
   ]
  },
  {
   "cell_type": "code",
   "execution_count": 132,
   "id": "a55e0f70",
   "metadata": {},
   "outputs": [
    {
     "data": {
      "text/plain": [
       "np.int64(28)"
      ]
     },
     "execution_count": 132,
     "metadata": {},
     "output_type": "execute_result"
    }
   ],
   "source": [
    "alcohol[alcohol==1].count()"
   ]
  },
  {
   "cell_type": "code",
   "execution_count": 133,
   "id": "b4223028",
   "metadata": {},
   "outputs": [
    {
     "data": {
      "text/plain": [
       "country\n",
       "Afghanistan             False\n",
       "Albania                 False\n",
       "Algeria                 False\n",
       "Andorra                 False\n",
       "Angola                  False\n",
       "Antigua & Barbuda       False\n",
       "Argentina               False\n",
       "Armenia                 False\n",
       "Australia               False\n",
       "Austria                 False\n",
       "Azerbaijan              False\n",
       "Bahamas                 False\n",
       "Bahrain                 False\n",
       "Bangladesh              False\n",
       "Barbados                False\n",
       "Belarus                 False\n",
       "Belgium                 False\n",
       "Belize                  False\n",
       "Benin                   False\n",
       "Bhutan                  False\n",
       "                        ...  \n",
       "Tonga                   False\n",
       "Trinidad & Tobago       False\n",
       "Tunisia                 False\n",
       "Turkey                  False\n",
       "Turkmenistan            False\n",
       "Tuvalu                  False\n",
       "Uganda                  False\n",
       "Ukraine                 False\n",
       "United Arab Emirates    False\n",
       "United Kingdom          False\n",
       "Tanzania                 True\n",
       "USA                     False\n",
       "Uruguay                 False\n",
       "Uzbekistan              False\n",
       "Vanuatu                 False\n",
       "Venezuela               False\n",
       "Vietnam                  True\n",
       "Yemen                   False\n",
       "Zambia                  False\n",
       "Zimbabwe                False\n",
       "Name: wine_servings, Length: 193, dtype: bool"
      ]
     },
     "execution_count": 133,
     "metadata": {},
     "output_type": "execute_result"
    }
   ],
   "source": [
    "alcohol == 1"
   ]
  },
  {
   "cell_type": "code",
   "execution_count": 134,
   "id": "d0885909",
   "metadata": {},
   "outputs": [
    {
     "data": {
      "text/plain": [
       "28"
      ]
     },
     "execution_count": 134,
     "metadata": {},
     "output_type": "execute_result"
    }
   ],
   "source": [
    "alcohol[alcohol == 1].size"
   ]
  },
  {
   "cell_type": "code",
   "execution_count": 135,
   "id": "1b7e8de1",
   "metadata": {},
   "outputs": [
    {
     "data": {
      "text/plain": [
       "np.int64(28)"
      ]
     },
     "execution_count": 135,
     "metadata": {},
     "output_type": "execute_result"
    }
   ],
   "source": [
    "alcohol.value_counts().iloc[0]"
   ]
  },
  {
   "cell_type": "code",
   "execution_count": 136,
   "id": "3d9c7a11",
   "metadata": {},
   "outputs": [
    {
     "data": {
      "text/plain": [
       "wine_servings\n",
       "1.0      0.172840\n",
       "2.0      0.061728\n",
       "7.0      0.055556\n",
       "8.0      0.043210\n",
       "9.0      0.037037\n",
       "5.0      0.037037\n",
       "11.0     0.030864\n",
       "4.0      0.030864\n",
       "18.0     0.024691\n",
       "3.0      0.024691\n",
       "16.0     0.024691\n",
       "45.0     0.018519\n",
       "14.0     0.012346\n",
       "12.0     0.012346\n",
       "212.0    0.012346\n",
       "19.0     0.012346\n",
       "56.0     0.012346\n",
       "28.0     0.012346\n",
       "51.0     0.012346\n",
       "59.0     0.012346\n",
       "           ...   \n",
       "271.0    0.006173\n",
       "128.0    0.006173\n",
       "129.0    0.006173\n",
       "78.0     0.006173\n",
       "23.0     0.006173\n",
       "339.0    0.006173\n",
       "167.0    0.006173\n",
       "73.0     0.006173\n",
       "71.0     0.006173\n",
       "24.0     0.006173\n",
       "127.0    0.006173\n",
       "116.0    0.006173\n",
       "276.0    0.006173\n",
       "81.0     0.006173\n",
       "112.0    0.006173\n",
       "186.0    0.006173\n",
       "86.0     0.006173\n",
       "195.0    0.006173\n",
       "84.0     0.006173\n",
       "22.0     0.006173\n",
       "Name: proportion, Length: 71, dtype: float64"
      ]
     },
     "execution_count": 136,
     "metadata": {},
     "output_type": "execute_result"
    }
   ],
   "source": [
    "alcohol.value_counts(normalize=True)"
   ]
  },
  {
   "cell_type": "code",
   "execution_count": 137,
   "id": "0c970bf7",
   "metadata": {},
   "outputs": [
    {
     "data": {
      "text/plain": [
       "np.float64(339.0)"
      ]
     },
     "execution_count": 137,
     "metadata": {},
     "output_type": "execute_result"
    }
   ],
   "source": [
    "alcohol.max()"
   ]
  },
  {
   "cell_type": "code",
   "execution_count": 138,
   "id": "6aedc1c9",
   "metadata": {},
   "outputs": [
    {
     "data": {
      "text/plain": [
       "country\n",
       "Portugal    339.0\n",
       "Name: wine_servings, dtype: float64"
      ]
     },
     "execution_count": 138,
     "metadata": {},
     "output_type": "execute_result"
    }
   ],
   "source": [
    "alcohol[alcohol == alcohol.max()]"
   ]
  },
  {
   "cell_type": "code",
   "execution_count": 139,
   "id": "f3184e24",
   "metadata": {},
   "outputs": [
    {
     "data": {
      "text/plain": [
       "Index(['Portugal'], dtype='object', name='country')"
      ]
     },
     "execution_count": 139,
     "metadata": {},
     "output_type": "execute_result"
    }
   ],
   "source": [
    "alcohol[alcohol == alcohol.max()].index"
   ]
  },
  {
   "cell_type": "code",
   "execution_count": 140,
   "id": "4e3466a2",
   "metadata": {},
   "outputs": [
    {
     "data": {
      "text/plain": [
       "'Portugal'"
      ]
     },
     "execution_count": 140,
     "metadata": {},
     "output_type": "execute_result"
    }
   ],
   "source": [
    "alcohol.idxmax()"
   ]
  },
  {
   "cell_type": "code",
   "execution_count": 141,
   "id": "e7360bb1",
   "metadata": {},
   "outputs": [
    {
     "data": {
      "text/plain": [
       "'Brunei'"
      ]
     },
     "execution_count": 141,
     "metadata": {},
     "output_type": "execute_result"
    }
   ],
   "source": [
    "alcohol.idxmin()"
   ]
  },
  {
   "cell_type": "code",
   "execution_count": 142,
   "id": "7ab21592",
   "metadata": {},
   "outputs": [
    {
     "data": {
      "text/plain": [
       "np.float64(339.0)"
      ]
     },
     "execution_count": 142,
     "metadata": {},
     "output_type": "execute_result"
    }
   ],
   "source": [
    "alcohol[alcohol.idxmax()]"
   ]
  },
  {
   "cell_type": "code",
   "execution_count": 143,
   "id": "5f9a92f3",
   "metadata": {},
   "outputs": [
    {
     "data": {
      "text/plain": [
       "country\n",
       "Cambodia                    1.0\n",
       "Chad                        1.0\n",
       "Central African Republic    1.0\n",
       "Canada                      1.0\n",
       "Brunei                      1.0\n",
       "Fiji                        1.0\n",
       "DR Congo                    1.0\n",
       "Comoros                     1.0\n",
       "Egypt                       1.0\n",
       "Gambia                      1.0\n",
       "Ghana                       1.0\n",
       "Mali                        1.0\n",
       "Jordan                      1.0\n",
       "Kiribati                    1.0\n",
       "Haiti                       1.0\n",
       "Guyana                      1.0\n",
       "Namibia                     1.0\n",
       "Malawi                      1.0\n",
       "Morocco                     1.0\n",
       "Nicaragua                   1.0\n",
       "                           ... \n",
       "Kuwait                      NaN\n",
       "Lesotho                     NaN\n",
       "Libya                       NaN\n",
       "Malaysia                    NaN\n",
       "Maldives                    NaN\n",
       "Marshall Islands            NaN\n",
       "Mauritania                  NaN\n",
       "Monaco                      NaN\n",
       "Myanmar                     NaN\n",
       "Nepal                       NaN\n",
       "Pakistan                    NaN\n",
       "Rwanda                      NaN\n",
       "San Marino                  NaN\n",
       "Saudi Arabia                NaN\n",
       "Somalia                     NaN\n",
       "Sri Lanka                   NaN\n",
       "Sudan                       NaN\n",
       "Tajikistan                  NaN\n",
       "Uganda                      NaN\n",
       "Yemen                       NaN\n",
       "Name: wine_servings, Length: 193, dtype: float64"
      ]
     },
     "execution_count": 143,
     "metadata": {},
     "output_type": "execute_result"
    }
   ],
   "source": [
    "alcohol.sort_values()"
   ]
  },
  {
   "cell_type": "code",
   "execution_count": 144,
   "id": "844eb9e4",
   "metadata": {},
   "outputs": [
    {
     "data": {
      "text/plain": [
       "country\n",
       "Afghanistan               NaN\n",
       "Albania                  54.0\n",
       "Algeria                  14.0\n",
       "Andorra                 312.0\n",
       "Angola                   45.0\n",
       "Antigua & Barbuda        45.0\n",
       "Argentina               221.0\n",
       "Armenia                  11.0\n",
       "Australia               212.0\n",
       "Austria                 191.0\n",
       "Azerbaijan                5.0\n",
       "Bahamas                  51.0\n",
       "Bahrain                   7.0\n",
       "Bangladesh                NaN\n",
       "Barbados                 36.0\n",
       "Belarus                  42.0\n",
       "Belgium                 212.0\n",
       "Belize                    8.0\n",
       "Benin                    13.0\n",
       "Bhutan                    NaN\n",
       "                        ...  \n",
       "Togo                     19.0\n",
       "Tonga                     5.0\n",
       "Trinidad & Tobago         7.0\n",
       "Tunisia                   2.0\n",
       "Turkey                    7.0\n",
       "Turkmenistan             32.0\n",
       "Tuvalu                    9.0\n",
       "USA                      84.0\n",
       "Uganda                    NaN\n",
       "Ukraine                  45.0\n",
       "United Arab Emirates      5.0\n",
       "United Kingdom          195.0\n",
       "Uruguay                  22.0\n",
       "Uzbekistan                8.0\n",
       "Vanuatu                  11.0\n",
       "Venezuela                 3.0\n",
       "Vietnam                   1.0\n",
       "Yemen                     NaN\n",
       "Zambia                    4.0\n",
       "Zimbabwe                  4.0\n",
       "Name: wine_servings, Length: 193, dtype: float64"
      ]
     },
     "execution_count": 144,
     "metadata": {},
     "output_type": "execute_result"
    }
   ],
   "source": [
    "alcohol.sort_index()"
   ]
  },
  {
   "cell_type": "code",
   "execution_count": 145,
   "id": "f5e1a858",
   "metadata": {},
   "outputs": [
    {
     "data": {
      "text/plain": [
       "country\n",
       "Portugal             339.0\n",
       "Andorra              312.0\n",
       "Denmark              278.0\n",
       "Slovenia             276.0\n",
       "Luxembourg           271.0\n",
       "Croatia              254.0\n",
       "Italy                237.0\n",
       "Equatorial Guinea    233.0\n",
       "Argentina            221.0\n",
       "Greece               218.0\n",
       "Australia            212.0\n",
       "Belgium              212.0\n",
       "United Kingdom       195.0\n",
       "Austria              191.0\n",
       "Sweden               186.0\n",
       "Hungary              185.0\n",
       "New Zealand          175.0\n",
       "Germany              175.0\n",
       "Chile                172.0\n",
       "Romania              167.0\n",
       "                     ...  \n",
       "Kuwait                 NaN\n",
       "Lesotho                NaN\n",
       "Libya                  NaN\n",
       "Malaysia               NaN\n",
       "Maldives               NaN\n",
       "Marshall Islands       NaN\n",
       "Mauritania             NaN\n",
       "Monaco                 NaN\n",
       "Myanmar                NaN\n",
       "Nepal                  NaN\n",
       "Pakistan               NaN\n",
       "Rwanda                 NaN\n",
       "San Marino             NaN\n",
       "Saudi Arabia           NaN\n",
       "Somalia                NaN\n",
       "Sri Lanka              NaN\n",
       "Sudan                  NaN\n",
       "Tajikistan             NaN\n",
       "Uganda                 NaN\n",
       "Yemen                  NaN\n",
       "Name: wine_servings, Length: 193, dtype: float64"
      ]
     },
     "execution_count": 145,
     "metadata": {},
     "output_type": "execute_result"
    }
   ],
   "source": [
    "alcohol.sort_values(ascending=False)"
   ]
  },
  {
   "cell_type": "code",
   "execution_count": 146,
   "id": "8d1625f8",
   "metadata": {},
   "outputs": [
    {
     "data": {
      "text/plain": [
       "country\n",
       "Portugal             339.0\n",
       "Andorra              312.0\n",
       "Denmark              278.0\n",
       "Slovenia             276.0\n",
       "Luxembourg           271.0\n",
       "Croatia              254.0\n",
       "Italy                237.0\n",
       "Equatorial Guinea    233.0\n",
       "Argentina            221.0\n",
       "Greece               218.0\n",
       "Australia            212.0\n",
       "Belgium              212.0\n",
       "United Kingdom       195.0\n",
       "Austria              191.0\n",
       "Sweden               186.0\n",
       "Hungary              185.0\n",
       "New Zealand          175.0\n",
       "Germany              175.0\n",
       "Chile                172.0\n",
       "Romania              167.0\n",
       "                     ...  \n",
       "Kuwait                 NaN\n",
       "Lesotho                NaN\n",
       "Libya                  NaN\n",
       "Malaysia               NaN\n",
       "Maldives               NaN\n",
       "Marshall Islands       NaN\n",
       "Mauritania             NaN\n",
       "Monaco                 NaN\n",
       "Myanmar                NaN\n",
       "Nepal                  NaN\n",
       "Pakistan               NaN\n",
       "Rwanda                 NaN\n",
       "San Marino             NaN\n",
       "Saudi Arabia           NaN\n",
       "Somalia                NaN\n",
       "Sri Lanka              NaN\n",
       "Sudan                  NaN\n",
       "Tajikistan             NaN\n",
       "Uganda                 NaN\n",
       "Yemen                  NaN\n",
       "Name: wine_servings, Length: 193, dtype: float64"
      ]
     },
     "execution_count": 146,
     "metadata": {},
     "output_type": "execute_result"
    }
   ],
   "source": [
    "alcohol.sort_values(ascending=False,na_position='last')"
   ]
  },
  {
   "cell_type": "code",
   "execution_count": 147,
   "id": "dada04ea",
   "metadata": {},
   "outputs": [],
   "source": [
    "alcohol = alcohol.copy()\n",
    "alcohol.sort_values(ascending=False, na_position='last', inplace=True)"
   ]
  },
  {
   "cell_type": "code",
   "execution_count": 148,
   "id": "2b1d02b8",
   "metadata": {},
   "outputs": [
    {
     "data": {
      "text/plain": [
       "country\n",
       "Portugal             339.0\n",
       "Andorra              312.0\n",
       "Denmark              278.0\n",
       "Slovenia             276.0\n",
       "Luxembourg           271.0\n",
       "Croatia              254.0\n",
       "Italy                237.0\n",
       "Equatorial Guinea    233.0\n",
       "Argentina            221.0\n",
       "Greece               218.0\n",
       "Australia            212.0\n",
       "Belgium              212.0\n",
       "United Kingdom       195.0\n",
       "Austria              191.0\n",
       "Sweden               186.0\n",
       "Hungary              185.0\n",
       "New Zealand          175.0\n",
       "Germany              175.0\n",
       "Chile                172.0\n",
       "Romania              167.0\n",
       "                     ...  \n",
       "Kuwait                 NaN\n",
       "Lesotho                NaN\n",
       "Libya                  NaN\n",
       "Malaysia               NaN\n",
       "Maldives               NaN\n",
       "Marshall Islands       NaN\n",
       "Mauritania             NaN\n",
       "Monaco                 NaN\n",
       "Myanmar                NaN\n",
       "Nepal                  NaN\n",
       "Pakistan               NaN\n",
       "Rwanda                 NaN\n",
       "San Marino             NaN\n",
       "Saudi Arabia           NaN\n",
       "Somalia                NaN\n",
       "Sri Lanka              NaN\n",
       "Sudan                  NaN\n",
       "Tajikistan             NaN\n",
       "Uganda                 NaN\n",
       "Yemen                  NaN\n",
       "Name: wine_servings, Length: 193, dtype: float64"
      ]
     },
     "execution_count": 148,
     "metadata": {},
     "output_type": "execute_result"
    }
   ],
   "source": [
    "alcohol"
   ]
  },
  {
   "cell_type": "code",
   "execution_count": 149,
   "id": "d4be8871",
   "metadata": {},
   "outputs": [
    {
     "data": {
      "text/plain": [
       "country\n",
       "Portugal      339.0\n",
       "Andorra       312.0\n",
       "Denmark       278.0\n",
       "Slovenia      276.0\n",
       "Luxembourg    271.0\n",
       "Name: wine_servings, dtype: float64"
      ]
     },
     "execution_count": 149,
     "metadata": {},
     "output_type": "execute_result"
    }
   ],
   "source": [
    "alcohol.nlargest()"
   ]
  },
  {
   "cell_type": "code",
   "execution_count": 150,
   "id": "eff27160",
   "metadata": {},
   "outputs": [
    {
     "data": {
      "text/plain": [
       "country\n",
       "Brunei                      1.0\n",
       "Cambodia                    1.0\n",
       "Canada                      1.0\n",
       "Central African Republic    1.0\n",
       "Chad                        1.0\n",
       "Name: wine_servings, dtype: float64"
      ]
     },
     "execution_count": 150,
     "metadata": {},
     "output_type": "execute_result"
    }
   ],
   "source": [
    "alcohol.nsmallest()"
   ]
  },
  {
   "cell_type": "code",
   "execution_count": 151,
   "id": "e017da4b",
   "metadata": {},
   "outputs": [
    {
     "data": {
      "text/plain": [
       "country\n",
       "Brunei                      1.0\n",
       "Cambodia                    1.0\n",
       "Canada                      1.0\n",
       "Central African Republic    1.0\n",
       "Chad                        1.0\n",
       "Egypt                       1.0\n",
       "Gambia                      1.0\n",
       "DR Congo                    1.0\n",
       "Ghana                       1.0\n",
       "Fiji                        1.0\n",
       "Comoros                     1.0\n",
       "Guyana                      1.0\n",
       "Namibia                     1.0\n",
       "Morocco                     1.0\n",
       "Malawi                      1.0\n",
       "Mali                        1.0\n",
       "Jordan                      1.0\n",
       "Haiti                       1.0\n",
       "Kiribati                    1.0\n",
       "Philippines                 1.0\n",
       "Niger                       1.0\n",
       "Oman                        1.0\n",
       "Papua New Guinea            1.0\n",
       "Nicaragua                   1.0\n",
       "Thailand                    1.0\n",
       "Solomon Islands             1.0\n",
       "Tanzania                    1.0\n",
       "Vietnam                     1.0\n",
       "Guatemala                   2.0\n",
       "Swaziland                   2.0\n",
       "Nigeria                     2.0\n",
       "Honduras                    2.0\n",
       "Name: wine_servings, dtype: float64"
      ]
     },
     "execution_count": 151,
     "metadata": {},
     "output_type": "execute_result"
    }
   ],
   "source": [
    "alcohol.nsmallest(32)"
   ]
  },
  {
   "cell_type": "code",
   "execution_count": 152,
   "id": "170202a8",
   "metadata": {},
   "outputs": [
    {
     "data": {
      "text/plain": [
       "country\n",
       "Brunei                      1.0\n",
       "Cambodia                    1.0\n",
       "Canada                      1.0\n",
       "Central African Republic    1.0\n",
       "Chad                        1.0\n",
       "Egypt                       1.0\n",
       "Gambia                      1.0\n",
       "DR Congo                    1.0\n",
       "Ghana                       1.0\n",
       "Fiji                        1.0\n",
       "Comoros                     1.0\n",
       "Guyana                      1.0\n",
       "Namibia                     1.0\n",
       "Morocco                     1.0\n",
       "Malawi                      1.0\n",
       "Mali                        1.0\n",
       "Jordan                      1.0\n",
       "Haiti                       1.0\n",
       "Kiribati                    1.0\n",
       "Philippines                 1.0\n",
       "Niger                       1.0\n",
       "Oman                        1.0\n",
       "Papua New Guinea            1.0\n",
       "Nicaragua                   1.0\n",
       "Thailand                    1.0\n",
       "Solomon Islands             1.0\n",
       "Tanzania                    1.0\n",
       "Vietnam                     1.0\n",
       "Name: wine_servings, dtype: float64"
      ]
     },
     "execution_count": 152,
     "metadata": {},
     "output_type": "execute_result"
    }
   ],
   "source": [
    "alcohol[alcohol==alcohol.min()]"
   ]
  },
  {
   "cell_type": "code",
   "execution_count": 153,
   "id": "30a8d01d",
   "metadata": {},
   "outputs": [
    {
     "data": {
      "text/plain": [
       "country\n",
       "Portugal             339.0\n",
       "Andorra              312.0\n",
       "Denmark              278.0\n",
       "Slovenia             276.0\n",
       "Luxembourg           271.0\n",
       "Croatia              254.0\n",
       "Italy                237.0\n",
       "Equatorial Guinea    233.0\n",
       "Argentina            221.0\n",
       "Greece               218.0\n",
       "Name: wine_servings, dtype: float64"
      ]
     },
     "execution_count": 153,
     "metadata": {},
     "output_type": "execute_result"
    }
   ],
   "source": [
    "alcohol.sort_values(ascending=False).head(10)"
   ]
  },
  {
   "cell_type": "code",
   "execution_count": 154,
   "id": "a970a4a7",
   "metadata": {},
   "outputs": [
    {
     "data": {
      "text/plain": [
       "country\n",
       "Australia           212.0\n",
       "Belgium             212.0\n",
       "United Kingdom      195.0\n",
       "Austria             191.0\n",
       "Sweden              186.0\n",
       "Hungary             185.0\n",
       "New Zealand         175.0\n",
       "Germany             175.0\n",
       "Chile               172.0\n",
       "Romania             167.0\n",
       "Ireland             165.0\n",
       "Georgia             149.0\n",
       "Czech Republic      134.0\n",
       "Norway              129.0\n",
       "Montenegro          128.0\n",
       "Serbia              127.0\n",
       "Laos                123.0\n",
       "Slovakia            116.0\n",
       "Cyprus              113.0\n",
       "Spain               112.0\n",
       "                    ...  \n",
       "Kuwait                NaN\n",
       "Lesotho               NaN\n",
       "Libya                 NaN\n",
       "Malaysia              NaN\n",
       "Maldives              NaN\n",
       "Marshall Islands      NaN\n",
       "Mauritania            NaN\n",
       "Monaco                NaN\n",
       "Myanmar               NaN\n",
       "Nepal                 NaN\n",
       "Pakistan              NaN\n",
       "Rwanda                NaN\n",
       "San Marino            NaN\n",
       "Saudi Arabia          NaN\n",
       "Somalia               NaN\n",
       "Sri Lanka             NaN\n",
       "Sudan                 NaN\n",
       "Tajikistan            NaN\n",
       "Uganda                NaN\n",
       "Yemen                 NaN\n",
       "Name: wine_servings, Length: 183, dtype: float64"
      ]
     },
     "execution_count": 154,
     "metadata": {},
     "output_type": "execute_result"
    }
   ],
   "source": [
    "alcohol.sort_values(ascending=False)[10:]"
   ]
  },
  {
   "cell_type": "code",
   "execution_count": 155,
   "id": "7653f8f3",
   "metadata": {},
   "outputs": [
    {
     "data": {
      "text/plain": [
       "country\n",
       "Portugal             339.0\n",
       "Andorra              312.0\n",
       "Denmark              278.0\n",
       "Slovenia             276.0\n",
       "Luxembourg           271.0\n",
       "Croatia              254.0\n",
       "Italy                237.0\n",
       "Equatorial Guinea    233.0\n",
       "Argentina            221.0\n",
       "Greece               218.0\n",
       "Name: wine_servings, dtype: float64"
      ]
     },
     "execution_count": 155,
     "metadata": {},
     "output_type": "execute_result"
    }
   ],
   "source": [
    "alcohol.sort_values(ascending=False)[:10]"
   ]
  },
  {
   "cell_type": "code",
   "execution_count": 156,
   "id": "47fb4ac9",
   "metadata": {},
   "outputs": [
    {
     "data": {
      "text/plain": [
       "country\n",
       "Afghanistan               NaN\n",
       "Albania                  54.0\n",
       "Algeria                  14.0\n",
       "Andorra                 312.0\n",
       "Angola                   45.0\n",
       "Antigua & Barbuda        45.0\n",
       "Argentina               221.0\n",
       "Armenia                  11.0\n",
       "Australia               212.0\n",
       "Austria                 191.0\n",
       "Azerbaijan                5.0\n",
       "Bahamas                  51.0\n",
       "Bahrain                   7.0\n",
       "Bangladesh                NaN\n",
       "Barbados                 36.0\n",
       "Belarus                  42.0\n",
       "Belgium                 212.0\n",
       "Belize                    8.0\n",
       "Benin                    13.0\n",
       "Bhutan                    NaN\n",
       "                        ...  \n",
       "Togo                     19.0\n",
       "Tonga                     5.0\n",
       "Trinidad & Tobago         7.0\n",
       "Tunisia                   2.0\n",
       "Turkey                    7.0\n",
       "Turkmenistan             32.0\n",
       "Tuvalu                    9.0\n",
       "USA                      84.0\n",
       "Uganda                    NaN\n",
       "Ukraine                  45.0\n",
       "United Arab Emirates      5.0\n",
       "United Kingdom          195.0\n",
       "Uruguay                  22.0\n",
       "Uzbekistan                8.0\n",
       "Vanuatu                  11.0\n",
       "Venezuela                 3.0\n",
       "Vietnam                   1.0\n",
       "Yemen                     NaN\n",
       "Zambia                    4.0\n",
       "Zimbabwe                  4.0\n",
       "Name: wine_servings, Length: 193, dtype: float64"
      ]
     },
     "execution_count": 156,
     "metadata": {},
     "output_type": "execute_result"
    }
   ],
   "source": [
    "alcohol.sort_index()"
   ]
  },
  {
   "cell_type": "code",
   "execution_count": 157,
   "id": "52f4fa3d",
   "metadata": {},
   "outputs": [
    {
     "data": {
      "text/plain": [
       "country\n",
       "Zimbabwe                  4.0\n",
       "Zambia                    4.0\n",
       "Yemen                     NaN\n",
       "Vietnam                   1.0\n",
       "Venezuela                 3.0\n",
       "Vanuatu                  11.0\n",
       "Uzbekistan                8.0\n",
       "Uruguay                  22.0\n",
       "United Kingdom          195.0\n",
       "United Arab Emirates      5.0\n",
       "Ukraine                  45.0\n",
       "Uganda                    NaN\n",
       "USA                      84.0\n",
       "Tuvalu                    9.0\n",
       "Turkmenistan             32.0\n",
       "Turkey                    7.0\n",
       "Tunisia                   2.0\n",
       "Trinidad & Tobago         7.0\n",
       "Tonga                     5.0\n",
       "Togo                     19.0\n",
       "                        ...  \n",
       "Bhutan                    NaN\n",
       "Benin                    13.0\n",
       "Belize                    8.0\n",
       "Belgium                 212.0\n",
       "Belarus                  42.0\n",
       "Barbados                 36.0\n",
       "Bangladesh                NaN\n",
       "Bahrain                   7.0\n",
       "Bahamas                  51.0\n",
       "Azerbaijan                5.0\n",
       "Austria                 191.0\n",
       "Australia               212.0\n",
       "Armenia                  11.0\n",
       "Argentina               221.0\n",
       "Antigua & Barbuda        45.0\n",
       "Angola                   45.0\n",
       "Andorra                 312.0\n",
       "Algeria                  14.0\n",
       "Albania                  54.0\n",
       "Afghanistan               NaN\n",
       "Name: wine_servings, Length: 193, dtype: float64"
      ]
     },
     "execution_count": 157,
     "metadata": {},
     "output_type": "execute_result"
    }
   ],
   "source": [
    "alcohol.sort_index(ascending=False)"
   ]
  },
  {
   "cell_type": "code",
   "execution_count": 158,
   "id": "41cc3dda",
   "metadata": {},
   "outputs": [],
   "source": [
    "alcohol.sort_index(ascending=False, inplace=True)"
   ]
  },
  {
   "cell_type": "code",
   "execution_count": 159,
   "id": "28dbac3e",
   "metadata": {},
   "outputs": [
    {
     "data": {
      "text/plain": [
       "country\n",
       "Zimbabwe                  4.0\n",
       "Zambia                    4.0\n",
       "Yemen                     NaN\n",
       "Vietnam                   1.0\n",
       "Venezuela                 3.0\n",
       "Vanuatu                  11.0\n",
       "Uzbekistan                8.0\n",
       "Uruguay                  22.0\n",
       "United Kingdom          195.0\n",
       "United Arab Emirates      5.0\n",
       "Ukraine                  45.0\n",
       "Uganda                    NaN\n",
       "USA                      84.0\n",
       "Tuvalu                    9.0\n",
       "Turkmenistan             32.0\n",
       "Turkey                    7.0\n",
       "Tunisia                   2.0\n",
       "Trinidad & Tobago         7.0\n",
       "Tonga                     5.0\n",
       "Togo                     19.0\n",
       "                        ...  \n",
       "Bhutan                    NaN\n",
       "Benin                    13.0\n",
       "Belize                    8.0\n",
       "Belgium                 212.0\n",
       "Belarus                  42.0\n",
       "Barbados                 36.0\n",
       "Bangladesh                NaN\n",
       "Bahrain                   7.0\n",
       "Bahamas                  51.0\n",
       "Azerbaijan                5.0\n",
       "Austria                 191.0\n",
       "Australia               212.0\n",
       "Armenia                  11.0\n",
       "Argentina               221.0\n",
       "Antigua & Barbuda        45.0\n",
       "Angola                   45.0\n",
       "Andorra                 312.0\n",
       "Algeria                  14.0\n",
       "Albania                  54.0\n",
       "Afghanistan               NaN\n",
       "Name: wine_servings, Length: 193, dtype: float64"
      ]
     },
     "execution_count": 159,
     "metadata": {},
     "output_type": "execute_result"
    }
   ],
   "source": [
    "alcohol"
   ]
  },
  {
   "cell_type": "code",
   "execution_count": 160,
   "id": "df41588a",
   "metadata": {},
   "outputs": [],
   "source": [
    "fifty_plus = alcohol[alcohol>50]"
   ]
  },
  {
   "cell_type": "code",
   "execution_count": 161,
   "id": "60cd9805",
   "metadata": {},
   "outputs": [
    {
     "data": {
      "text/plain": [
       "country\n",
       "United Kingdom        195.0\n",
       "USA                    84.0\n",
       "Sweden                186.0\n",
       "St. Lucia              71.0\n",
       "Spain                 112.0\n",
       "South Africa           81.0\n",
       "Slovenia              276.0\n",
       "Slovakia              116.0\n",
       "Seychelles             51.0\n",
       "Serbia                127.0\n",
       "Russian Federation     73.0\n",
       "Romania               167.0\n",
       "Portugal              339.0\n",
       "Poland                 56.0\n",
       "Paraguay               74.0\n",
       "Norway                129.0\n",
       "New Zealand           175.0\n",
       "Montenegro            128.0\n",
       "Macedonia              86.0\n",
       "Luxembourg            271.0\n",
       "Lithuania              56.0\n",
       "Latvia                 62.0\n",
       "Laos                  123.0\n",
       "Italy                 237.0\n",
       "Ireland               165.0\n",
       "Iceland                78.0\n",
       "Hungary               185.0\n",
       "Greece                218.0\n",
       "Germany               175.0\n",
       "Georgia               149.0\n",
       "Gabon                  59.0\n",
       "Finland                97.0\n",
       "Estonia                59.0\n",
       "Equatorial Guinea     233.0\n",
       "Denmark               278.0\n",
       "Czech Republic        134.0\n",
       "Cyprus                113.0\n",
       "Croatia               254.0\n",
       "Cook Islands           74.0\n",
       "Chile                 172.0\n",
       "Bulgaria               94.0\n",
       "Belgium               212.0\n",
       "Bahamas                51.0\n",
       "Austria               191.0\n",
       "Australia             212.0\n",
       "Argentina             221.0\n",
       "Andorra               312.0\n",
       "Albania                54.0\n",
       "Name: wine_servings, dtype: float64"
      ]
     },
     "execution_count": 161,
     "metadata": {},
     "output_type": "execute_result"
    }
   ],
   "source": [
    "fifty_plus"
   ]
  },
  {
   "cell_type": "code",
   "execution_count": 162,
   "id": "1d3319e9",
   "metadata": {},
   "outputs": [
    {
     "data": {
      "text/plain": [
       "country\n",
       "Seychelles             51.0\n",
       "Bahamas                51.0\n",
       "Albania                54.0\n",
       "Poland                 56.0\n",
       "Lithuania              56.0\n",
       "Gabon                  59.0\n",
       "Estonia                59.0\n",
       "Latvia                 62.0\n",
       "St. Lucia              71.0\n",
       "Russian Federation     73.0\n",
       "Paraguay               74.0\n",
       "Cook Islands           74.0\n",
       "Iceland                78.0\n",
       "South Africa           81.0\n",
       "USA                    84.0\n",
       "Macedonia              86.0\n",
       "Bulgaria               94.0\n",
       "Finland                97.0\n",
       "Spain                 112.0\n",
       "Cyprus                113.0\n",
       "Name: wine_servings, dtype: float64"
      ]
     },
     "execution_count": 162,
     "metadata": {},
     "output_type": "execute_result"
    }
   ],
   "source": [
    "fifty_plus.nsmallest(20)"
   ]
  },
  {
   "cell_type": "code",
   "execution_count": 163,
   "id": "b4c3540e",
   "metadata": {},
   "outputs": [
    {
     "data": {
      "text/plain": [
       "country\n",
       "Seychelles             51.0\n",
       "Bahamas                51.0\n",
       "Albania                54.0\n",
       "Poland                 56.0\n",
       "Lithuania              56.0\n",
       "Estonia                59.0\n",
       "Gabon                  59.0\n",
       "Latvia                 62.0\n",
       "St. Lucia              71.0\n",
       "Russian Federation     73.0\n",
       "Cook Islands           74.0\n",
       "Paraguay               74.0\n",
       "Iceland                78.0\n",
       "South Africa           81.0\n",
       "USA                    84.0\n",
       "Macedonia              86.0\n",
       "Bulgaria               94.0\n",
       "Finland                97.0\n",
       "Spain                 112.0\n",
       "Cyprus                113.0\n",
       "Name: wine_servings, dtype: float64"
      ]
     },
     "execution_count": 163,
     "metadata": {},
     "output_type": "execute_result"
    }
   ],
   "source": [
    "fifty_plus.sort_values(ascending=True)[:20]"
   ]
  },
  {
   "cell_type": "code",
   "execution_count": 164,
   "id": "dfc45ee5",
   "metadata": {},
   "outputs": [
    {
     "data": {
      "text/plain": [
       "count     48.000000\n",
       "mean     147.187500\n",
       "std       77.851101\n",
       "min       51.000000\n",
       "25%       77.000000\n",
       "50%      128.500000\n",
       "75%      199.250000\n",
       "max      339.000000\n",
       "Name: wine_servings, dtype: float64"
      ]
     },
     "execution_count": 164,
     "metadata": {},
     "output_type": "execute_result"
    }
   ],
   "source": [
    "fifty_plus.describe()"
   ]
  },
  {
   "cell_type": "code",
   "execution_count": 165,
   "id": "ccb2749c",
   "metadata": {},
   "outputs": [
    {
     "data": {
      "text/plain": [
       "country\n",
       "Zimbabwe                  6.0\n",
       "Zambia                    6.0\n",
       "Yemen                     NaN\n",
       "Vietnam                   3.0\n",
       "Venezuela                 5.0\n",
       "Vanuatu                  13.0\n",
       "Uzbekistan               10.0\n",
       "Uruguay                  24.0\n",
       "United Kingdom          197.0\n",
       "United Arab Emirates      7.0\n",
       "Ukraine                  47.0\n",
       "Uganda                    NaN\n",
       "USA                      86.0\n",
       "Tuvalu                   11.0\n",
       "Turkmenistan             34.0\n",
       "Turkey                    9.0\n",
       "Tunisia                   4.0\n",
       "Trinidad & Tobago         9.0\n",
       "Tonga                     7.0\n",
       "Togo                     21.0\n",
       "                        ...  \n",
       "Bhutan                    NaN\n",
       "Benin                    15.0\n",
       "Belize                   10.0\n",
       "Belgium                 214.0\n",
       "Belarus                  44.0\n",
       "Barbados                 38.0\n",
       "Bangladesh                NaN\n",
       "Bahrain                   9.0\n",
       "Bahamas                  53.0\n",
       "Azerbaijan                7.0\n",
       "Austria                 193.0\n",
       "Australia               214.0\n",
       "Armenia                  13.0\n",
       "Argentina               223.0\n",
       "Antigua & Barbuda        47.0\n",
       "Angola                   47.0\n",
       "Andorra                 314.0\n",
       "Algeria                  16.0\n",
       "Albania                  56.0\n",
       "Afghanistan               NaN\n",
       "Name: wine_servings, Length: 193, dtype: float64"
      ]
     },
     "execution_count": 165,
     "metadata": {},
     "output_type": "execute_result"
    }
   ],
   "source": [
    "alcohol + 2"
   ]
  },
  {
   "cell_type": "code",
   "execution_count": 166,
   "id": "3cac132b",
   "metadata": {},
   "outputs": [],
   "source": [
    "alcohol.sort_index(inplace=True)"
   ]
  },
  {
   "cell_type": "code",
   "execution_count": 167,
   "id": "49b8bffe",
   "metadata": {},
   "outputs": [
    {
     "data": {
      "text/plain": [
       "country\n",
       "Afghanistan      NaN\n",
       "Albania         54.0\n",
       "Algeria         14.0\n",
       "Andorra        312.0\n",
       "Angola          45.0\n",
       "Name: wine_servings, dtype: float64"
      ]
     },
     "execution_count": 167,
     "metadata": {},
     "output_type": "execute_result"
    }
   ],
   "source": [
    "alcohol.head()"
   ]
  },
  {
   "cell_type": "code",
   "execution_count": 168,
   "id": "20ae9e2c",
   "metadata": {},
   "outputs": [],
   "source": [
    "more_drinks = pd.Series({'Albania':6,'Algeria':10,})"
   ]
  },
  {
   "cell_type": "code",
   "execution_count": 169,
   "id": "c3a60083",
   "metadata": {},
   "outputs": [
    {
     "data": {
      "text/plain": [
       "Afghanistan              NaN\n",
       "Albania                 60.0\n",
       "Algeria                 24.0\n",
       "Andorra                  NaN\n",
       "Angola                   NaN\n",
       "Antigua & Barbuda        NaN\n",
       "Argentina                NaN\n",
       "Armenia                  NaN\n",
       "Australia                NaN\n",
       "Austria                  NaN\n",
       "Azerbaijan               NaN\n",
       "Bahamas                  NaN\n",
       "Bahrain                  NaN\n",
       "Bangladesh               NaN\n",
       "Barbados                 NaN\n",
       "Belarus                  NaN\n",
       "Belgium                  NaN\n",
       "Belize                   NaN\n",
       "Benin                    NaN\n",
       "Bhutan                   NaN\n",
       "                        ... \n",
       "Togo                     NaN\n",
       "Tonga                    NaN\n",
       "Trinidad & Tobago        NaN\n",
       "Tunisia                  NaN\n",
       "Turkey                   NaN\n",
       "Turkmenistan             NaN\n",
       "Tuvalu                   NaN\n",
       "USA                      NaN\n",
       "Uganda                   NaN\n",
       "Ukraine                  NaN\n",
       "United Arab Emirates     NaN\n",
       "United Kingdom           NaN\n",
       "Uruguay                  NaN\n",
       "Uzbekistan               NaN\n",
       "Vanuatu                  NaN\n",
       "Venezuela                NaN\n",
       "Vietnam                  NaN\n",
       "Yemen                    NaN\n",
       "Zambia                   NaN\n",
       "Zimbabwe                 NaN\n",
       "Length: 193, dtype: float64"
      ]
     },
     "execution_count": 169,
     "metadata": {},
     "output_type": "execute_result"
    }
   ],
   "source": [
    "alcohol + more_drinks"
   ]
  },
  {
   "cell_type": "code",
   "execution_count": 170,
   "id": "c7be92a7",
   "metadata": {},
   "outputs": [
    {
     "data": {
      "text/plain": [
       "Afghanistan               NaN\n",
       "Albania                  60.0\n",
       "Algeria                  24.0\n",
       "Andorra                 312.0\n",
       "Angola                   45.0\n",
       "Antigua & Barbuda        45.0\n",
       "Argentina               221.0\n",
       "Armenia                  11.0\n",
       "Australia               212.0\n",
       "Austria                 191.0\n",
       "Azerbaijan                5.0\n",
       "Bahamas                  51.0\n",
       "Bahrain                   7.0\n",
       "Bangladesh                NaN\n",
       "Barbados                 36.0\n",
       "Belarus                  42.0\n",
       "Belgium                 212.0\n",
       "Belize                    8.0\n",
       "Benin                    13.0\n",
       "Bhutan                    NaN\n",
       "                        ...  \n",
       "Togo                     19.0\n",
       "Tonga                     5.0\n",
       "Trinidad & Tobago         7.0\n",
       "Tunisia                   2.0\n",
       "Turkey                    7.0\n",
       "Turkmenistan             32.0\n",
       "Tuvalu                    9.0\n",
       "USA                      84.0\n",
       "Uganda                    NaN\n",
       "Ukraine                  45.0\n",
       "United Arab Emirates      5.0\n",
       "United Kingdom          195.0\n",
       "Uruguay                  22.0\n",
       "Uzbekistan                8.0\n",
       "Vanuatu                  11.0\n",
       "Venezuela                 3.0\n",
       "Vietnam                   1.0\n",
       "Yemen                     NaN\n",
       "Zambia                    4.0\n",
       "Zimbabwe                  4.0\n",
       "Length: 193, dtype: float64"
      ]
     },
     "execution_count": 170,
     "metadata": {},
     "output_type": "execute_result"
    }
   ],
   "source": [
    "alcohol.add(more_drinks, fill_value=0)"
   ]
  },
  {
   "cell_type": "code",
   "execution_count": 171,
   "id": "2bfaaa4f",
   "metadata": {},
   "outputs": [
    {
     "data": {
      "text/plain": [
       "Afghanistan               NaN\n",
       "Albania                  60.0\n",
       "Algeria                  24.0\n",
       "Andorra                 322.0\n",
       "Angola                   55.0\n",
       "Antigua & Barbuda        55.0\n",
       "Argentina               231.0\n",
       "Armenia                  21.0\n",
       "Australia               222.0\n",
       "Austria                 201.0\n",
       "Azerbaijan               15.0\n",
       "Bahamas                  61.0\n",
       "Bahrain                  17.0\n",
       "Bangladesh                NaN\n",
       "Barbados                 46.0\n",
       "Belarus                  52.0\n",
       "Belgium                 222.0\n",
       "Belize                   18.0\n",
       "Benin                    23.0\n",
       "Bhutan                    NaN\n",
       "                        ...  \n",
       "Togo                     29.0\n",
       "Tonga                    15.0\n",
       "Trinidad & Tobago        17.0\n",
       "Tunisia                  12.0\n",
       "Turkey                   17.0\n",
       "Turkmenistan             42.0\n",
       "Tuvalu                   19.0\n",
       "USA                      94.0\n",
       "Uganda                    NaN\n",
       "Ukraine                  55.0\n",
       "United Arab Emirates     15.0\n",
       "United Kingdom          205.0\n",
       "Uruguay                  32.0\n",
       "Uzbekistan               18.0\n",
       "Vanuatu                  21.0\n",
       "Venezuela                13.0\n",
       "Vietnam                  11.0\n",
       "Yemen                     NaN\n",
       "Zambia                   14.0\n",
       "Zimbabwe                 14.0\n",
       "Length: 193, dtype: float64"
      ]
     },
     "execution_count": 171,
     "metadata": {},
     "output_type": "execute_result"
    }
   ],
   "source": [
    "alcohol.add(more_drinks, fill_value=10)"
   ]
  },
  {
   "cell_type": "code",
   "execution_count": 172,
   "id": "936aadb0",
   "metadata": {},
   "outputs": [
    {
     "data": {
      "text/plain": [
       "Afghanistan               NaN\n",
       "Albania                  48.0\n",
       "Algeria                   4.0\n",
       "Andorra                 302.0\n",
       "Angola                   35.0\n",
       "Antigua & Barbuda        35.0\n",
       "Argentina               211.0\n",
       "Armenia                   1.0\n",
       "Australia               202.0\n",
       "Austria                 181.0\n",
       "Azerbaijan               -5.0\n",
       "Bahamas                  41.0\n",
       "Bahrain                  -3.0\n",
       "Bangladesh                NaN\n",
       "Barbados                 26.0\n",
       "Belarus                  32.0\n",
       "Belgium                 202.0\n",
       "Belize                   -2.0\n",
       "Benin                     3.0\n",
       "Bhutan                    NaN\n",
       "                        ...  \n",
       "Togo                      9.0\n",
       "Tonga                    -5.0\n",
       "Trinidad & Tobago        -3.0\n",
       "Tunisia                  -8.0\n",
       "Turkey                   -3.0\n",
       "Turkmenistan             22.0\n",
       "Tuvalu                   -1.0\n",
       "USA                      74.0\n",
       "Uganda                    NaN\n",
       "Ukraine                  35.0\n",
       "United Arab Emirates     -5.0\n",
       "United Kingdom          185.0\n",
       "Uruguay                  12.0\n",
       "Uzbekistan               -2.0\n",
       "Vanuatu                   1.0\n",
       "Venezuela                -7.0\n",
       "Vietnam                  -9.0\n",
       "Yemen                     NaN\n",
       "Zambia                   -6.0\n",
       "Zimbabwe                 -6.0\n",
       "Length: 193, dtype: float64"
      ]
     },
     "execution_count": 172,
     "metadata": {},
     "output_type": "execute_result"
    }
   ],
   "source": [
    "alcohol.subtract(more_drinks, fill_value=10)"
   ]
  },
  {
   "cell_type": "code",
   "execution_count": 173,
   "id": "11cdb478",
   "metadata": {},
   "outputs": [
    {
     "data": {
      "text/plain": [
       "country\n",
       "Afghanistan                NaN\n",
       "Albania                   54.0\n",
       "Algeria                   68.0\n",
       "Andorra                  380.0\n",
       "Angola                   425.0\n",
       "Antigua & Barbuda        470.0\n",
       "Argentina                691.0\n",
       "Armenia                  702.0\n",
       "Australia                914.0\n",
       "Austria                 1105.0\n",
       "Azerbaijan              1110.0\n",
       "Bahamas                 1161.0\n",
       "Bahrain                 1168.0\n",
       "Bangladesh                 NaN\n",
       "Barbados                1204.0\n",
       "Belarus                 1246.0\n",
       "Belgium                 1458.0\n",
       "Belize                  1466.0\n",
       "Benin                   1479.0\n",
       "Bhutan                     NaN\n",
       "                         ...  \n",
       "Togo                    7777.0\n",
       "Tonga                   7782.0\n",
       "Trinidad & Tobago       7789.0\n",
       "Tunisia                 7791.0\n",
       "Turkey                  7798.0\n",
       "Turkmenistan            7830.0\n",
       "Tuvalu                  7839.0\n",
       "USA                     7923.0\n",
       "Uganda                     NaN\n",
       "Ukraine                 7968.0\n",
       "United Arab Emirates    7973.0\n",
       "United Kingdom          8168.0\n",
       "Uruguay                 8190.0\n",
       "Uzbekistan              8198.0\n",
       "Vanuatu                 8209.0\n",
       "Venezuela               8212.0\n",
       "Vietnam                 8213.0\n",
       "Yemen                      NaN\n",
       "Zambia                  8217.0\n",
       "Zimbabwe                8221.0\n",
       "Name: wine_servings, Length: 193, dtype: float64"
      ]
     },
     "execution_count": 173,
     "metadata": {},
     "output_type": "execute_result"
    }
   ],
   "source": [
    "alcohol.cumsum()"
   ]
  },
  {
   "cell_type": "code",
   "execution_count": 174,
   "id": "b11d384c",
   "metadata": {},
   "outputs": [
    {
     "data": {
      "text/plain": [
       "country\n",
       "Afghanistan               NaN\n",
       "Albania                  54.0\n",
       "Algeria                  54.0\n",
       "Andorra                 312.0\n",
       "Angola                  312.0\n",
       "Antigua & Barbuda       312.0\n",
       "Argentina               312.0\n",
       "Armenia                 312.0\n",
       "Australia               312.0\n",
       "Austria                 312.0\n",
       "Azerbaijan              312.0\n",
       "Bahamas                 312.0\n",
       "Bahrain                 312.0\n",
       "Bangladesh                NaN\n",
       "Barbados                312.0\n",
       "Belarus                 312.0\n",
       "Belgium                 312.0\n",
       "Belize                  312.0\n",
       "Benin                   312.0\n",
       "Bhutan                    NaN\n",
       "                        ...  \n",
       "Togo                    339.0\n",
       "Tonga                   339.0\n",
       "Trinidad & Tobago       339.0\n",
       "Tunisia                 339.0\n",
       "Turkey                  339.0\n",
       "Turkmenistan            339.0\n",
       "Tuvalu                  339.0\n",
       "USA                     339.0\n",
       "Uganda                    NaN\n",
       "Ukraine                 339.0\n",
       "United Arab Emirates    339.0\n",
       "United Kingdom          339.0\n",
       "Uruguay                 339.0\n",
       "Uzbekistan              339.0\n",
       "Vanuatu                 339.0\n",
       "Venezuela               339.0\n",
       "Vietnam                 339.0\n",
       "Yemen                     NaN\n",
       "Zambia                  339.0\n",
       "Zimbabwe                339.0\n",
       "Name: wine_servings, Length: 193, dtype: float64"
      ]
     },
     "execution_count": 174,
     "metadata": {},
     "output_type": "execute_result"
    }
   ],
   "source": [
    "alcohol.cummax()"
   ]
  },
  {
   "cell_type": "code",
   "execution_count": 175,
   "id": "bdaee2e0",
   "metadata": {},
   "outputs": [
    {
     "data": {
      "text/plain": [
       "country\n",
       "Afghanistan      NaN\n",
       "Albania          NaN\n",
       "Algeria        -40.0\n",
       "Andorra        298.0\n",
       "Angola        -267.0\n",
       "Name: wine_servings, dtype: float64"
      ]
     },
     "execution_count": 175,
     "metadata": {},
     "output_type": "execute_result"
    }
   ],
   "source": [
    "alcohol.diff().head()"
   ]
  },
  {
   "cell_type": "code",
   "execution_count": 176,
   "id": "a412efd2",
   "metadata": {},
   "outputs": [
    {
     "data": {
      "text/plain": [
       "country\n",
       "Afghanistan      NaN\n",
       "Albania          NaN\n",
       "Algeria          NaN\n",
       "Andorra        258.0\n",
       "Angola          31.0\n",
       "Name: wine_servings, dtype: float64"
      ]
     },
     "execution_count": 176,
     "metadata": {},
     "output_type": "execute_result"
    }
   ],
   "source": [
    "alcohol.diff(periods=2).head()"
   ]
  },
  {
   "cell_type": "code",
   "execution_count": 178,
   "id": "532400e6",
   "metadata": {},
   "outputs": [],
   "source": [
    "mini_alc = alcohol[:10]"
   ]
  },
  {
   "cell_type": "code",
   "execution_count": 179,
   "id": "6abdd57a",
   "metadata": {},
   "outputs": [
    {
     "data": {
      "text/plain": [
       "country\n",
       "Afghanistan            NaN\n",
       "Albania               54.0\n",
       "Algeria               14.0\n",
       "Andorra              312.0\n",
       "Angola                45.0\n",
       "Antigua & Barbuda     45.0\n",
       "Argentina            221.0\n",
       "Armenia               11.0\n",
       "Australia            212.0\n",
       "Austria              191.0\n",
       "Name: wine_servings, dtype: float64"
      ]
     },
     "execution_count": 179,
     "metadata": {},
     "output_type": "execute_result"
    }
   ],
   "source": [
    "mini_alc"
   ]
  },
  {
   "cell_type": "code",
   "execution_count": 180,
   "id": "2c3850cf",
   "metadata": {},
   "outputs": [
    {
     "name": "stdout",
     "output_type": "stream",
     "text": [
      "nan\n",
      "54.0\n",
      "14.0\n",
      "312.0\n",
      "45.0\n",
      "45.0\n",
      "221.0\n",
      "11.0\n",
      "212.0\n",
      "191.0\n"
     ]
    }
   ],
   "source": [
    "for i in mini_alc:\n",
    "    print(i)"
   ]
  },
  {
   "cell_type": "code",
   "execution_count": 181,
   "id": "37ee20a8",
   "metadata": {},
   "outputs": [
    {
     "name": "stdout",
     "output_type": "stream",
     "text": [
      "Afghanistan\n",
      "Albania\n",
      "Algeria\n",
      "Andorra\n",
      "Angola\n",
      "Antigua & Barbuda\n",
      "Argentina\n",
      "Armenia\n",
      "Australia\n",
      "Austria\n"
     ]
    }
   ],
   "source": [
    "for i in mini_alc.index:\n",
    "    print(i)"
   ]
  },
  {
   "cell_type": "code",
   "execution_count": 187,
   "id": "ca29e6b8",
   "metadata": {},
   "outputs": [
    {
     "name": "stdout",
     "output_type": "stream",
     "text": [
      "Afghanistan nan\n",
      "Albania 54.0\n",
      "Algeria 14.0\n",
      "Andorra 312.0\n",
      "Angola 45.0\n",
      "Antigua & Barbuda 45.0\n",
      "Argentina 221.0\n",
      "Armenia 11.0\n",
      "Australia 212.0\n",
      "Austria 191.0\n"
     ]
    }
   ],
   "source": [
    "for i in mini_alc.index:\n",
    "    print(i,mini_alc[i])"
   ]
  },
  {
   "cell_type": "code",
   "execution_count": 188,
   "id": "53f1c478",
   "metadata": {},
   "outputs": [
    {
     "name": "stdout",
     "output_type": "stream",
     "text": [
      "('Afghanistan', nan)\n",
      "('Albania', 54.0)\n",
      "('Algeria', 14.0)\n",
      "('Andorra', 312.0)\n",
      "('Angola', 45.0)\n",
      "('Antigua & Barbuda', 45.0)\n",
      "('Argentina', 221.0)\n",
      "('Armenia', 11.0)\n",
      "('Australia', 212.0)\n",
      "('Austria', 191.0)\n"
     ]
    }
   ],
   "source": [
    "for i in mini_alc.items():\n",
    "    print(i)"
   ]
  },
  {
   "cell_type": "code",
   "execution_count": 193,
   "id": "3be1af16",
   "metadata": {},
   "outputs": [
    {
     "data": {
      "text/plain": [
       "country\n",
       "Vanuatu      11.0\n",
       "Venezuela     3.0\n",
       "Vietnam       1.0\n",
       "Name: wine_servings, dtype: float64"
      ]
     },
     "execution_count": 193,
     "metadata": {},
     "output_type": "execute_result"
    }
   ],
   "source": [
    "alcohol.filter(regex='^V')"
   ]
  },
  {
   "cell_type": "code",
   "execution_count": 194,
   "id": "6058bbff",
   "metadata": {},
   "outputs": [
    {
     "data": {
      "text/plain": [
       "country\n",
       "Afghanistan            NaN\n",
       "Albania               54.0\n",
       "Algeria               14.0\n",
       "Andorra              312.0\n",
       "Angola                45.0\n",
       "Antigua & Barbuda     45.0\n",
       "Argentina            221.0\n",
       "Armenia               11.0\n",
       "Australia            212.0\n",
       "Austria              191.0\n",
       "Azerbaijan             5.0\n",
       "Name: wine_servings, dtype: float64"
      ]
     },
     "execution_count": 194,
     "metadata": {},
     "output_type": "execute_result"
    }
   ],
   "source": [
    "alcohol.filter(regex='^A')"
   ]
  },
  {
   "cell_type": "code",
   "execution_count": 195,
   "id": "adb5b18f",
   "metadata": {},
   "outputs": [
    {
     "data": {
      "text/plain": [
       "country\n",
       "Afghanistan      NaN\n",
       "Kazakhstan      12.0\n",
       "Kyrgyzstan       6.0\n",
       "Pakistan         NaN\n",
       "Tajikistan       NaN\n",
       "Turkmenistan    32.0\n",
       "Uzbekistan       8.0\n",
       "Name: wine_servings, dtype: float64"
      ]
     },
     "execution_count": 195,
     "metadata": {},
     "output_type": "execute_result"
    }
   ],
   "source": [
    "alcohol.filter(like='stan')"
   ]
  },
  {
   "cell_type": "code",
   "execution_count": 196,
   "id": "f88d8132",
   "metadata": {},
   "outputs": [
    {
     "data": {
      "text/plain": [
       "country\n",
       "Andorra              312.0\n",
       "Argentina            221.0\n",
       "Australia            212.0\n",
       "Belgium              212.0\n",
       "Croatia              254.0\n",
       "Denmark              278.0\n",
       "Equatorial Guinea    233.0\n",
       "Greece               218.0\n",
       "Italy                237.0\n",
       "Luxembourg           271.0\n",
       "Portugal             339.0\n",
       "Slovenia             276.0\n",
       "Name: wine_servings, dtype: float64"
      ]
     },
     "execution_count": 196,
     "metadata": {},
     "output_type": "execute_result"
    }
   ],
   "source": [
    "alcohol[alcohol>200]"
   ]
  },
  {
   "cell_type": "code",
   "execution_count": 197,
   "id": "72dd8eef",
   "metadata": {},
   "outputs": [
    {
     "data": {
      "text/plain": [
       "country\n",
       "Andorra              312.0\n",
       "Argentina            221.0\n",
       "Australia            212.0\n",
       "Belgium              212.0\n",
       "Croatia              254.0\n",
       "Denmark              278.0\n",
       "Equatorial Guinea    233.0\n",
       "Greece               218.0\n",
       "Italy                237.0\n",
       "Luxembourg           271.0\n",
       "Portugal             339.0\n",
       "Slovenia             276.0\n",
       "Name: wine_servings, dtype: float64"
      ]
     },
     "execution_count": 197,
     "metadata": {},
     "output_type": "execute_result"
    }
   ],
   "source": [
    "alcohol.loc[alcohol>200]"
   ]
  },
  {
   "cell_type": "code",
   "execution_count": 198,
   "id": "80b43c3d",
   "metadata": {},
   "outputs": [],
   "source": [
    "def get200(x):\n",
    "    return x > 200"
   ]
  },
  {
   "cell_type": "code",
   "execution_count": 199,
   "id": "95b27497",
   "metadata": {},
   "outputs": [
    {
     "data": {
      "text/plain": [
       "country\n",
       "Andorra              312.0\n",
       "Argentina            221.0\n",
       "Australia            212.0\n",
       "Belgium              212.0\n",
       "Croatia              254.0\n",
       "Denmark              278.0\n",
       "Equatorial Guinea    233.0\n",
       "Greece               218.0\n",
       "Italy                237.0\n",
       "Luxembourg           271.0\n",
       "Portugal             339.0\n",
       "Slovenia             276.0\n",
       "Name: wine_servings, dtype: float64"
      ]
     },
     "execution_count": 199,
     "metadata": {},
     "output_type": "execute_result"
    }
   ],
   "source": [
    "alcohol[get200]"
   ]
  },
  {
   "cell_type": "code",
   "execution_count": 201,
   "id": "1e9fe2d2",
   "metadata": {},
   "outputs": [
    {
     "data": {
      "text/plain": [
       "country\n",
       "Afghanistan             Too small\n",
       "Albania                 Too small\n",
       "Algeria                 Too small\n",
       "Andorra                     312.0\n",
       "Angola                  Too small\n",
       "Antigua & Barbuda       Too small\n",
       "Argentina                   221.0\n",
       "Armenia                 Too small\n",
       "Australia                   212.0\n",
       "Austria                 Too small\n",
       "Azerbaijan              Too small\n",
       "Bahamas                 Too small\n",
       "Bahrain                 Too small\n",
       "Bangladesh              Too small\n",
       "Barbados                Too small\n",
       "Belarus                 Too small\n",
       "Belgium                     212.0\n",
       "Belize                  Too small\n",
       "Benin                   Too small\n",
       "Bhutan                  Too small\n",
       "                          ...    \n",
       "Togo                    Too small\n",
       "Tonga                   Too small\n",
       "Trinidad & Tobago       Too small\n",
       "Tunisia                 Too small\n",
       "Turkey                  Too small\n",
       "Turkmenistan            Too small\n",
       "Tuvalu                  Too small\n",
       "USA                     Too small\n",
       "Uganda                  Too small\n",
       "Ukraine                 Too small\n",
       "United Arab Emirates    Too small\n",
       "United Kingdom          Too small\n",
       "Uruguay                 Too small\n",
       "Uzbekistan              Too small\n",
       "Vanuatu                 Too small\n",
       "Venezuela               Too small\n",
       "Vietnam                 Too small\n",
       "Yemen                   Too small\n",
       "Zambia                  Too small\n",
       "Zimbabwe                Too small\n",
       "Name: wine_servings, Length: 193, dtype: object"
      ]
     },
     "execution_count": 201,
     "metadata": {},
     "output_type": "execute_result"
    }
   ],
   "source": [
    "alcohol.where(lambda x: x > 200, other = 'Too small')"
   ]
  },
  {
   "cell_type": "code",
   "execution_count": 202,
   "id": "5b1ca84f",
   "metadata": {},
   "outputs": [
    {
     "data": {
      "text/plain": [
       "country\n",
       "Andorra              312.0\n",
       "Argentina            221.0\n",
       "Australia            212.0\n",
       "Belgium              212.0\n",
       "Croatia              254.0\n",
       "Denmark              278.0\n",
       "Equatorial Guinea    233.0\n",
       "Greece               218.0\n",
       "Italy                237.0\n",
       "Luxembourg           271.0\n",
       "Portugal             339.0\n",
       "Slovenia             276.0\n",
       "Name: wine_servings, dtype: float64"
      ]
     },
     "execution_count": 202,
     "metadata": {},
     "output_type": "execute_result"
    }
   ],
   "source": [
    "alcohol.where(lambda x: x > 200).dropna()"
   ]
  },
  {
   "cell_type": "code",
   "execution_count": 203,
   "id": "416210fd",
   "metadata": {},
   "outputs": [
    {
     "data": {
      "text/plain": [
       "country\n",
       "Albania                  54.0\n",
       "Algeria                  14.0\n",
       "Angola                   45.0\n",
       "Antigua & Barbuda        45.0\n",
       "Armenia                  11.0\n",
       "Austria                 191.0\n",
       "Azerbaijan                5.0\n",
       "Bahamas                  51.0\n",
       "Bahrain                   7.0\n",
       "Barbados                 36.0\n",
       "Belarus                  42.0\n",
       "Belize                    8.0\n",
       "Benin                    13.0\n",
       "Bolivia                   8.0\n",
       "Bosnia-Herzegovina        8.0\n",
       "Botswana                 35.0\n",
       "Brazil                   16.0\n",
       "Brunei                    1.0\n",
       "Bulgaria                 94.0\n",
       "Burkina Faso              7.0\n",
       "                        ...  \n",
       "Thailand                  1.0\n",
       "Timor-Leste               4.0\n",
       "Togo                     19.0\n",
       "Tonga                     5.0\n",
       "Trinidad & Tobago         7.0\n",
       "Tunisia                   2.0\n",
       "Turkey                    7.0\n",
       "Turkmenistan             32.0\n",
       "Tuvalu                    9.0\n",
       "USA                      84.0\n",
       "Ukraine                  45.0\n",
       "United Arab Emirates      5.0\n",
       "United Kingdom          195.0\n",
       "Uruguay                  22.0\n",
       "Uzbekistan                8.0\n",
       "Vanuatu                  11.0\n",
       "Venezuela                 3.0\n",
       "Vietnam                   1.0\n",
       "Zambia                    4.0\n",
       "Zimbabwe                  4.0\n",
       "Name: wine_servings, Length: 150, dtype: float64"
      ]
     },
     "execution_count": 203,
     "metadata": {},
     "output_type": "execute_result"
    }
   ],
   "source": [
    "alcohol.mask(lambda x: x > 200).dropna()"
   ]
  }
 ],
 "metadata": {
  "kernelspec": {
   "display_name": "Python 3",
   "language": "python",
   "name": "python3"
  },
  "language_info": {
   "codemirror_mode": {
    "name": "ipython",
    "version": 3
   },
   "file_extension": ".py",
   "mimetype": "text/x-python",
   "name": "python",
   "nbconvert_exporter": "python",
   "pygments_lexer": "ipython3",
   "version": "3.13.2"
  }
 },
 "nbformat": 4,
 "nbformat_minor": 5
}
