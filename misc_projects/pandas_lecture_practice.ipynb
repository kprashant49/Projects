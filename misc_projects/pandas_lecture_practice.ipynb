{
 "cells": [
  {
   "cell_type": "code",
   "execution_count": 5,
   "id": "53421c85",
   "metadata": {},
   "outputs": [],
   "source": [
    "import pandas as pd"
   ]
  },
  {
   "cell_type": "code",
   "execution_count": 6,
   "id": "e87e1e41",
   "metadata": {},
   "outputs": [
    {
     "data": {
      "text/plain": [
       "'2.2.3'"
      ]
     },
     "execution_count": 6,
     "metadata": {},
     "output_type": "execute_result"
    }
   ],
   "source": [
    "pd.__version__"
   ]
  },
  {
   "cell_type": "code",
   "execution_count": 7,
   "id": "3bc851de",
   "metadata": {},
   "outputs": [],
   "source": [
    "ages = [12,34,56]"
   ]
  },
  {
   "cell_type": "code",
   "execution_count": 8,
   "id": "49a65a70",
   "metadata": {},
   "outputs": [
    {
     "data": {
      "text/plain": [
       "0    12.0\n",
       "1    34.0\n",
       "2    56.0\n",
       "dtype: float64"
      ]
     },
     "execution_count": 8,
     "metadata": {},
     "output_type": "execute_result"
    }
   ],
   "source": [
    "pd.Series(ages,dtype='float')"
   ]
  },
  {
   "cell_type": "code",
   "execution_count": 9,
   "id": "65e28fae",
   "metadata": {},
   "outputs": [
    {
     "data": {
      "text/plain": [
       "[1, 2, 3, 4, 5]"
      ]
     },
     "execution_count": 9,
     "metadata": {},
     "output_type": "execute_result"
    }
   ],
   "source": [
    "list(pd.RangeIndex(start=1,stop=6,step=1))"
   ]
  },
  {
   "cell_type": "code",
   "execution_count": 10,
   "id": "31778698",
   "metadata": {},
   "outputs": [],
   "source": [
    "Car_types = ['Sedan','Hatchback','Coupe','SUV']"
   ]
  },
  {
   "cell_type": "code",
   "execution_count": 11,
   "id": "b8f5fdfc",
   "metadata": {},
   "outputs": [],
   "source": [
    "Car_length = [4,3,5,4]"
   ]
  },
  {
   "cell_type": "code",
   "execution_count": 12,
   "id": "e54db80c",
   "metadata": {},
   "outputs": [],
   "source": [
    "Car_specs=pd.Series(data=Car_length,index=Car_types,name='Car Description')"
   ]
  },
  {
   "cell_type": "code",
   "execution_count": 13,
   "id": "6e6efb31",
   "metadata": {},
   "outputs": [
    {
     "name": "stdout",
     "output_type": "stream",
     "text": [
      "Sedan        4\n",
      "Hatchback    3\n",
      "Coupe        5\n",
      "SUV          4\n",
      "Name: Car Description, dtype: int64\n"
     ]
    }
   ],
   "source": [
    "print(Car_specs)"
   ]
  },
  {
   "cell_type": "code",
   "execution_count": 14,
   "id": "2a5270bc",
   "metadata": {},
   "outputs": [
    {
     "data": {
      "text/plain": [
       "{'Sedan': 4, 'Hatchback': 3, 'Coupe': 5, 'SUV': 4}"
      ]
     },
     "execution_count": 14,
     "metadata": {},
     "output_type": "execute_result"
    }
   ],
   "source": [
    "Car_dict = {'Sedan':4,'Hatchback':3,'Coupe':5,'SUV':4}\n",
    "Car_dict"
   ]
  },
  {
   "cell_type": "code",
   "execution_count": 15,
   "id": "aaa5862c",
   "metadata": {},
   "outputs": [],
   "source": [
    "Car_specs2=pd.Series(Car_dict)"
   ]
  },
  {
   "cell_type": "code",
   "execution_count": 16,
   "id": "ed4805df",
   "metadata": {},
   "outputs": [
    {
     "data": {
      "text/plain": [
       "Sedan        4\n",
       "Hatchback    3\n",
       "Coupe        5\n",
       "SUV          4\n",
       "dtype: int64"
      ]
     },
     "execution_count": 16,
     "metadata": {},
     "output_type": "execute_result"
    }
   ],
   "source": [
    "Car_specs2"
   ]
  },
  {
   "cell_type": "code",
   "execution_count": 17,
   "id": "6c93c4cc",
   "metadata": {},
   "outputs": [
    {
     "data": {
      "text/plain": [
       "{'Sedan': 4, 'Hatchback': 3, 'Coupe': 5, 'SUV': 4}"
      ]
     },
     "execution_count": 17,
     "metadata": {},
     "output_type": "execute_result"
    }
   ],
   "source": [
    "Car_desc_list=list(zip(Car_types,Car_length))\n",
    "Car_desc_dict=dict(zip(Car_types,Car_length))\n",
    "Car_desc_list\n",
    "Car_desc_dict"
   ]
  },
  {
   "cell_type": "code",
   "execution_count": 18,
   "id": "17814fa2",
   "metadata": {},
   "outputs": [
    {
     "data": {
      "text/plain": [
       "[('Sedan', 4), ('Hatchback', 3), ('Coupe', 5), ('SUV', 4)]"
      ]
     },
     "execution_count": 18,
     "metadata": {},
     "output_type": "execute_result"
    }
   ],
   "source": [
    "Car_desc_list"
   ]
  },
  {
   "cell_type": "code",
   "execution_count": 19,
   "id": "9667fefd",
   "metadata": {},
   "outputs": [
    {
     "data": {
      "text/plain": [
       "Sedan        4\n",
       "Hatchback    3\n",
       "Coupe        5\n",
       "SUV          4\n",
       "dtype: int64"
      ]
     },
     "execution_count": 19,
     "metadata": {},
     "output_type": "execute_result"
    }
   ],
   "source": [
    "pd.Series(Car_desc_dict)"
   ]
  },
  {
   "cell_type": "code",
   "execution_count": 20,
   "id": "d0e30dfa",
   "metadata": {},
   "outputs": [
    {
     "data": {
      "text/plain": [
       "{'Sedan': 4, 'Hatchback': 3, 'Coupe': 5, 'SUV': 4}"
      ]
     },
     "execution_count": 20,
     "metadata": {},
     "output_type": "execute_result"
    }
   ],
   "source": [
    "{Car_ty:Car_len for Car_ty,Car_len in zip(Car_types,Car_length)}"
   ]
  },
  {
   "cell_type": "code",
   "execution_count": 21,
   "id": "34ebc93e",
   "metadata": {},
   "outputs": [
    {
     "name": "stdout",
     "output_type": "stream",
     "text": [
      "Help on class zip in module builtins:\n",
      "\n",
      "class zip(object)\n",
      " |  zip(*iterables, strict=False)\n",
      " |\n",
      " |  The zip object yields n-length tuples, where n is the number of iterables\n",
      " |  passed as positional arguments to zip().  The i-th element in every tuple\n",
      " |  comes from the i-th iterable argument to zip().  This continues until the\n",
      " |  shortest argument is exhausted.\n",
      " |\n",
      " |  If strict is true and one of the arguments is exhausted before the others,\n",
      " |  raise a ValueError.\n",
      " |\n",
      " |     >>> list(zip('abcdefg', range(3), range(4)))\n",
      " |     [('a', 0, 0), ('b', 1, 1), ('c', 2, 2)]\n",
      " |\n",
      " |  Methods defined here:\n",
      " |\n",
      " |  __getattribute__(self, name, /)\n",
      " |      Return getattr(self, name).\n",
      " |\n",
      " |  __iter__(self, /)\n",
      " |      Implement iter(self).\n",
      " |\n",
      " |  __next__(self, /)\n",
      " |      Implement next(self).\n",
      " |\n",
      " |  __reduce__(self, /)\n",
      " |      Return state information for pickling.\n",
      " |\n",
      " |  __setstate__(self, object, /)\n",
      " |      Set state information for unpickling.\n",
      " |\n",
      " |  ----------------------------------------------------------------------\n",
      " |  Static methods defined here:\n",
      " |\n",
      " |  __new__(*args, **kwargs)\n",
      " |      Create and return a new object.  See help(type) for accurate signature.\n",
      "\n"
     ]
    }
   ],
   "source": [
    "help(zip)"
   ]
  },
  {
   "cell_type": "code",
   "execution_count": 22,
   "id": "2fe9f964",
   "metadata": {},
   "outputs": [
    {
     "data": {
      "text/plain": [
       "0      0\n",
       "1      1\n",
       "2      2\n",
       "3      3\n",
       "4      4\n",
       "      ..\n",
       "95    95\n",
       "96    96\n",
       "97    97\n",
       "98    98\n",
       "99    99\n",
       "Length: 100, dtype: int64"
      ]
     },
     "execution_count": 22,
     "metadata": {},
     "output_type": "execute_result"
    }
   ],
   "source": [
    "pd.Series(range(100))"
   ]
  },
  {
   "cell_type": "code",
   "execution_count": 23,
   "id": "5cb8ad01",
   "metadata": {},
   "outputs": [],
   "source": [
    "pd.options.display.min_rows = 40"
   ]
  },
  {
   "cell_type": "code",
   "execution_count": 24,
   "id": "5f59f529",
   "metadata": {},
   "outputs": [
    {
     "data": {
      "text/plain": [
       "0      0\n",
       "1      1\n",
       "2      2\n",
       "3      3\n",
       "4      4\n",
       "5      5\n",
       "6      6\n",
       "7      7\n",
       "8      8\n",
       "9      9\n",
       "10    10\n",
       "11    11\n",
       "12    12\n",
       "13    13\n",
       "14    14\n",
       "15    15\n",
       "16    16\n",
       "17    17\n",
       "18    18\n",
       "19    19\n",
       "      ..\n",
       "80    80\n",
       "81    81\n",
       "82    82\n",
       "83    83\n",
       "84    84\n",
       "85    85\n",
       "86    86\n",
       "87    87\n",
       "88    88\n",
       "89    89\n",
       "90    90\n",
       "91    91\n",
       "92    92\n",
       "93    93\n",
       "94    94\n",
       "95    95\n",
       "96    96\n",
       "97    97\n",
       "98    98\n",
       "99    99\n",
       "Length: 100, dtype: int64"
      ]
     },
     "execution_count": 24,
     "metadata": {},
     "output_type": "execute_result"
    }
   ],
   "source": [
    "pd.Series(range(100))"
   ]
  },
  {
   "cell_type": "code",
   "execution_count": 25,
   "id": "74b1d738",
   "metadata": {},
   "outputs": [],
   "source": [
    "from string import ascii_lowercase"
   ]
  },
  {
   "cell_type": "code",
   "execution_count": 26,
   "id": "210f2e09",
   "metadata": {},
   "outputs": [
    {
     "data": {
      "text/plain": [
       "'abcdefghijklmnopqrstuvwxyz'"
      ]
     },
     "execution_count": 26,
     "metadata": {},
     "output_type": "execute_result"
    }
   ],
   "source": [
    "ascii_lowercase"
   ]
  },
  {
   "cell_type": "code",
   "execution_count": 27,
   "id": "66fe6166",
   "metadata": {},
   "outputs": [
    {
     "data": {
      "text/plain": [
       "['a',\n",
       " 'b',\n",
       " 'c',\n",
       " 'd',\n",
       " 'e',\n",
       " 'f',\n",
       " 'g',\n",
       " 'h',\n",
       " 'i',\n",
       " 'j',\n",
       " 'k',\n",
       " 'l',\n",
       " 'm',\n",
       " 'n',\n",
       " 'o',\n",
       " 'p',\n",
       " 'q',\n",
       " 'r',\n",
       " 's',\n",
       " 't',\n",
       " 'u',\n",
       " 'v',\n",
       " 'w',\n",
       " 'x',\n",
       " 'y',\n",
       " 'z']"
      ]
     },
     "execution_count": 27,
     "metadata": {},
     "output_type": "execute_result"
    }
   ],
   "source": [
    "list(ascii_lowercase)"
   ]
  },
  {
   "cell_type": "code",
   "execution_count": 28,
   "id": "f7b078c5",
   "metadata": {},
   "outputs": [],
   "source": [
    "letters = list(ascii_lowercase)"
   ]
  },
  {
   "cell_type": "code",
   "execution_count": 29,
   "id": "44c492fd",
   "metadata": {},
   "outputs": [],
   "source": [
    "alphabet = pd.Series(letters)"
   ]
  },
  {
   "cell_type": "code",
   "execution_count": 30,
   "id": "1489e8cc",
   "metadata": {},
   "outputs": [
    {
     "data": {
      "text/plain": [
       "0     a\n",
       "1     b\n",
       "2     c\n",
       "3     d\n",
       "4     e\n",
       "5     f\n",
       "6     g\n",
       "7     h\n",
       "8     i\n",
       "9     j\n",
       "10    k\n",
       "11    l\n",
       "12    m\n",
       "13    n\n",
       "14    o\n",
       "15    p\n",
       "16    q\n",
       "17    r\n",
       "18    s\n",
       "19    t\n",
       "20    u\n",
       "21    v\n",
       "22    w\n",
       "23    x\n",
       "24    y\n",
       "25    z\n",
       "dtype: object"
      ]
     },
     "execution_count": 30,
     "metadata": {},
     "output_type": "execute_result"
    }
   ],
   "source": [
    "alphabet"
   ]
  },
  {
   "cell_type": "code",
   "execution_count": 31,
   "id": "841e0a16",
   "metadata": {},
   "outputs": [
    {
     "data": {
      "text/plain": [
       "'d'"
      ]
     },
     "execution_count": 31,
     "metadata": {},
     "output_type": "execute_result"
    }
   ],
   "source": [
    "alphabet[3]"
   ]
  },
  {
   "cell_type": "code",
   "execution_count": 32,
   "id": "79a18e39",
   "metadata": {},
   "outputs": [
    {
     "data": {
      "text/plain": [
       "0    a\n",
       "1    b\n",
       "2    c\n",
       "3    d\n",
       "dtype: object"
      ]
     },
     "execution_count": 32,
     "metadata": {},
     "output_type": "execute_result"
    }
   ],
   "source": [
    "alphabet[:4]"
   ]
  },
  {
   "cell_type": "code",
   "execution_count": 33,
   "id": "65ffe434",
   "metadata": {},
   "outputs": [
    {
     "data": {
      "text/plain": [
       "0     a\n",
       "1     b\n",
       "2     c\n",
       "3     d\n",
       "4     e\n",
       "5     f\n",
       "6     g\n",
       "7     h\n",
       "8     i\n",
       "9     j\n",
       "10    k\n",
       "11    l\n",
       "12    m\n",
       "13    n\n",
       "14    o\n",
       "15    p\n",
       "16    q\n",
       "17    r\n",
       "18    s\n",
       "19    t\n",
       "dtype: object"
      ]
     },
     "execution_count": 33,
     "metadata": {},
     "output_type": "execute_result"
    }
   ],
   "source": [
    "alphabet[:-6]"
   ]
  },
  {
   "cell_type": "code",
   "execution_count": 34,
   "id": "58b65448",
   "metadata": {},
   "outputs": [
    {
     "data": {
      "text/plain": [
       "20    u\n",
       "21    v\n",
       "22    w\n",
       "23    x\n",
       "24    y\n",
       "25    z\n",
       "dtype: object"
      ]
     },
     "execution_count": 34,
     "metadata": {},
     "output_type": "execute_result"
    }
   ],
   "source": [
    "alphabet[-6:]"
   ]
  },
  {
   "cell_type": "code",
   "execution_count": 35,
   "id": "678f2215",
   "metadata": {},
   "outputs": [],
   "source": [
    "from string import ascii_uppercase"
   ]
  },
  {
   "cell_type": "code",
   "execution_count": 36,
   "id": "6e6fc22d",
   "metadata": {},
   "outputs": [
    {
     "data": {
      "text/plain": [
       "'ABCDEFGHIJKLMNOPQRSTUVWXYZ'"
      ]
     },
     "execution_count": 36,
     "metadata": {},
     "output_type": "execute_result"
    }
   ],
   "source": [
    "ascii_uppercase"
   ]
  },
  {
   "cell_type": "code",
   "execution_count": 37,
   "id": "0db0c8a1",
   "metadata": {},
   "outputs": [],
   "source": [
    "labeled_alphabet = pd.Series(data=list(ascii_lowercase),index=list(ascii_uppercase))"
   ]
  },
  {
   "cell_type": "code",
   "execution_count": 38,
   "id": "119ca79d",
   "metadata": {},
   "outputs": [
    {
     "data": {
      "text/plain": [
       "A    a\n",
       "B    b\n",
       "C    c\n",
       "D    d\n",
       "E    e\n",
       "F    f\n",
       "G    g\n",
       "H    h\n",
       "I    i\n",
       "J    j\n",
       "K    k\n",
       "L    l\n",
       "M    m\n",
       "N    n\n",
       "O    o\n",
       "P    p\n",
       "Q    q\n",
       "R    r\n",
       "S    s\n",
       "T    t\n",
       "U    u\n",
       "V    v\n",
       "W    w\n",
       "X    x\n",
       "Y    y\n",
       "Z    z\n",
       "dtype: object"
      ]
     },
     "execution_count": 38,
     "metadata": {},
     "output_type": "execute_result"
    }
   ],
   "source": [
    "labeled_alphabet"
   ]
  },
  {
   "cell_type": "code",
   "execution_count": 39,
   "id": "677e4466",
   "metadata": {},
   "outputs": [],
   "source": [
    "labeled_alphabet = pd.Series(data=list(ascii_lowercase),index=map(lambda x: 'label_' + x, list(ascii_uppercase)))"
   ]
  },
  {
   "cell_type": "code",
   "execution_count": 40,
   "id": "c1d07f93",
   "metadata": {},
   "outputs": [
    {
     "data": {
      "text/plain": [
       "label_A    a\n",
       "label_B    b\n",
       "label_C    c\n",
       "label_D    d\n",
       "label_E    e\n",
       "label_F    f\n",
       "label_G    g\n",
       "label_H    h\n",
       "label_I    i\n",
       "label_J    j\n",
       "label_K    k\n",
       "label_L    l\n",
       "label_M    m\n",
       "label_N    n\n",
       "label_O    o\n",
       "label_P    p\n",
       "label_Q    q\n",
       "label_R    r\n",
       "label_S    s\n",
       "label_T    t\n",
       "label_U    u\n",
       "label_V    v\n",
       "label_W    w\n",
       "label_X    x\n",
       "label_Y    y\n",
       "label_Z    z\n",
       "dtype: object"
      ]
     },
     "execution_count": 40,
     "metadata": {},
     "output_type": "execute_result"
    }
   ],
   "source": [
    "labeled_alphabet"
   ]
  },
  {
   "cell_type": "code",
   "execution_count": 41,
   "id": "5749067f",
   "metadata": {},
   "outputs": [
    {
     "name": "stdout",
     "output_type": "stream",
     "text": [
      "Help on class map in module builtins:\n",
      "\n",
      "class map(object)\n",
      " |  map(function, iterable, /, *iterables)\n",
      " |\n",
      " |  Make an iterator that computes the function using arguments from\n",
      " |  each of the iterables.  Stops when the shortest iterable is exhausted.\n",
      " |\n",
      " |  Methods defined here:\n",
      " |\n",
      " |  __getattribute__(self, name, /)\n",
      " |      Return getattr(self, name).\n",
      " |\n",
      " |  __iter__(self, /)\n",
      " |      Implement iter(self).\n",
      " |\n",
      " |  __next__(self, /)\n",
      " |      Implement next(self).\n",
      " |\n",
      " |  __reduce__(self, /)\n",
      " |      Return state information for pickling.\n",
      " |\n",
      " |  ----------------------------------------------------------------------\n",
      " |  Static methods defined here:\n",
      " |\n",
      " |  __new__(*args, **kwargs)\n",
      " |      Create and return a new object.  See help(type) for accurate signature.\n",
      "\n"
     ]
    }
   ],
   "source": [
    "help(map)"
   ]
  },
  {
   "cell_type": "code",
   "execution_count": 42,
   "id": "0cc91eb7",
   "metadata": {},
   "outputs": [
    {
     "data": {
      "text/plain": [
       "label_A    a\n",
       "label_B    b\n",
       "label_C    c\n",
       "dtype: object"
      ]
     },
     "execution_count": 42,
     "metadata": {},
     "output_type": "execute_result"
    }
   ],
   "source": [
    "labeled_alphabet['label_A':'label_C']"
   ]
  },
  {
   "cell_type": "code",
   "execution_count": 43,
   "id": "878f2a56",
   "metadata": {},
   "outputs": [
    {
     "data": {
      "text/plain": [
       "'c'"
      ]
     },
     "execution_count": 43,
     "metadata": {},
     "output_type": "execute_result"
    }
   ],
   "source": [
    "labeled_alphabet.label_C\n"
   ]
  },
  {
   "cell_type": "code",
   "execution_count": 44,
   "id": "beb1050a",
   "metadata": {},
   "outputs": [
    {
     "data": {
      "text/plain": [
       "label_A    a\n",
       "label_B    b\n",
       "label_C    c\n",
       "dtype: object"
      ]
     },
     "execution_count": 44,
     "metadata": {},
     "output_type": "execute_result"
    }
   ],
   "source": [
    "labeled_alphabet.loc['label_A':'label_C']"
   ]
  },
  {
   "cell_type": "code",
   "execution_count": 45,
   "id": "40708444",
   "metadata": {},
   "outputs": [
    {
     "data": {
      "text/plain": [
       "Sedan        4\n",
       "Hatchback    3\n",
       "Coupe        5\n",
       "SUV          4\n",
       "Name: Car Description, dtype: int64"
      ]
     },
     "execution_count": 45,
     "metadata": {},
     "output_type": "execute_result"
    }
   ],
   "source": [
    "Car_specs"
   ]
  },
  {
   "cell_type": "code",
   "execution_count": 46,
   "id": "1c8270b1",
   "metadata": {},
   "outputs": [
    {
     "data": {
      "text/plain": [
       "Sedan        4\n",
       "Hatchback    3\n",
       "Coupe        5\n",
       "SUV          4\n",
       "Name: Car Description, dtype: int64"
      ]
     },
     "execution_count": 46,
     "metadata": {},
     "output_type": "execute_result"
    }
   ],
   "source": [
    "Car_specs.loc[[True,True,True,True]]"
   ]
  },
  {
   "cell_type": "code",
   "execution_count": 47,
   "id": "f96e0d8e",
   "metadata": {},
   "outputs": [
    {
     "data": {
      "text/plain": [
       "Sedan        4\n",
       "Hatchback    3\n",
       "SUV          4\n",
       "Name: Car Description, dtype: int64"
      ]
     },
     "execution_count": 47,
     "metadata": {},
     "output_type": "execute_result"
    }
   ],
   "source": [
    "Car_specs.loc[[True,True,False,True]]"
   ]
  },
  {
   "cell_type": "code",
   "execution_count": 48,
   "id": "9902505f",
   "metadata": {},
   "outputs": [
    {
     "data": {
      "text/plain": [
       "label_A    a\n",
       "label_B    b\n",
       "label_C    c\n",
       "label_D    d\n",
       "label_E    e\n",
       "label_F    f\n",
       "label_G    g\n",
       "label_H    h\n",
       "label_I    i\n",
       "label_J    j\n",
       "label_K    k\n",
       "label_L    l\n",
       "label_M    m\n",
       "label_N    n\n",
       "label_O    o\n",
       "label_P    p\n",
       "label_Q    q\n",
       "label_R    r\n",
       "label_S    s\n",
       "label_T    t\n",
       "label_U    u\n",
       "label_V    v\n",
       "label_W    w\n",
       "label_X    x\n",
       "label_Y    y\n",
       "label_Z    z\n",
       "dtype: object"
      ]
     },
     "execution_count": 48,
     "metadata": {},
     "output_type": "execute_result"
    }
   ],
   "source": [
    "labeled_alphabet.loc[[True for i in range(26)]]"
   ]
  },
  {
   "cell_type": "code",
   "execution_count": 49,
   "id": "2e7e3528",
   "metadata": {},
   "outputs": [
    {
     "data": {
      "text/plain": [
       "label_A    a\n",
       "label_C    c\n",
       "label_E    e\n",
       "label_G    g\n",
       "label_I    i\n",
       "label_K    k\n",
       "label_M    m\n",
       "label_O    o\n",
       "label_Q    q\n",
       "label_S    s\n",
       "label_U    u\n",
       "label_W    w\n",
       "label_Y    y\n",
       "dtype: object"
      ]
     },
     "execution_count": 49,
     "metadata": {},
     "output_type": "execute_result"
    }
   ],
   "source": [
    "labeled_alphabet.loc[[True if i%2==0 else False for i in range(26)]]"
   ]
  },
  {
   "cell_type": "code",
   "execution_count": 50,
   "id": "0e008f0f",
   "metadata": {},
   "outputs": [
    {
     "data": {
      "text/plain": [
       "label_A    a\n",
       "label_C    c\n",
       "label_E    e\n",
       "label_G    g\n",
       "label_I    i\n",
       "label_K    k\n",
       "label_M    m\n",
       "label_O    o\n",
       "label_Q    q\n",
       "label_S    s\n",
       "label_U    u\n",
       "label_W    w\n",
       "label_Y    y\n",
       "dtype: object"
      ]
     },
     "execution_count": 50,
     "metadata": {},
     "output_type": "execute_result"
    }
   ],
   "source": [
    "result = []\n",
    "for i in range(26):\n",
    "    if i % 2 == 0:\n",
    "        result.append(True)\n",
    "    else:\n",
    "        result.append(False)\n",
    "        \n",
    "labeled_alphabet.loc[result]\n"
   ]
  },
  {
   "cell_type": "code",
   "execution_count": 51,
   "id": "7db50a39",
   "metadata": {},
   "outputs": [
    {
     "data": {
      "text/plain": [
       "label_B    b\n",
       "label_C    c\n",
       "dtype: object"
      ]
     },
     "execution_count": 51,
     "metadata": {},
     "output_type": "execute_result"
    }
   ],
   "source": [
    "labeled_alphabet.iloc[1:3]"
   ]
  },
  {
   "cell_type": "code",
   "execution_count": 52,
   "id": "4afa5b60",
   "metadata": {},
   "outputs": [
    {
     "data": {
      "text/plain": [
       "label_B    b\n",
       "label_D    d\n",
       "label_E    e\n",
       "dtype: object"
      ]
     },
     "execution_count": 52,
     "metadata": {},
     "output_type": "execute_result"
    }
   ],
   "source": [
    "labeled_alphabet.iloc[[1,3,4]]"
   ]
  },
  {
   "cell_type": "code",
   "execution_count": 53,
   "id": "fe5640b6",
   "metadata": {},
   "outputs": [
    {
     "data": {
      "text/plain": [
       "'a'"
      ]
     },
     "execution_count": 53,
     "metadata": {},
     "output_type": "execute_result"
    }
   ],
   "source": [
    "labeled_alphabet.iloc[0]"
   ]
  },
  {
   "cell_type": "code",
   "execution_count": 54,
   "id": "fd820b87",
   "metadata": {},
   "outputs": [
    {
     "data": {
      "text/plain": [
       "'q'"
      ]
     },
     "execution_count": 54,
     "metadata": {},
     "output_type": "execute_result"
    }
   ],
   "source": [
    "labeled_alphabet.loc['label_Q']"
   ]
  },
  {
   "cell_type": "code",
   "execution_count": 55,
   "id": "270aa6cf",
   "metadata": {},
   "outputs": [
    {
     "data": {
      "text/plain": [
       "'q'"
      ]
     },
     "execution_count": 55,
     "metadata": {},
     "output_type": "execute_result"
    }
   ],
   "source": [
    "labeled_alphabet.loc[lambda x: 'label_Q']"
   ]
  },
  {
   "cell_type": "code",
   "execution_count": 56,
   "id": "27af7e81",
   "metadata": {},
   "outputs": [
    {
     "data": {
      "text/plain": [
       "label_P    p\n",
       "label_Q    q\n",
       "dtype: object"
      ]
     },
     "execution_count": 56,
     "metadata": {},
     "output_type": "execute_result"
    }
   ],
   "source": [
    "labeled_alphabet.loc[lambda x: ['label_P','label_Q']]"
   ]
  },
  {
   "cell_type": "code",
   "execution_count": 57,
   "id": "9202080d",
   "metadata": {},
   "outputs": [
    {
     "data": {
      "text/plain": [
       "label_A    a\n",
       "label_B    b\n",
       "label_C    c\n",
       "label_D    d\n",
       "label_E    e\n",
       "label_F    f\n",
       "label_G    g\n",
       "label_H    h\n",
       "label_I    i\n",
       "label_J    j\n",
       "label_K    k\n",
       "label_L    l\n",
       "label_M    m\n",
       "label_N    n\n",
       "label_O    o\n",
       "label_P    p\n",
       "label_Q    q\n",
       "label_R    r\n",
       "label_S    s\n",
       "label_T    t\n",
       "label_U    u\n",
       "label_V    v\n",
       "label_W    w\n",
       "label_X    x\n",
       "label_Y    y\n",
       "label_Z    z\n",
       "dtype: object"
      ]
     },
     "execution_count": 57,
     "metadata": {},
     "output_type": "execute_result"
    }
   ],
   "source": [
    "labeled_alphabet.loc[lambda x: [True for i in range(26)]]"
   ]
  },
  {
   "cell_type": "code",
   "execution_count": 58,
   "id": "2a920953",
   "metadata": {},
   "outputs": [
    {
     "data": {
      "text/plain": [
       "label_A    a\n",
       "label_B    b\n",
       "label_C    c\n",
       "label_D    d\n",
       "label_E    e\n",
       "label_F    f\n",
       "label_G    g\n",
       "label_H    h\n",
       "label_I    i\n",
       "label_J    j\n",
       "label_K    k\n",
       "label_L    l\n",
       "label_M    m\n",
       "label_N    n\n",
       "label_O    o\n",
       "label_P    p\n",
       "label_Q    q\n",
       "label_R    r\n",
       "label_S    s\n",
       "label_T    t\n",
       "label_U    u\n",
       "label_V    v\n",
       "label_W    w\n",
       "label_X    x\n",
       "label_Y    y\n",
       "label_Z    z\n",
       "dtype: object"
      ]
     },
     "execution_count": 58,
     "metadata": {},
     "output_type": "execute_result"
    }
   ],
   "source": [
    "labeled_alphabet.loc[lambda x: [True for i in range(x.size)]]"
   ]
  },
  {
   "cell_type": "code",
   "execution_count": 59,
   "id": "dbe377fc",
   "metadata": {},
   "outputs": [],
   "source": [
    "def every_fifth(x):\n",
    "    return [True if i%5==0 else False for i in range(x.size)]"
   ]
  },
  {
   "cell_type": "code",
   "execution_count": 60,
   "id": "be134bd6",
   "metadata": {},
   "outputs": [
    {
     "data": {
      "text/plain": [
       "label_A    a\n",
       "label_F    f\n",
       "label_K    k\n",
       "label_P    p\n",
       "label_U    u\n",
       "label_Z    z\n",
       "dtype: object"
      ]
     },
     "execution_count": 60,
     "metadata": {},
     "output_type": "execute_result"
    }
   ],
   "source": [
    "labeled_alphabet.iloc[every_fifth]"
   ]
  },
  {
   "cell_type": "code",
   "execution_count": 61,
   "id": "2733bac0",
   "metadata": {},
   "outputs": [
    {
     "data": {
      "text/plain": [
       "'q'"
      ]
     },
     "execution_count": 61,
     "metadata": {},
     "output_type": "execute_result"
    }
   ],
   "source": [
    "labeled_alphabet.get('label_Q')"
   ]
  },
  {
   "cell_type": "code",
   "execution_count": 62,
   "id": "b9fb56ba",
   "metadata": {},
   "outputs": [],
   "source": [
    "labeled_alphabet.get('label_QQ')"
   ]
  },
  {
   "cell_type": "code",
   "execution_count": 63,
   "id": "94b88165",
   "metadata": {},
   "outputs": [
    {
     "name": "stderr",
     "output_type": "stream",
     "text": [
      "C:\\Users\\kpras\\AppData\\Local\\Temp\\ipykernel_17900\\3625765164.py:1: FutureWarning: Series.__getitem__ treating keys as positions is deprecated. In a future version, integer keys will always be treated as labels (consistent with DataFrame behavior). To access a value by position, use `ser.iloc[pos]`\n",
      "  labeled_alphabet.get(8)\n"
     ]
    },
    {
     "data": {
      "text/plain": [
       "'i'"
      ]
     },
     "execution_count": 63,
     "metadata": {},
     "output_type": "execute_result"
    }
   ],
   "source": [
    "labeled_alphabet.get(8)"
   ]
  },
  {
   "cell_type": "code",
   "execution_count": 64,
   "id": "456e0ac1",
   "metadata": {},
   "outputs": [
    {
     "data": {
      "text/plain": [
       "[0,\n",
       " 1,\n",
       " 4,\n",
       " 9,\n",
       " 16,\n",
       " 25,\n",
       " 36,\n",
       " 49,\n",
       " 64,\n",
       " 81,\n",
       " 100,\n",
       " 121,\n",
       " 144,\n",
       " 169,\n",
       " 196,\n",
       " 225,\n",
       " 256,\n",
       " 289,\n",
       " 324,\n",
       " 361,\n",
       " 400,\n",
       " 441,\n",
       " 484,\n",
       " 529,\n",
       " 576,\n",
       " 625,\n",
       " 676,\n",
       " 729,\n",
       " 784,\n",
       " 841,\n",
       " 900,\n",
       " 961,\n",
       " 1024,\n",
       " 1089,\n",
       " 1156,\n",
       " 1225,\n",
       " 1296,\n",
       " 1369,\n",
       " 1444,\n",
       " 1521,\n",
       " 1600,\n",
       " 1681,\n",
       " 1764,\n",
       " 1849,\n",
       " 1936,\n",
       " 2025,\n",
       " 2116,\n",
       " 2209,\n",
       " 2304,\n",
       " 2401,\n",
       " 2500,\n",
       " 2601,\n",
       " 2704,\n",
       " 2809,\n",
       " 2916,\n",
       " 3025,\n",
       " 3136,\n",
       " 3249,\n",
       " 3364,\n",
       " 3481,\n",
       " 3600,\n",
       " 3721,\n",
       " 3844,\n",
       " 3969,\n",
       " 4096,\n",
       " 4225,\n",
       " 4356,\n",
       " 4489,\n",
       " 4624,\n",
       " 4761,\n",
       " 4900,\n",
       " 5041,\n",
       " 5184,\n",
       " 5329,\n",
       " 5476,\n",
       " 5625,\n",
       " 5776,\n",
       " 5929,\n",
       " 6084,\n",
       " 6241,\n",
       " 6400,\n",
       " 6561,\n",
       " 6724,\n",
       " 6889,\n",
       " 7056,\n",
       " 7225,\n",
       " 7396,\n",
       " 7569,\n",
       " 7744,\n",
       " 7921,\n",
       " 8100,\n",
       " 8281,\n",
       " 8464,\n",
       " 8649,\n",
       " 8836,\n",
       " 9025,\n",
       " 9216,\n",
       " 9409,\n",
       " 9604,\n",
       " 9801]"
      ]
     },
     "execution_count": 64,
     "metadata": {},
     "output_type": "execute_result"
    }
   ],
   "source": [
    "squares = [i*i for i in range(100)]\n",
    "squares"
   ]
  },
  {
   "cell_type": "code",
   "execution_count": 65,
   "id": "c8eb00a8",
   "metadata": {},
   "outputs": [
    {
     "data": {
      "text/plain": [
       "0        0\n",
       "1        1\n",
       "2        4\n",
       "3        9\n",
       "4       16\n",
       "5       25\n",
       "6       36\n",
       "7       49\n",
       "8       64\n",
       "9       81\n",
       "10     100\n",
       "11     121\n",
       "12     144\n",
       "13     169\n",
       "14     196\n",
       "15     225\n",
       "16     256\n",
       "17     289\n",
       "18     324\n",
       "19     361\n",
       "      ... \n",
       "80    6400\n",
       "81    6561\n",
       "82    6724\n",
       "83    6889\n",
       "84    7056\n",
       "85    7225\n",
       "86    7396\n",
       "87    7569\n",
       "88    7744\n",
       "89    7921\n",
       "90    8100\n",
       "91    8281\n",
       "92    8464\n",
       "93    8649\n",
       "94    8836\n",
       "95    9025\n",
       "96    9216\n",
       "97    9409\n",
       "98    9604\n",
       "99    9801\n",
       "Length: 100, dtype: int64"
      ]
     },
     "execution_count": 65,
     "metadata": {},
     "output_type": "execute_result"
    }
   ],
   "source": [
    "pdsqaures=pd.Series(data = squares)\n",
    "pdsqaures"
   ]
  },
  {
   "cell_type": "code",
   "execution_count": 66,
   "id": "15a90e06",
   "metadata": {},
   "outputs": [],
   "source": [
    "Lastthree = pdsqaures[-3:]"
   ]
  },
  {
   "cell_type": "code",
   "execution_count": 67,
   "id": "687889b3",
   "metadata": {},
   "outputs": [],
   "source": [
    "Last3 = pdsqaures.tail(3)"
   ]
  },
  {
   "cell_type": "code",
   "execution_count": 68,
   "id": "9f6aec36",
   "metadata": {},
   "outputs": [
    {
     "data": {
      "text/plain": [
       "True"
      ]
     },
     "execution_count": 68,
     "metadata": {},
     "output_type": "execute_result"
    }
   ],
   "source": [
    "Lastthree.equals(Last3)"
   ]
  },
  {
   "cell_type": "code",
   "execution_count": 69,
   "id": "0965edb9",
   "metadata": {},
   "outputs": [
    {
     "data": {
      "text/plain": [
       "97    True\n",
       "98    True\n",
       "99    True\n",
       "dtype: bool"
      ]
     },
     "execution_count": 69,
     "metadata": {},
     "output_type": "execute_result"
    }
   ],
   "source": [
    "Lastthree == Last3"
   ]
  },
  {
   "cell_type": "code",
   "execution_count": 70,
   "id": "e3147ce2",
   "metadata": {},
   "outputs": [
    {
     "data": {
      "text/html": [
       "<div>\n",
       "<style scoped>\n",
       "    .dataframe tbody tr th:only-of-type {\n",
       "        vertical-align: middle;\n",
       "    }\n",
       "\n",
       "    .dataframe tbody tr th {\n",
       "        vertical-align: top;\n",
       "    }\n",
       "\n",
       "    .dataframe thead th {\n",
       "        text-align: right;\n",
       "    }\n",
       "</style>\n",
       "<table border=\"1\" class=\"dataframe\">\n",
       "  <thead>\n",
       "    <tr style=\"text-align: right;\">\n",
       "      <th></th>\n",
       "      <th>country</th>\n",
       "      <th>beer_servings</th>\n",
       "      <th>spirit_servings</th>\n",
       "      <th>wine_servings</th>\n",
       "      <th>total_litres_of_pure_alcohol</th>\n",
       "    </tr>\n",
       "  </thead>\n",
       "  <tbody>\n",
       "    <tr>\n",
       "      <th>0</th>\n",
       "      <td>Afghanistan</td>\n",
       "      <td>NaN</td>\n",
       "      <td>NaN</td>\n",
       "      <td>NaN</td>\n",
       "      <td>NaN</td>\n",
       "    </tr>\n",
       "    <tr>\n",
       "      <th>1</th>\n",
       "      <td>Albania</td>\n",
       "      <td>89.0</td>\n",
       "      <td>132.0</td>\n",
       "      <td>54.0</td>\n",
       "      <td>4.9</td>\n",
       "    </tr>\n",
       "    <tr>\n",
       "      <th>2</th>\n",
       "      <td>Algeria</td>\n",
       "      <td>25.0</td>\n",
       "      <td>NaN</td>\n",
       "      <td>14.0</td>\n",
       "      <td>0.7</td>\n",
       "    </tr>\n",
       "    <tr>\n",
       "      <th>3</th>\n",
       "      <td>Andorra</td>\n",
       "      <td>245.0</td>\n",
       "      <td>138.0</td>\n",
       "      <td>312.0</td>\n",
       "      <td>12.4</td>\n",
       "    </tr>\n",
       "    <tr>\n",
       "      <th>4</th>\n",
       "      <td>Angola</td>\n",
       "      <td>217.0</td>\n",
       "      <td>57.0</td>\n",
       "      <td>45.0</td>\n",
       "      <td>5.9</td>\n",
       "    </tr>\n",
       "    <tr>\n",
       "      <th>5</th>\n",
       "      <td>Antigua &amp; Barbuda</td>\n",
       "      <td>12.0</td>\n",
       "      <td>128.0</td>\n",
       "      <td>45.0</td>\n",
       "      <td>4.9</td>\n",
       "    </tr>\n",
       "    <tr>\n",
       "      <th>6</th>\n",
       "      <td>Argentina</td>\n",
       "      <td>193.0</td>\n",
       "      <td>25.0</td>\n",
       "      <td>221.0</td>\n",
       "      <td>8.3</td>\n",
       "    </tr>\n",
       "    <tr>\n",
       "      <th>7</th>\n",
       "      <td>Armenia</td>\n",
       "      <td>21.0</td>\n",
       "      <td>179.0</td>\n",
       "      <td>11.0</td>\n",
       "      <td>3.8</td>\n",
       "    </tr>\n",
       "    <tr>\n",
       "      <th>8</th>\n",
       "      <td>Australia</td>\n",
       "      <td>261.0</td>\n",
       "      <td>72.0</td>\n",
       "      <td>212.0</td>\n",
       "      <td>1.4</td>\n",
       "    </tr>\n",
       "    <tr>\n",
       "      <th>9</th>\n",
       "      <td>Austria</td>\n",
       "      <td>279.0</td>\n",
       "      <td>75.0</td>\n",
       "      <td>191.0</td>\n",
       "      <td>9.7</td>\n",
       "    </tr>\n",
       "    <tr>\n",
       "      <th>10</th>\n",
       "      <td>Azerbaijan</td>\n",
       "      <td>21.0</td>\n",
       "      <td>46.0</td>\n",
       "      <td>5.0</td>\n",
       "      <td>1.3</td>\n",
       "    </tr>\n",
       "    <tr>\n",
       "      <th>11</th>\n",
       "      <td>Bahamas</td>\n",
       "      <td>122.0</td>\n",
       "      <td>176.0</td>\n",
       "      <td>51.0</td>\n",
       "      <td>6.3</td>\n",
       "    </tr>\n",
       "    <tr>\n",
       "      <th>12</th>\n",
       "      <td>Bahrain</td>\n",
       "      <td>42.0</td>\n",
       "      <td>63.0</td>\n",
       "      <td>7.0</td>\n",
       "      <td>2.0</td>\n",
       "    </tr>\n",
       "    <tr>\n",
       "      <th>13</th>\n",
       "      <td>Bangladesh</td>\n",
       "      <td>NaN</td>\n",
       "      <td>NaN</td>\n",
       "      <td>NaN</td>\n",
       "      <td>NaN</td>\n",
       "    </tr>\n",
       "    <tr>\n",
       "      <th>14</th>\n",
       "      <td>Barbados</td>\n",
       "      <td>143.0</td>\n",
       "      <td>173.0</td>\n",
       "      <td>36.0</td>\n",
       "      <td>6.3</td>\n",
       "    </tr>\n",
       "    <tr>\n",
       "      <th>15</th>\n",
       "      <td>Belarus</td>\n",
       "      <td>142.0</td>\n",
       "      <td>373.0</td>\n",
       "      <td>42.0</td>\n",
       "      <td>14.4</td>\n",
       "    </tr>\n",
       "    <tr>\n",
       "      <th>16</th>\n",
       "      <td>Belgium</td>\n",
       "      <td>295.0</td>\n",
       "      <td>84.0</td>\n",
       "      <td>212.0</td>\n",
       "      <td>1.5</td>\n",
       "    </tr>\n",
       "    <tr>\n",
       "      <th>17</th>\n",
       "      <td>Belize</td>\n",
       "      <td>263.0</td>\n",
       "      <td>114.0</td>\n",
       "      <td>8.0</td>\n",
       "      <td>6.8</td>\n",
       "    </tr>\n",
       "    <tr>\n",
       "      <th>18</th>\n",
       "      <td>Benin</td>\n",
       "      <td>34.0</td>\n",
       "      <td>4.0</td>\n",
       "      <td>13.0</td>\n",
       "      <td>1.1</td>\n",
       "    </tr>\n",
       "    <tr>\n",
       "      <th>19</th>\n",
       "      <td>Bhutan</td>\n",
       "      <td>23.0</td>\n",
       "      <td>NaN</td>\n",
       "      <td>NaN</td>\n",
       "      <td>0.4</td>\n",
       "    </tr>\n",
       "    <tr>\n",
       "      <th>...</th>\n",
       "      <td>...</td>\n",
       "      <td>...</td>\n",
       "      <td>...</td>\n",
       "      <td>...</td>\n",
       "      <td>...</td>\n",
       "    </tr>\n",
       "    <tr>\n",
       "      <th>173</th>\n",
       "      <td>Tonga</td>\n",
       "      <td>36.0</td>\n",
       "      <td>21.0</td>\n",
       "      <td>5.0</td>\n",
       "      <td>1.1</td>\n",
       "    </tr>\n",
       "    <tr>\n",
       "      <th>174</th>\n",
       "      <td>Trinidad &amp; Tobago</td>\n",
       "      <td>197.0</td>\n",
       "      <td>156.0</td>\n",
       "      <td>7.0</td>\n",
       "      <td>6.4</td>\n",
       "    </tr>\n",
       "    <tr>\n",
       "      <th>175</th>\n",
       "      <td>Tunisia</td>\n",
       "      <td>51.0</td>\n",
       "      <td>3.0</td>\n",
       "      <td>2.0</td>\n",
       "      <td>1.3</td>\n",
       "    </tr>\n",
       "    <tr>\n",
       "      <th>176</th>\n",
       "      <td>Turkey</td>\n",
       "      <td>51.0</td>\n",
       "      <td>22.0</td>\n",
       "      <td>7.0</td>\n",
       "      <td>1.4</td>\n",
       "    </tr>\n",
       "    <tr>\n",
       "      <th>177</th>\n",
       "      <td>Turkmenistan</td>\n",
       "      <td>19.0</td>\n",
       "      <td>71.0</td>\n",
       "      <td>32.0</td>\n",
       "      <td>2.2</td>\n",
       "    </tr>\n",
       "    <tr>\n",
       "      <th>178</th>\n",
       "      <td>Tuvalu</td>\n",
       "      <td>6.0</td>\n",
       "      <td>41.0</td>\n",
       "      <td>9.0</td>\n",
       "      <td>1.0</td>\n",
       "    </tr>\n",
       "    <tr>\n",
       "      <th>179</th>\n",
       "      <td>Uganda</td>\n",
       "      <td>45.0</td>\n",
       "      <td>9.0</td>\n",
       "      <td>NaN</td>\n",
       "      <td>8.3</td>\n",
       "    </tr>\n",
       "    <tr>\n",
       "      <th>180</th>\n",
       "      <td>Ukraine</td>\n",
       "      <td>26.0</td>\n",
       "      <td>237.0</td>\n",
       "      <td>45.0</td>\n",
       "      <td>8.9</td>\n",
       "    </tr>\n",
       "    <tr>\n",
       "      <th>181</th>\n",
       "      <td>United Arab Emirates</td>\n",
       "      <td>16.0</td>\n",
       "      <td>135.0</td>\n",
       "      <td>5.0</td>\n",
       "      <td>2.8</td>\n",
       "    </tr>\n",
       "    <tr>\n",
       "      <th>182</th>\n",
       "      <td>United Kingdom</td>\n",
       "      <td>219.0</td>\n",
       "      <td>126.0</td>\n",
       "      <td>195.0</td>\n",
       "      <td>1.4</td>\n",
       "    </tr>\n",
       "    <tr>\n",
       "      <th>183</th>\n",
       "      <td>Tanzania</td>\n",
       "      <td>36.0</td>\n",
       "      <td>6.0</td>\n",
       "      <td>1.0</td>\n",
       "      <td>5.7</td>\n",
       "    </tr>\n",
       "    <tr>\n",
       "      <th>184</th>\n",
       "      <td>USA</td>\n",
       "      <td>249.0</td>\n",
       "      <td>158.0</td>\n",
       "      <td>84.0</td>\n",
       "      <td>8.7</td>\n",
       "    </tr>\n",
       "    <tr>\n",
       "      <th>185</th>\n",
       "      <td>Uruguay</td>\n",
       "      <td>115.0</td>\n",
       "      <td>35.0</td>\n",
       "      <td>22.0</td>\n",
       "      <td>6.6</td>\n",
       "    </tr>\n",
       "    <tr>\n",
       "      <th>186</th>\n",
       "      <td>Uzbekistan</td>\n",
       "      <td>25.0</td>\n",
       "      <td>11.0</td>\n",
       "      <td>8.0</td>\n",
       "      <td>2.4</td>\n",
       "    </tr>\n",
       "    <tr>\n",
       "      <th>187</th>\n",
       "      <td>Vanuatu</td>\n",
       "      <td>21.0</td>\n",
       "      <td>18.0</td>\n",
       "      <td>11.0</td>\n",
       "      <td>0.9</td>\n",
       "    </tr>\n",
       "    <tr>\n",
       "      <th>188</th>\n",
       "      <td>Venezuela</td>\n",
       "      <td>333.0</td>\n",
       "      <td>1.0</td>\n",
       "      <td>3.0</td>\n",
       "      <td>7.7</td>\n",
       "    </tr>\n",
       "    <tr>\n",
       "      <th>189</th>\n",
       "      <td>Vietnam</td>\n",
       "      <td>111.0</td>\n",
       "      <td>2.0</td>\n",
       "      <td>1.0</td>\n",
       "      <td>2.0</td>\n",
       "    </tr>\n",
       "    <tr>\n",
       "      <th>190</th>\n",
       "      <td>Yemen</td>\n",
       "      <td>6.0</td>\n",
       "      <td>NaN</td>\n",
       "      <td>NaN</td>\n",
       "      <td>0.1</td>\n",
       "    </tr>\n",
       "    <tr>\n",
       "      <th>191</th>\n",
       "      <td>Zambia</td>\n",
       "      <td>32.0</td>\n",
       "      <td>19.0</td>\n",
       "      <td>4.0</td>\n",
       "      <td>2.5</td>\n",
       "    </tr>\n",
       "    <tr>\n",
       "      <th>192</th>\n",
       "      <td>Zimbabwe</td>\n",
       "      <td>64.0</td>\n",
       "      <td>18.0</td>\n",
       "      <td>4.0</td>\n",
       "      <td>4.7</td>\n",
       "    </tr>\n",
       "  </tbody>\n",
       "</table>\n",
       "<p>193 rows × 5 columns</p>\n",
       "</div>"
      ],
      "text/plain": [
       "                  country  beer_servings  spirit_servings  wine_servings  \\\n",
       "0             Afghanistan            NaN              NaN            NaN   \n",
       "1                 Albania           89.0            132.0           54.0   \n",
       "2                 Algeria           25.0              NaN           14.0   \n",
       "3                 Andorra          245.0            138.0          312.0   \n",
       "4                  Angola          217.0             57.0           45.0   \n",
       "5       Antigua & Barbuda           12.0            128.0           45.0   \n",
       "6               Argentina          193.0             25.0          221.0   \n",
       "7                 Armenia           21.0            179.0           11.0   \n",
       "8               Australia          261.0             72.0          212.0   \n",
       "9                 Austria          279.0             75.0          191.0   \n",
       "10             Azerbaijan           21.0             46.0            5.0   \n",
       "11                Bahamas          122.0            176.0           51.0   \n",
       "12                Bahrain           42.0             63.0            7.0   \n",
       "13             Bangladesh            NaN              NaN            NaN   \n",
       "14               Barbados          143.0            173.0           36.0   \n",
       "15                Belarus          142.0            373.0           42.0   \n",
       "16                Belgium          295.0             84.0          212.0   \n",
       "17                 Belize          263.0            114.0            8.0   \n",
       "18                  Benin           34.0              4.0           13.0   \n",
       "19                 Bhutan           23.0              NaN            NaN   \n",
       "..                    ...            ...              ...            ...   \n",
       "173                 Tonga           36.0             21.0            5.0   \n",
       "174     Trinidad & Tobago          197.0            156.0            7.0   \n",
       "175               Tunisia           51.0              3.0            2.0   \n",
       "176                Turkey           51.0             22.0            7.0   \n",
       "177          Turkmenistan           19.0             71.0           32.0   \n",
       "178                Tuvalu            6.0             41.0            9.0   \n",
       "179                Uganda           45.0              9.0            NaN   \n",
       "180               Ukraine           26.0            237.0           45.0   \n",
       "181  United Arab Emirates           16.0            135.0            5.0   \n",
       "182        United Kingdom          219.0            126.0          195.0   \n",
       "183              Tanzania           36.0              6.0            1.0   \n",
       "184                   USA          249.0            158.0           84.0   \n",
       "185               Uruguay          115.0             35.0           22.0   \n",
       "186            Uzbekistan           25.0             11.0            8.0   \n",
       "187               Vanuatu           21.0             18.0           11.0   \n",
       "188             Venezuela          333.0              1.0            3.0   \n",
       "189               Vietnam          111.0              2.0            1.0   \n",
       "190                 Yemen            6.0              NaN            NaN   \n",
       "191                Zambia           32.0             19.0            4.0   \n",
       "192              Zimbabwe           64.0             18.0            4.0   \n",
       "\n",
       "     total_litres_of_pure_alcohol  \n",
       "0                             NaN  \n",
       "1                             4.9  \n",
       "2                             0.7  \n",
       "3                            12.4  \n",
       "4                             5.9  \n",
       "5                             4.9  \n",
       "6                             8.3  \n",
       "7                             3.8  \n",
       "8                             1.4  \n",
       "9                             9.7  \n",
       "10                            1.3  \n",
       "11                            6.3  \n",
       "12                            2.0  \n",
       "13                            NaN  \n",
       "14                            6.3  \n",
       "15                           14.4  \n",
       "16                            1.5  \n",
       "17                            6.8  \n",
       "18                            1.1  \n",
       "19                            0.4  \n",
       "..                            ...  \n",
       "173                           1.1  \n",
       "174                           6.4  \n",
       "175                           1.3  \n",
       "176                           1.4  \n",
       "177                           2.2  \n",
       "178                           1.0  \n",
       "179                           8.3  \n",
       "180                           8.9  \n",
       "181                           2.8  \n",
       "182                           1.4  \n",
       "183                           5.7  \n",
       "184                           8.7  \n",
       "185                           6.6  \n",
       "186                           2.4  \n",
       "187                           0.9  \n",
       "188                           7.7  \n",
       "189                           2.0  \n",
       "190                           0.1  \n",
       "191                           2.5  \n",
       "192                           4.7  \n",
       "\n",
       "[193 rows x 5 columns]"
      ]
     },
     "execution_count": 70,
     "metadata": {},
     "output_type": "execute_result"
    }
   ],
   "source": [
    "pd.read_csv('https://andybek.com/pandas-drinks')"
   ]
  },
  {
   "cell_type": "code",
   "execution_count": 71,
   "id": "25d65598",
   "metadata": {},
   "outputs": [
    {
     "data": {
      "text/html": [
       "<div>\n",
       "<style scoped>\n",
       "    .dataframe tbody tr th:only-of-type {\n",
       "        vertical-align: middle;\n",
       "    }\n",
       "\n",
       "    .dataframe tbody tr th {\n",
       "        vertical-align: top;\n",
       "    }\n",
       "\n",
       "    .dataframe thead th {\n",
       "        text-align: right;\n",
       "    }\n",
       "</style>\n",
       "<table border=\"1\" class=\"dataframe\">\n",
       "  <thead>\n",
       "    <tr style=\"text-align: right;\">\n",
       "      <th></th>\n",
       "      <th>country</th>\n",
       "      <th>wine_servings</th>\n",
       "    </tr>\n",
       "  </thead>\n",
       "  <tbody>\n",
       "    <tr>\n",
       "      <th>0</th>\n",
       "      <td>Afghanistan</td>\n",
       "      <td>NaN</td>\n",
       "    </tr>\n",
       "    <tr>\n",
       "      <th>1</th>\n",
       "      <td>Albania</td>\n",
       "      <td>54.0</td>\n",
       "    </tr>\n",
       "    <tr>\n",
       "      <th>2</th>\n",
       "      <td>Algeria</td>\n",
       "      <td>14.0</td>\n",
       "    </tr>\n",
       "    <tr>\n",
       "      <th>3</th>\n",
       "      <td>Andorra</td>\n",
       "      <td>312.0</td>\n",
       "    </tr>\n",
       "    <tr>\n",
       "      <th>4</th>\n",
       "      <td>Angola</td>\n",
       "      <td>45.0</td>\n",
       "    </tr>\n",
       "    <tr>\n",
       "      <th>5</th>\n",
       "      <td>Antigua &amp; Barbuda</td>\n",
       "      <td>45.0</td>\n",
       "    </tr>\n",
       "    <tr>\n",
       "      <th>6</th>\n",
       "      <td>Argentina</td>\n",
       "      <td>221.0</td>\n",
       "    </tr>\n",
       "    <tr>\n",
       "      <th>7</th>\n",
       "      <td>Armenia</td>\n",
       "      <td>11.0</td>\n",
       "    </tr>\n",
       "    <tr>\n",
       "      <th>8</th>\n",
       "      <td>Australia</td>\n",
       "      <td>212.0</td>\n",
       "    </tr>\n",
       "    <tr>\n",
       "      <th>9</th>\n",
       "      <td>Austria</td>\n",
       "      <td>191.0</td>\n",
       "    </tr>\n",
       "    <tr>\n",
       "      <th>10</th>\n",
       "      <td>Azerbaijan</td>\n",
       "      <td>5.0</td>\n",
       "    </tr>\n",
       "    <tr>\n",
       "      <th>11</th>\n",
       "      <td>Bahamas</td>\n",
       "      <td>51.0</td>\n",
       "    </tr>\n",
       "    <tr>\n",
       "      <th>12</th>\n",
       "      <td>Bahrain</td>\n",
       "      <td>7.0</td>\n",
       "    </tr>\n",
       "    <tr>\n",
       "      <th>13</th>\n",
       "      <td>Bangladesh</td>\n",
       "      <td>NaN</td>\n",
       "    </tr>\n",
       "    <tr>\n",
       "      <th>14</th>\n",
       "      <td>Barbados</td>\n",
       "      <td>36.0</td>\n",
       "    </tr>\n",
       "    <tr>\n",
       "      <th>15</th>\n",
       "      <td>Belarus</td>\n",
       "      <td>42.0</td>\n",
       "    </tr>\n",
       "    <tr>\n",
       "      <th>16</th>\n",
       "      <td>Belgium</td>\n",
       "      <td>212.0</td>\n",
       "    </tr>\n",
       "    <tr>\n",
       "      <th>17</th>\n",
       "      <td>Belize</td>\n",
       "      <td>8.0</td>\n",
       "    </tr>\n",
       "    <tr>\n",
       "      <th>18</th>\n",
       "      <td>Benin</td>\n",
       "      <td>13.0</td>\n",
       "    </tr>\n",
       "    <tr>\n",
       "      <th>19</th>\n",
       "      <td>Bhutan</td>\n",
       "      <td>NaN</td>\n",
       "    </tr>\n",
       "    <tr>\n",
       "      <th>...</th>\n",
       "      <td>...</td>\n",
       "      <td>...</td>\n",
       "    </tr>\n",
       "    <tr>\n",
       "      <th>173</th>\n",
       "      <td>Tonga</td>\n",
       "      <td>5.0</td>\n",
       "    </tr>\n",
       "    <tr>\n",
       "      <th>174</th>\n",
       "      <td>Trinidad &amp; Tobago</td>\n",
       "      <td>7.0</td>\n",
       "    </tr>\n",
       "    <tr>\n",
       "      <th>175</th>\n",
       "      <td>Tunisia</td>\n",
       "      <td>2.0</td>\n",
       "    </tr>\n",
       "    <tr>\n",
       "      <th>176</th>\n",
       "      <td>Turkey</td>\n",
       "      <td>7.0</td>\n",
       "    </tr>\n",
       "    <tr>\n",
       "      <th>177</th>\n",
       "      <td>Turkmenistan</td>\n",
       "      <td>32.0</td>\n",
       "    </tr>\n",
       "    <tr>\n",
       "      <th>178</th>\n",
       "      <td>Tuvalu</td>\n",
       "      <td>9.0</td>\n",
       "    </tr>\n",
       "    <tr>\n",
       "      <th>179</th>\n",
       "      <td>Uganda</td>\n",
       "      <td>NaN</td>\n",
       "    </tr>\n",
       "    <tr>\n",
       "      <th>180</th>\n",
       "      <td>Ukraine</td>\n",
       "      <td>45.0</td>\n",
       "    </tr>\n",
       "    <tr>\n",
       "      <th>181</th>\n",
       "      <td>United Arab Emirates</td>\n",
       "      <td>5.0</td>\n",
       "    </tr>\n",
       "    <tr>\n",
       "      <th>182</th>\n",
       "      <td>United Kingdom</td>\n",
       "      <td>195.0</td>\n",
       "    </tr>\n",
       "    <tr>\n",
       "      <th>183</th>\n",
       "      <td>Tanzania</td>\n",
       "      <td>1.0</td>\n",
       "    </tr>\n",
       "    <tr>\n",
       "      <th>184</th>\n",
       "      <td>USA</td>\n",
       "      <td>84.0</td>\n",
       "    </tr>\n",
       "    <tr>\n",
       "      <th>185</th>\n",
       "      <td>Uruguay</td>\n",
       "      <td>22.0</td>\n",
       "    </tr>\n",
       "    <tr>\n",
       "      <th>186</th>\n",
       "      <td>Uzbekistan</td>\n",
       "      <td>8.0</td>\n",
       "    </tr>\n",
       "    <tr>\n",
       "      <th>187</th>\n",
       "      <td>Vanuatu</td>\n",
       "      <td>11.0</td>\n",
       "    </tr>\n",
       "    <tr>\n",
       "      <th>188</th>\n",
       "      <td>Venezuela</td>\n",
       "      <td>3.0</td>\n",
       "    </tr>\n",
       "    <tr>\n",
       "      <th>189</th>\n",
       "      <td>Vietnam</td>\n",
       "      <td>1.0</td>\n",
       "    </tr>\n",
       "    <tr>\n",
       "      <th>190</th>\n",
       "      <td>Yemen</td>\n",
       "      <td>NaN</td>\n",
       "    </tr>\n",
       "    <tr>\n",
       "      <th>191</th>\n",
       "      <td>Zambia</td>\n",
       "      <td>4.0</td>\n",
       "    </tr>\n",
       "    <tr>\n",
       "      <th>192</th>\n",
       "      <td>Zimbabwe</td>\n",
       "      <td>4.0</td>\n",
       "    </tr>\n",
       "  </tbody>\n",
       "</table>\n",
       "<p>193 rows × 2 columns</p>\n",
       "</div>"
      ],
      "text/plain": [
       "                  country  wine_servings\n",
       "0             Afghanistan            NaN\n",
       "1                 Albania           54.0\n",
       "2                 Algeria           14.0\n",
       "3                 Andorra          312.0\n",
       "4                  Angola           45.0\n",
       "5       Antigua & Barbuda           45.0\n",
       "6               Argentina          221.0\n",
       "7                 Armenia           11.0\n",
       "8               Australia          212.0\n",
       "9                 Austria          191.0\n",
       "10             Azerbaijan            5.0\n",
       "11                Bahamas           51.0\n",
       "12                Bahrain            7.0\n",
       "13             Bangladesh            NaN\n",
       "14               Barbados           36.0\n",
       "15                Belarus           42.0\n",
       "16                Belgium          212.0\n",
       "17                 Belize            8.0\n",
       "18                  Benin           13.0\n",
       "19                 Bhutan            NaN\n",
       "..                    ...            ...\n",
       "173                 Tonga            5.0\n",
       "174     Trinidad & Tobago            7.0\n",
       "175               Tunisia            2.0\n",
       "176                Turkey            7.0\n",
       "177          Turkmenistan           32.0\n",
       "178                Tuvalu            9.0\n",
       "179                Uganda            NaN\n",
       "180               Ukraine           45.0\n",
       "181  United Arab Emirates            5.0\n",
       "182        United Kingdom          195.0\n",
       "183              Tanzania            1.0\n",
       "184                   USA           84.0\n",
       "185               Uruguay           22.0\n",
       "186            Uzbekistan            8.0\n",
       "187               Vanuatu           11.0\n",
       "188             Venezuela            3.0\n",
       "189               Vietnam            1.0\n",
       "190                 Yemen            NaN\n",
       "191                Zambia            4.0\n",
       "192              Zimbabwe            4.0\n",
       "\n",
       "[193 rows x 2 columns]"
      ]
     },
     "execution_count": 71,
     "metadata": {},
     "output_type": "execute_result"
    }
   ],
   "source": [
    "pd.read_csv('https://andybek.com/pandas-drinks',usecols=['country','wine_servings'])"
   ]
  },
  {
   "cell_type": "code",
   "execution_count": 72,
   "id": "396ffab9",
   "metadata": {},
   "outputs": [],
   "source": [
    "alcohol = pd.read_csv('https://andybek.com/pandas-drinks',usecols=['country','wine_servings'],index_col='country')"
   ]
  },
  {
   "cell_type": "code",
   "execution_count": 73,
   "id": "a4aa6000",
   "metadata": {},
   "outputs": [
    {
     "data": {
      "text/html": [
       "<div>\n",
       "<style scoped>\n",
       "    .dataframe tbody tr th:only-of-type {\n",
       "        vertical-align: middle;\n",
       "    }\n",
       "\n",
       "    .dataframe tbody tr th {\n",
       "        vertical-align: top;\n",
       "    }\n",
       "\n",
       "    .dataframe thead th {\n",
       "        text-align: right;\n",
       "    }\n",
       "</style>\n",
       "<table border=\"1\" class=\"dataframe\">\n",
       "  <thead>\n",
       "    <tr style=\"text-align: right;\">\n",
       "      <th></th>\n",
       "      <th>wine_servings</th>\n",
       "    </tr>\n",
       "    <tr>\n",
       "      <th>country</th>\n",
       "      <th></th>\n",
       "    </tr>\n",
       "  </thead>\n",
       "  <tbody>\n",
       "    <tr>\n",
       "      <th>Afghanistan</th>\n",
       "      <td>NaN</td>\n",
       "    </tr>\n",
       "    <tr>\n",
       "      <th>Albania</th>\n",
       "      <td>54.0</td>\n",
       "    </tr>\n",
       "    <tr>\n",
       "      <th>Algeria</th>\n",
       "      <td>14.0</td>\n",
       "    </tr>\n",
       "    <tr>\n",
       "      <th>Andorra</th>\n",
       "      <td>312.0</td>\n",
       "    </tr>\n",
       "    <tr>\n",
       "      <th>Angola</th>\n",
       "      <td>45.0</td>\n",
       "    </tr>\n",
       "    <tr>\n",
       "      <th>Antigua &amp; Barbuda</th>\n",
       "      <td>45.0</td>\n",
       "    </tr>\n",
       "    <tr>\n",
       "      <th>Argentina</th>\n",
       "      <td>221.0</td>\n",
       "    </tr>\n",
       "    <tr>\n",
       "      <th>Armenia</th>\n",
       "      <td>11.0</td>\n",
       "    </tr>\n",
       "    <tr>\n",
       "      <th>Australia</th>\n",
       "      <td>212.0</td>\n",
       "    </tr>\n",
       "    <tr>\n",
       "      <th>Austria</th>\n",
       "      <td>191.0</td>\n",
       "    </tr>\n",
       "    <tr>\n",
       "      <th>Azerbaijan</th>\n",
       "      <td>5.0</td>\n",
       "    </tr>\n",
       "    <tr>\n",
       "      <th>Bahamas</th>\n",
       "      <td>51.0</td>\n",
       "    </tr>\n",
       "    <tr>\n",
       "      <th>Bahrain</th>\n",
       "      <td>7.0</td>\n",
       "    </tr>\n",
       "    <tr>\n",
       "      <th>Bangladesh</th>\n",
       "      <td>NaN</td>\n",
       "    </tr>\n",
       "    <tr>\n",
       "      <th>Barbados</th>\n",
       "      <td>36.0</td>\n",
       "    </tr>\n",
       "    <tr>\n",
       "      <th>Belarus</th>\n",
       "      <td>42.0</td>\n",
       "    </tr>\n",
       "    <tr>\n",
       "      <th>Belgium</th>\n",
       "      <td>212.0</td>\n",
       "    </tr>\n",
       "    <tr>\n",
       "      <th>Belize</th>\n",
       "      <td>8.0</td>\n",
       "    </tr>\n",
       "    <tr>\n",
       "      <th>Benin</th>\n",
       "      <td>13.0</td>\n",
       "    </tr>\n",
       "    <tr>\n",
       "      <th>Bhutan</th>\n",
       "      <td>NaN</td>\n",
       "    </tr>\n",
       "    <tr>\n",
       "      <th>...</th>\n",
       "      <td>...</td>\n",
       "    </tr>\n",
       "    <tr>\n",
       "      <th>Tonga</th>\n",
       "      <td>5.0</td>\n",
       "    </tr>\n",
       "    <tr>\n",
       "      <th>Trinidad &amp; Tobago</th>\n",
       "      <td>7.0</td>\n",
       "    </tr>\n",
       "    <tr>\n",
       "      <th>Tunisia</th>\n",
       "      <td>2.0</td>\n",
       "    </tr>\n",
       "    <tr>\n",
       "      <th>Turkey</th>\n",
       "      <td>7.0</td>\n",
       "    </tr>\n",
       "    <tr>\n",
       "      <th>Turkmenistan</th>\n",
       "      <td>32.0</td>\n",
       "    </tr>\n",
       "    <tr>\n",
       "      <th>Tuvalu</th>\n",
       "      <td>9.0</td>\n",
       "    </tr>\n",
       "    <tr>\n",
       "      <th>Uganda</th>\n",
       "      <td>NaN</td>\n",
       "    </tr>\n",
       "    <tr>\n",
       "      <th>Ukraine</th>\n",
       "      <td>45.0</td>\n",
       "    </tr>\n",
       "    <tr>\n",
       "      <th>United Arab Emirates</th>\n",
       "      <td>5.0</td>\n",
       "    </tr>\n",
       "    <tr>\n",
       "      <th>United Kingdom</th>\n",
       "      <td>195.0</td>\n",
       "    </tr>\n",
       "    <tr>\n",
       "      <th>Tanzania</th>\n",
       "      <td>1.0</td>\n",
       "    </tr>\n",
       "    <tr>\n",
       "      <th>USA</th>\n",
       "      <td>84.0</td>\n",
       "    </tr>\n",
       "    <tr>\n",
       "      <th>Uruguay</th>\n",
       "      <td>22.0</td>\n",
       "    </tr>\n",
       "    <tr>\n",
       "      <th>Uzbekistan</th>\n",
       "      <td>8.0</td>\n",
       "    </tr>\n",
       "    <tr>\n",
       "      <th>Vanuatu</th>\n",
       "      <td>11.0</td>\n",
       "    </tr>\n",
       "    <tr>\n",
       "      <th>Venezuela</th>\n",
       "      <td>3.0</td>\n",
       "    </tr>\n",
       "    <tr>\n",
       "      <th>Vietnam</th>\n",
       "      <td>1.0</td>\n",
       "    </tr>\n",
       "    <tr>\n",
       "      <th>Yemen</th>\n",
       "      <td>NaN</td>\n",
       "    </tr>\n",
       "    <tr>\n",
       "      <th>Zambia</th>\n",
       "      <td>4.0</td>\n",
       "    </tr>\n",
       "    <tr>\n",
       "      <th>Zimbabwe</th>\n",
       "      <td>4.0</td>\n",
       "    </tr>\n",
       "  </tbody>\n",
       "</table>\n",
       "<p>193 rows × 1 columns</p>\n",
       "</div>"
      ],
      "text/plain": [
       "                      wine_servings\n",
       "country                            \n",
       "Afghanistan                     NaN\n",
       "Albania                        54.0\n",
       "Algeria                        14.0\n",
       "Andorra                       312.0\n",
       "Angola                         45.0\n",
       "Antigua & Barbuda              45.0\n",
       "Argentina                     221.0\n",
       "Armenia                        11.0\n",
       "Australia                     212.0\n",
       "Austria                       191.0\n",
       "Azerbaijan                      5.0\n",
       "Bahamas                        51.0\n",
       "Bahrain                         7.0\n",
       "Bangladesh                      NaN\n",
       "Barbados                       36.0\n",
       "Belarus                        42.0\n",
       "Belgium                       212.0\n",
       "Belize                          8.0\n",
       "Benin                          13.0\n",
       "Bhutan                          NaN\n",
       "...                             ...\n",
       "Tonga                           5.0\n",
       "Trinidad & Tobago               7.0\n",
       "Tunisia                         2.0\n",
       "Turkey                          7.0\n",
       "Turkmenistan                   32.0\n",
       "Tuvalu                          9.0\n",
       "Uganda                          NaN\n",
       "Ukraine                        45.0\n",
       "United Arab Emirates            5.0\n",
       "United Kingdom                195.0\n",
       "Tanzania                        1.0\n",
       "USA                            84.0\n",
       "Uruguay                        22.0\n",
       "Uzbekistan                      8.0\n",
       "Vanuatu                        11.0\n",
       "Venezuela                       3.0\n",
       "Vietnam                         1.0\n",
       "Yemen                           NaN\n",
       "Zambia                          4.0\n",
       "Zimbabwe                        4.0\n",
       "\n",
       "[193 rows x 1 columns]"
      ]
     },
     "execution_count": 73,
     "metadata": {},
     "output_type": "execute_result"
    }
   ],
   "source": [
    "alcohol"
   ]
  },
  {
   "cell_type": "code",
   "execution_count": 74,
   "id": "b1a86826",
   "metadata": {},
   "outputs": [
    {
     "data": {
      "text/plain": [
       "country\n",
       "Afghanistan               NaN\n",
       "Albania                  54.0\n",
       "Algeria                  14.0\n",
       "Andorra                 312.0\n",
       "Angola                   45.0\n",
       "Antigua & Barbuda        45.0\n",
       "Argentina               221.0\n",
       "Armenia                  11.0\n",
       "Australia               212.0\n",
       "Austria                 191.0\n",
       "Azerbaijan                5.0\n",
       "Bahamas                  51.0\n",
       "Bahrain                   7.0\n",
       "Bangladesh                NaN\n",
       "Barbados                 36.0\n",
       "Belarus                  42.0\n",
       "Belgium                 212.0\n",
       "Belize                    8.0\n",
       "Benin                    13.0\n",
       "Bhutan                    NaN\n",
       "                        ...  \n",
       "Tonga                     5.0\n",
       "Trinidad & Tobago         7.0\n",
       "Tunisia                   2.0\n",
       "Turkey                    7.0\n",
       "Turkmenistan             32.0\n",
       "Tuvalu                    9.0\n",
       "Uganda                    NaN\n",
       "Ukraine                  45.0\n",
       "United Arab Emirates      5.0\n",
       "United Kingdom          195.0\n",
       "Tanzania                  1.0\n",
       "USA                      84.0\n",
       "Uruguay                  22.0\n",
       "Uzbekistan                8.0\n",
       "Vanuatu                  11.0\n",
       "Venezuela                 3.0\n",
       "Vietnam                   1.0\n",
       "Yemen                     NaN\n",
       "Zambia                    4.0\n",
       "Zimbabwe                  4.0\n",
       "Name: wine_servings, Length: 193, dtype: float64"
      ]
     },
     "execution_count": 74,
     "metadata": {},
     "output_type": "execute_result"
    }
   ],
   "source": [
    "# alcohol = pd.read_csv('https://andybek.com/pandas-drinks',usecols=['country','wine_servings'],index_col='country', squeeze=True)\n",
    "alcohol = pd.read_csv('https://andybek.com/pandas-drinks',usecols=['country', 'wine_servings'],index_col='country').squeeze('columns')\n",
    "alcohol"
   ]
  },
  {
   "cell_type": "code",
   "execution_count": 75,
   "id": "1202c289",
   "metadata": {},
   "outputs": [
    {
     "data": {
      "text/plain": [
       "193"
      ]
     },
     "execution_count": 75,
     "metadata": {},
     "output_type": "execute_result"
    }
   ],
   "source": [
    "alcohol.size"
   ]
  },
  {
   "cell_type": "code",
   "execution_count": 76,
   "id": "3664b431",
   "metadata": {},
   "outputs": [
    {
     "data": {
      "text/plain": [
       "array([ nan,  54.,  14., 312.,  45.,  45., 221.,  11., 212., 191.,   5.,\n",
       "        51.,   7.,  nan,  36.,  42., 212.,   8.,  13.,  nan,   8.,   8.,\n",
       "        35.,  16.,   1.,  94.,   7.,  nan,   7.,  16.,   1.,   4.,   1.,\n",
       "         1.,   1., 172.,   8.,   3.,   1.,   9.,  74.,  11., 254.,   5.,\n",
       "       113., 134.,  nan,   1., 278.,   3.,  26.,   9.,   3.,   1.,   2.,\n",
       "       233.,  nan,  59.,  nan,   1.,  97.,  37.,  59.,   1., 149., 175.,\n",
       "         1., 218.,  28.,   2.,   2.,  21.,   1.,   1.,   2., 185.,  78.,\n",
       "        nan,  nan,  nan,  nan, 165.,   9., 237.,   9.,  16.,   1.,  12.,\n",
       "         2.,   1.,  nan,   6., 123.,  62.,  31.,  nan,   2.,  nan,  56.,\n",
       "       271.,   4.,   1.,  nan,  nan,   1.,  12.,  nan,  nan,  18.,   5.,\n",
       "        18.,  nan,   8., 128.,   1.,   5.,  nan,   1.,   8.,  nan,  19.,\n",
       "       175.,   1.,   1.,   2.,   7., 129.,   1.,  nan,  23.,  18.,   1.,\n",
       "        74.,  21.,   1.,  56., 339.,   7.,   9.,  18., 167.,  73.,  nan,\n",
       "        32.,  71.,  11.,  24.,  nan,  14.,  nan,   7., 127.,  51.,   2.,\n",
       "        11., 116., 276.,   1.,  nan,  81., 112.,  nan,  nan,   7.,   2.,\n",
       "       186.,  28.,  16.,  nan,   1.,  86.,   4.,  19.,   5.,   7.,   2.,\n",
       "         7.,  32.,   9.,  nan,  45.,   5., 195.,   1.,  84.,  22.,   8.,\n",
       "        11.,   3.,   1.,  nan,   4.,   4.])"
      ]
     },
     "execution_count": 76,
     "metadata": {},
     "output_type": "execute_result"
    }
   ],
   "source": [
    "alcohol.values"
   ]
  },
  {
   "cell_type": "code",
   "execution_count": 77,
   "id": "f77ee484",
   "metadata": {},
   "outputs": [
    {
     "data": {
      "text/plain": [
       "Index(['Afghanistan', 'Albania', 'Algeria', 'Andorra', 'Angola',\n",
       "       'Antigua & Barbuda', 'Argentina', 'Armenia', 'Australia', 'Austria',\n",
       "       ...\n",
       "       'Tanzania', 'USA', 'Uruguay', 'Uzbekistan', 'Vanuatu', 'Venezuela',\n",
       "       'Vietnam', 'Yemen', 'Zambia', 'Zimbabwe'],\n",
       "      dtype='object', name='country', length=193)"
      ]
     },
     "execution_count": 77,
     "metadata": {},
     "output_type": "execute_result"
    }
   ],
   "source": [
    "alcohol.index"
   ]
  },
  {
   "cell_type": "code",
   "execution_count": 78,
   "id": "c7fd8c63",
   "metadata": {},
   "outputs": [
    {
     "data": {
      "text/plain": [
       "True"
      ]
     },
     "execution_count": 78,
     "metadata": {},
     "output_type": "execute_result"
    }
   ],
   "source": [
    "alcohol.values.size == alcohol.index.size"
   ]
  },
  {
   "cell_type": "code",
   "execution_count": 79,
   "id": "c3e749e0",
   "metadata": {},
   "outputs": [
    {
     "data": {
      "text/plain": [
       "(193,)"
      ]
     },
     "execution_count": 79,
     "metadata": {},
     "output_type": "execute_result"
    }
   ],
   "source": [
    "alcohol.shape"
   ]
  },
  {
   "cell_type": "code",
   "execution_count": 80,
   "id": "dbe4bdb5",
   "metadata": {},
   "outputs": [
    {
     "data": {
      "text/plain": [
       "True"
      ]
     },
     "execution_count": 80,
     "metadata": {},
     "output_type": "execute_result"
    }
   ],
   "source": [
    "alcohol.shape[0] == alcohol.size"
   ]
  },
  {
   "cell_type": "code",
   "execution_count": 81,
   "id": "97865df9",
   "metadata": {},
   "outputs": [
    {
     "data": {
      "text/plain": [
       "193"
      ]
     },
     "execution_count": 81,
     "metadata": {},
     "output_type": "execute_result"
    }
   ],
   "source": [
    "len(alcohol)"
   ]
  },
  {
   "cell_type": "code",
   "execution_count": 82,
   "id": "63bc3fbf",
   "metadata": {},
   "outputs": [
    {
     "data": {
      "text/plain": [
       "False"
      ]
     },
     "execution_count": 82,
     "metadata": {},
     "output_type": "execute_result"
    }
   ],
   "source": [
    "alcohol.is_unique"
   ]
  },
  {
   "cell_type": "code",
   "execution_count": 83,
   "id": "0f2338cb",
   "metadata": {},
   "outputs": [
    {
     "data": {
      "text/plain": [
       "True"
      ]
     },
     "execution_count": 83,
     "metadata": {},
     "output_type": "execute_result"
    }
   ],
   "source": [
    "alcohol.head().is_unique"
   ]
  },
  {
   "cell_type": "code",
   "execution_count": 84,
   "id": "301cf9a1",
   "metadata": {},
   "outputs": [
    {
     "data": {
      "text/plain": [
       "<bound method IndexOpsMixin.nunique of country\n",
       "Afghanistan               NaN\n",
       "Albania                  54.0\n",
       "Algeria                  14.0\n",
       "Andorra                 312.0\n",
       "Angola                   45.0\n",
       "Antigua & Barbuda        45.0\n",
       "Argentina               221.0\n",
       "Armenia                  11.0\n",
       "Australia               212.0\n",
       "Austria                 191.0\n",
       "Azerbaijan                5.0\n",
       "Bahamas                  51.0\n",
       "Bahrain                   7.0\n",
       "Bangladesh                NaN\n",
       "Barbados                 36.0\n",
       "Belarus                  42.0\n",
       "Belgium                 212.0\n",
       "Belize                    8.0\n",
       "Benin                    13.0\n",
       "Bhutan                    NaN\n",
       "                        ...  \n",
       "Tonga                     5.0\n",
       "Trinidad & Tobago         7.0\n",
       "Tunisia                   2.0\n",
       "Turkey                    7.0\n",
       "Turkmenistan             32.0\n",
       "Tuvalu                    9.0\n",
       "Uganda                    NaN\n",
       "Ukraine                  45.0\n",
       "United Arab Emirates      5.0\n",
       "United Kingdom          195.0\n",
       "Tanzania                  1.0\n",
       "USA                      84.0\n",
       "Uruguay                  22.0\n",
       "Uzbekistan                8.0\n",
       "Vanuatu                  11.0\n",
       "Venezuela                 3.0\n",
       "Vietnam                   1.0\n",
       "Yemen                     NaN\n",
       "Zambia                    4.0\n",
       "Zimbabwe                  4.0\n",
       "Name: wine_servings, Length: 193, dtype: float64>"
      ]
     },
     "execution_count": 84,
     "metadata": {},
     "output_type": "execute_result"
    }
   ],
   "source": [
    "alcohol.nunique"
   ]
  },
  {
   "cell_type": "code",
   "execution_count": 85,
   "id": "200a3072",
   "metadata": {},
   "outputs": [
    {
     "data": {
      "text/plain": [
       "71"
      ]
     },
     "execution_count": 85,
     "metadata": {},
     "output_type": "execute_result"
    }
   ],
   "source": [
    "alcohol.nunique()"
   ]
  },
  {
   "cell_type": "code",
   "execution_count": 86,
   "id": "7777011a",
   "metadata": {},
   "outputs": [
    {
     "data": {
      "text/plain": [
       "72"
      ]
     },
     "execution_count": 86,
     "metadata": {},
     "output_type": "execute_result"
    }
   ],
   "source": [
    "alcohol.nunique(dropna=False)"
   ]
  },
  {
   "cell_type": "code",
   "execution_count": 87,
   "id": "f6abc9da",
   "metadata": {},
   "outputs": [
    {
     "data": {
      "text/plain": [
       "np.int64(162)"
      ]
     },
     "execution_count": 87,
     "metadata": {},
     "output_type": "execute_result"
    }
   ],
   "source": [
    "alcohol.count()"
   ]
  },
  {
   "cell_type": "code",
   "execution_count": 88,
   "id": "06d4a35a",
   "metadata": {},
   "outputs": [
    {
     "data": {
      "text/plain": [
       "True"
      ]
     },
     "execution_count": 88,
     "metadata": {},
     "output_type": "execute_result"
    }
   ],
   "source": [
    "alcohol.hasnans"
   ]
  },
  {
   "cell_type": "code",
   "execution_count": 89,
   "id": "6d71c98c",
   "metadata": {},
   "outputs": [
    {
     "data": {
      "text/plain": [
       "<bound method Series.isnull of country\n",
       "Afghanistan               NaN\n",
       "Albania                  54.0\n",
       "Algeria                  14.0\n",
       "Andorra                 312.0\n",
       "Angola                   45.0\n",
       "Antigua & Barbuda        45.0\n",
       "Argentina               221.0\n",
       "Armenia                  11.0\n",
       "Australia               212.0\n",
       "Austria                 191.0\n",
       "Azerbaijan                5.0\n",
       "Bahamas                  51.0\n",
       "Bahrain                   7.0\n",
       "Bangladesh                NaN\n",
       "Barbados                 36.0\n",
       "Belarus                  42.0\n",
       "Belgium                 212.0\n",
       "Belize                    8.0\n",
       "Benin                    13.0\n",
       "Bhutan                    NaN\n",
       "                        ...  \n",
       "Tonga                     5.0\n",
       "Trinidad & Tobago         7.0\n",
       "Tunisia                   2.0\n",
       "Turkey                    7.0\n",
       "Turkmenistan             32.0\n",
       "Tuvalu                    9.0\n",
       "Uganda                    NaN\n",
       "Ukraine                  45.0\n",
       "United Arab Emirates      5.0\n",
       "United Kingdom          195.0\n",
       "Tanzania                  1.0\n",
       "USA                      84.0\n",
       "Uruguay                  22.0\n",
       "Uzbekistan                8.0\n",
       "Vanuatu                  11.0\n",
       "Venezuela                 3.0\n",
       "Vietnam                   1.0\n",
       "Yemen                     NaN\n",
       "Zambia                    4.0\n",
       "Zimbabwe                  4.0\n",
       "Name: wine_servings, Length: 193, dtype: float64>"
      ]
     },
     "execution_count": 89,
     "metadata": {},
     "output_type": "execute_result"
    }
   ],
   "source": [
    "alcohol.isnull"
   ]
  },
  {
   "cell_type": "code",
   "execution_count": 90,
   "id": "3cfa56bc",
   "metadata": {},
   "outputs": [
    {
     "data": {
      "text/plain": [
       "country\n",
       "Afghanistan              True\n",
       "Albania                 False\n",
       "Algeria                 False\n",
       "Andorra                 False\n",
       "Angola                  False\n",
       "Antigua & Barbuda       False\n",
       "Argentina               False\n",
       "Armenia                 False\n",
       "Australia               False\n",
       "Austria                 False\n",
       "Azerbaijan              False\n",
       "Bahamas                 False\n",
       "Bahrain                 False\n",
       "Bangladesh               True\n",
       "Barbados                False\n",
       "Belarus                 False\n",
       "Belgium                 False\n",
       "Belize                  False\n",
       "Benin                   False\n",
       "Bhutan                   True\n",
       "                        ...  \n",
       "Tonga                   False\n",
       "Trinidad & Tobago       False\n",
       "Tunisia                 False\n",
       "Turkey                  False\n",
       "Turkmenistan            False\n",
       "Tuvalu                  False\n",
       "Uganda                   True\n",
       "Ukraine                 False\n",
       "United Arab Emirates    False\n",
       "United Kingdom          False\n",
       "Tanzania                False\n",
       "USA                     False\n",
       "Uruguay                 False\n",
       "Uzbekistan              False\n",
       "Vanuatu                 False\n",
       "Venezuela               False\n",
       "Vietnam                 False\n",
       "Yemen                    True\n",
       "Zambia                  False\n",
       "Zimbabwe                False\n",
       "Name: wine_servings, Length: 193, dtype: bool"
      ]
     },
     "execution_count": 90,
     "metadata": {},
     "output_type": "execute_result"
    }
   ],
   "source": [
    "alcohol.isnull()"
   ]
  },
  {
   "cell_type": "code",
   "execution_count": 91,
   "id": "0bafd4d5",
   "metadata": {},
   "outputs": [
    {
     "data": {
      "text/plain": [
       "np.int64(31)"
      ]
     },
     "execution_count": 91,
     "metadata": {},
     "output_type": "execute_result"
    }
   ],
   "source": [
    "alcohol.isnull().sum()"
   ]
  },
  {
   "cell_type": "code",
   "execution_count": 92,
   "id": "6a68890e",
   "metadata": {},
   "outputs": [
    {
     "data": {
      "text/plain": [
       "country\n",
       "Afghanistan        NaN\n",
       "Bangladesh         NaN\n",
       "Bhutan             NaN\n",
       "Burundi            NaN\n",
       "North Korea        NaN\n",
       "Eritrea            NaN\n",
       "Ethiopia           NaN\n",
       "India              NaN\n",
       "Indonesia          NaN\n",
       "Iran               NaN\n",
       "Iraq               NaN\n",
       "Kuwait             NaN\n",
       "Lesotho            NaN\n",
       "Libya              NaN\n",
       "Malaysia           NaN\n",
       "Maldives           NaN\n",
       "Marshall Islands   NaN\n",
       "Mauritania         NaN\n",
       "Monaco             NaN\n",
       "Myanmar            NaN\n",
       "Nepal              NaN\n",
       "Pakistan           NaN\n",
       "Rwanda             NaN\n",
       "San Marino         NaN\n",
       "Saudi Arabia       NaN\n",
       "Somalia            NaN\n",
       "Sri Lanka          NaN\n",
       "Sudan              NaN\n",
       "Tajikistan         NaN\n",
       "Uganda             NaN\n",
       "Yemen              NaN\n",
       "Name: wine_servings, dtype: float64"
      ]
     },
     "execution_count": 92,
     "metadata": {},
     "output_type": "execute_result"
    }
   ],
   "source": [
    "alcohol[alcohol.isnull()]"
   ]
  },
  {
   "cell_type": "code",
   "execution_count": 93,
   "id": "69cbbc7a",
   "metadata": {},
   "outputs": [
    {
     "data": {
      "text/plain": [
       "Index(['Afghanistan', 'Bangladesh', 'Bhutan', 'Burundi', 'North Korea',\n",
       "       'Eritrea', 'Ethiopia', 'India', 'Indonesia', 'Iran', 'Iraq', 'Kuwait',\n",
       "       'Lesotho', 'Libya', 'Malaysia', 'Maldives', 'Marshall Islands',\n",
       "       'Mauritania', 'Monaco', 'Myanmar', 'Nepal', 'Pakistan', 'Rwanda',\n",
       "       'San Marino', 'Saudi Arabia', 'Somalia', 'Sri Lanka', 'Sudan',\n",
       "       'Tajikistan', 'Uganda', 'Yemen'],\n",
       "      dtype='object', name='country')"
      ]
     },
     "execution_count": 93,
     "metadata": {},
     "output_type": "execute_result"
    }
   ],
   "source": [
    "alcohol[alcohol.isnull()].index"
   ]
  },
  {
   "cell_type": "code",
   "execution_count": 94,
   "id": "70910750",
   "metadata": {},
   "outputs": [
    {
     "data": {
      "text/plain": [
       "['Afghanistan',\n",
       " 'Bangladesh',\n",
       " 'Bhutan',\n",
       " 'Burundi',\n",
       " 'North Korea',\n",
       " 'Eritrea',\n",
       " 'Ethiopia',\n",
       " 'India',\n",
       " 'Indonesia',\n",
       " 'Iran',\n",
       " 'Iraq',\n",
       " 'Kuwait',\n",
       " 'Lesotho',\n",
       " 'Libya',\n",
       " 'Malaysia',\n",
       " 'Maldives',\n",
       " 'Marshall Islands',\n",
       " 'Mauritania',\n",
       " 'Monaco',\n",
       " 'Myanmar',\n",
       " 'Nepal',\n",
       " 'Pakistan',\n",
       " 'Rwanda',\n",
       " 'San Marino',\n",
       " 'Saudi Arabia',\n",
       " 'Somalia',\n",
       " 'Sri Lanka',\n",
       " 'Sudan',\n",
       " 'Tajikistan',\n",
       " 'Uganda',\n",
       " 'Yemen']"
      ]
     },
     "execution_count": 94,
     "metadata": {},
     "output_type": "execute_result"
    }
   ],
   "source": [
    "list(alcohol[alcohol.isnull()].index)"
   ]
  },
  {
   "cell_type": "code",
   "execution_count": 95,
   "id": "1ede4a7f",
   "metadata": {},
   "outputs": [
    {
     "data": {
      "text/plain": [
       "31"
      ]
     },
     "execution_count": 95,
     "metadata": {},
     "output_type": "execute_result"
    }
   ],
   "source": [
    "len(list(alcohol[alcohol.isnull()].index))"
   ]
  },
  {
   "cell_type": "code",
   "execution_count": 96,
   "id": "fbda5e37",
   "metadata": {},
   "outputs": [
    {
     "data": {
      "text/plain": [
       "2"
      ]
     },
     "execution_count": 96,
     "metadata": {},
     "output_type": "execute_result"
    }
   ],
   "source": [
    "sum([True, False, True])"
   ]
  }
 ],
 "metadata": {
  "kernelspec": {
   "display_name": "Python 3",
   "language": "python",
   "name": "python3"
  },
  "language_info": {
   "codemirror_mode": {
    "name": "ipython",
    "version": 3
   },
   "file_extension": ".py",
   "mimetype": "text/x-python",
   "name": "python",
   "nbconvert_exporter": "python",
   "pygments_lexer": "ipython3",
   "version": "3.13.2"
  }
 },
 "nbformat": 4,
 "nbformat_minor": 5
}
