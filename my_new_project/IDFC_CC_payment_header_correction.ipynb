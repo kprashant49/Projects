{
 "cells": [
  {
   "cell_type": "code",
   "execution_count": 1,
   "id": "ab771946-445b-4055-be0c-bd5f9f2d2488",
   "metadata": {},
   "outputs": [],
   "source": [
    "import pandas as pd\n",
    "import re\n",
    "file_path = 'C:/Users/PrashantKumar/OneDrive - Pepper India Resolution Private Limited/Desktop/Paid_File.xlsx'\n",
    "sheet_name = 'Sheet1'\n",
    "payment_file = pd.read_excel(file_path, sheet_name=sheet_name)"
   ]
  },
  {
   "cell_type": "code",
   "execution_count": 2,
   "id": "1ca795e8-b878-4ce3-837d-d3204d0470d4",
   "metadata": {},
   "outputs": [
    {
     "name": "stdout",
     "output_type": "stream",
     "text": [
      "['Paid', 'DOP']\n"
     ]
    }
   ],
   "source": [
    "categorical_cols = payment_file.select_dtypes(include=['object', 'category', 'bool']).columns\n",
    "categorical_cols_list = categorical_cols.tolist()\n",
    "print(categorical_cols_list)"
   ]
  },
  {
   "cell_type": "code",
   "execution_count": null,
   "id": "f14c3673-e28d-4191-b64f-e3c8e973172f",
   "metadata": {},
   "outputs": [
    {
     "name": "stdout",
     "output_type": "stream",
     "text": [
      "      CUSTOMER_IDENTIFICATION_NUMBER  ACCOUNT_NUMBER        POS  \\\n",
      "0                         6366188798  40000001073594  561976.80   \n",
      "1                         6359048612  40000001123696  429104.91   \n",
      "2                         1028353549  30100000448094  398001.24   \n",
      "3                         5020297955  30100000319766  396167.88   \n",
      "4                         5005503978  30100000984734  382014.92   \n",
      "...                              ...             ...        ...   \n",
      "4057                      5792165157  30000000643654    5687.11   \n",
      "4058                      5043564369  30100003308410    5404.85   \n",
      "4059                      5828341659  30100002331827    4870.97   \n",
      "4060                      5015341063  20300002387629    3665.55   \n",
      "4061                      6128747502  30000000460315    3274.72   \n",
      "\n",
      "     Payment_Status                  DOP  Current  \n",
      "0              Paid  2025-04-08 00:00:00      0.0  \n",
      "1              Paid  2025-04-05 00:00:00      0.0  \n",
      "2              Paid  2025-04-11 00:00:00      0.0  \n",
      "3              Paid  2025-04-10 00:00:00      0.0  \n",
      "4              Paid  2025-04-09 00:00:00      0.0  \n",
      "...             ...                  ...      ...  \n",
      "4057           Paid  2025-04-13 00:00:00   5488.0  \n",
      "4058           Paid  2025-04-13 00:00:00      0.0  \n",
      "4059           Paid  2025-04-14 00:00:00      0.0  \n",
      "4060           Paid  2025-04-16 00:00:00      0.0  \n",
      "4061           Paid  2025-04-12 00:00:00      0.0  \n",
      "\n",
      "[4062 rows x 6 columns]\n"
     ]
    }
   ],
   "source": [
    "values_to_find = [\"Paid\", \"Unpaid\"]\n",
    "\n",
    "for col in payment_file.columns:\n",
    "    if all(val in payment_file[col].values for val in values_to_find):\n",
    "        payment_file = payment_file.rename(columns={col: 'Paid'})\n",
    "        break\n",
    "print(payment_file)"
   ]
  },
  {
   "cell_type": "code",
   "execution_count": null,
   "id": "ada2cf50-a024-452a-8730-c7f4d75391bd",
   "metadata": {},
   "outputs": [
    {
     "name": "stdout",
     "output_type": "stream",
     "text": [
      "      CUSTOMER_IDENTIFICATION_NUMBER  Loan_Account_Number        POS  \\\n",
      "0                         6366188798       40000001073594  561976.80   \n",
      "1                         6359048612       40000001123696  429104.91   \n",
      "2                         1028353549       30100000448094  398001.24   \n",
      "3                         5020297955       30100000319766  396167.88   \n",
      "4                         5005503978       30100000984734  382014.92   \n",
      "...                              ...                  ...        ...   \n",
      "4057                      5792165157       30000000643654    5687.11   \n",
      "4058                      5043564369       30100003308410    5404.85   \n",
      "4059                      5828341659       30100002331827    4870.97   \n",
      "4060                      5015341063       20300002387629    3665.55   \n",
      "4061                      6128747502       30000000460315    3274.72   \n",
      "\n",
      "     Payment_Status                  DOP  Current  \n",
      "0              Paid  2025-04-08 00:00:00      0.0  \n",
      "1              Paid  2025-04-05 00:00:00      0.0  \n",
      "2              Paid  2025-04-11 00:00:00      0.0  \n",
      "3              Paid  2025-04-10 00:00:00      0.0  \n",
      "4              Paid  2025-04-09 00:00:00      0.0  \n",
      "...             ...                  ...      ...  \n",
      "4057           Paid  2025-04-13 00:00:00   5488.0  \n",
      "4058           Paid  2025-04-13 00:00:00      0.0  \n",
      "4059           Paid  2025-04-14 00:00:00      0.0  \n",
      "4060           Paid  2025-04-16 00:00:00      0.0  \n",
      "4061           Paid  2025-04-12 00:00:00      0.0  \n",
      "\n",
      "[4062 rows x 6 columns]\n"
     ]
    }
   ],
   "source": [
    "digit_14_pattern = r'^\\d{14}$'\n",
    "\n",
    "for col in payment_file.columns:\n",
    "    if payment_file[col].apply(lambda x: bool(re.match(digit_14_pattern, str(x)))).all():\n",
    "        payment_file.rename(columns={col: 'Loan_Account_Number'}, inplace=True)\n",
    "        break\n",
    "print(payment_file)"
   ]
  },
  {
   "cell_type": "code",
   "execution_count": null,
   "id": "165c3723-bcaf-40d4-a703-f711c68181b5",
   "metadata": {},
   "outputs": [
    {
     "name": "stdout",
     "output_type": "stream",
     "text": [
      "      CUSTOMER_IDENTIFICATION_NUMBER  Loan_Account_Number        POS  \\\n",
      "0                         6366188798       40000001073594  561976.80   \n",
      "1                         6359048612       40000001123696  429104.91   \n",
      "2                         1028353549       30100000448094  398001.24   \n",
      "3                         5020297955       30100000319766  396167.88   \n",
      "4                         5005503978       30100000984734  382014.92   \n",
      "...                              ...                  ...        ...   \n",
      "4057                      5792165157       30000000643654    5687.11   \n",
      "4058                      5043564369       30100003308410    5404.85   \n",
      "4059                      5828341659       30100002331827    4870.97   \n",
      "4060                      5015341063       20300002387629    3665.55   \n",
      "4061                      6128747502       30000000460315    3274.72   \n",
      "\n",
      "     Payment_Status         Payment_Date  Current  \n",
      "0              Paid  2025-04-08 00:00:00      0.0  \n",
      "1              Paid  2025-04-05 00:00:00      0.0  \n",
      "2              Paid  2025-04-11 00:00:00      0.0  \n",
      "3              Paid  2025-04-10 00:00:00      0.0  \n",
      "4              Paid  2025-04-09 00:00:00      0.0  \n",
      "...             ...                  ...      ...  \n",
      "4057           Paid  2025-04-13 00:00:00   5488.0  \n",
      "4058           Paid  2025-04-13 00:00:00      0.0  \n",
      "4059           Paid  2025-04-14 00:00:00      0.0  \n",
      "4060           Paid  2025-04-16 00:00:00      0.0  \n",
      "4061           Paid  2025-04-12 00:00:00      0.0  \n",
      "\n",
      "[4062 rows x 6 columns]\n"
     ]
    }
   ],
   "source": [
    "datetime_pattern = r'^\\d{4}-\\d{2}-\\d{2} \\d{2}:\\d{2}:\\d{2}$'\n",
    "\n",
    "for col in payment_file.columns:\n",
    "    if payment_file[col].apply(lambda x: bool(re.match(datetime_pattern, str(x)))).any():\n",
    "        payment_file.rename(columns={col: 'DOP'}, inplace=True)\n",
    "        break\n",
    "print(payment_file)"
   ]
  }
 ],
 "metadata": {
  "kernelspec": {
   "display_name": "base",
   "language": "python",
   "name": "python3"
  },
  "language_info": {
   "codemirror_mode": {
    "name": "ipython",
    "version": 3
   },
   "file_extension": ".py",
   "mimetype": "text/x-python",
   "name": "python",
   "nbconvert_exporter": "python",
   "pygments_lexer": "ipython3",
   "version": "3.12.7"
  }
 },
 "nbformat": 4,
 "nbformat_minor": 5
}
